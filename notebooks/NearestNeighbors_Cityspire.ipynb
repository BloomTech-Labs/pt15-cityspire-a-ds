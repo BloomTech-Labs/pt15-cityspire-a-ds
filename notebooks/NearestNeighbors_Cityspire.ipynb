{
  "nbformat": 4,
  "nbformat_minor": 0,
  "metadata": {
    "colab": {
      "name": "NearestNeighbors_Cityspire.ipynb",
      "provenance": [],
      "collapsed_sections": [],
      "toc_visible": true
    },
    "kernelspec": {
      "name": "python3",
      "display_name": "Python 3"
    }
  },
  "cells": [
    {
      "cell_type": "markdown",
      "metadata": {
        "id": "_QkWyDaW5F07"
      },
      "source": [
        "# Recommendation Model for Cityspire\n",
        "\n",
        "This model will create a list of suggested city_states based off of user preferrences\n",
        "1. base model will create list based off of a city_state\n",
        "  - \"Newark, New Jersey\"\n",
        "2. final model will create list based off of user defined preferrences\n",
        "  - population size\n",
        "  - crime rate\n",
        "  - rental rate\n",
        "  - walk score\n"
      ]
    },
    {
      "cell_type": "markdown",
      "metadata": {
        "id": "Vglc0quOBolX"
      },
      "source": [
        "## Base Model"
      ]
    },
    {
      "cell_type": "code",
      "metadata": {
        "id": "yi2KGWMMpQjW"
      },
      "source": [
        "import pandas as pd"
      ],
      "execution_count": null,
      "outputs": []
    },
    {
      "cell_type": "code",
      "metadata": {
        "id": "cwDxacnspXz3",
        "colab": {
          "base_uri": "https://localhost:8080/",
          "height": 204
        },
        "outputId": "0227b88a-8756-470d-e062-22fd8993391a"
      },
      "source": [
        "# load in dataset of merged predicted values of population, crime rate, rental rate and walk score\n",
        "URL = \"https://raw.githubusercontent.com/JeffreyAsuncion/LambdaLabs/main/cityspire-a-ds/Datasets_csv/pop_cc_rr_ws.csv\"\n",
        "df = pd.read_csv(URL)\n",
        "df.head()"
      ],
      "execution_count": null,
      "outputs": [
        {
          "output_type": "execute_result",
          "data": {
            "text/html": [
              "<div>\n",
              "<style scoped>\n",
              "    .dataframe tbody tr th:only-of-type {\n",
              "        vertical-align: middle;\n",
              "    }\n",
              "\n",
              "    .dataframe tbody tr th {\n",
              "        vertical-align: top;\n",
              "    }\n",
              "\n",
              "    .dataframe thead th {\n",
              "        text-align: right;\n",
              "    }\n",
              "</style>\n",
              "<table border=\"1\" class=\"dataframe\">\n",
              "  <thead>\n",
              "    <tr style=\"text-align: right;\">\n",
              "      <th></th>\n",
              "      <th>city_state</th>\n",
              "      <th>id_num</th>\n",
              "      <th>population</th>\n",
              "      <th>crime_rate</th>\n",
              "      <th>rental_rate</th>\n",
              "      <th>walk_score</th>\n",
              "    </tr>\n",
              "  </thead>\n",
              "  <tbody>\n",
              "    <tr>\n",
              "      <th>0</th>\n",
              "      <td>El Dorado Hills, California</td>\n",
              "      <td>0</td>\n",
              "      <td>46192.0</td>\n",
              "      <td>46.36</td>\n",
              "      <td>2477.6</td>\n",
              "      <td>12.0</td>\n",
              "    </tr>\n",
              "    <tr>\n",
              "      <th>1</th>\n",
              "      <td>Eldridge, California</td>\n",
              "      <td>1</td>\n",
              "      <td>1208.0</td>\n",
              "      <td>46.36</td>\n",
              "      <td>2477.6</td>\n",
              "      <td>44.5</td>\n",
              "    </tr>\n",
              "    <tr>\n",
              "      <th>2</th>\n",
              "      <td>El Granada, California</td>\n",
              "      <td>2</td>\n",
              "      <td>6695.0</td>\n",
              "      <td>46.36</td>\n",
              "      <td>2477.6</td>\n",
              "      <td>44.5</td>\n",
              "    </tr>\n",
              "    <tr>\n",
              "      <th>3</th>\n",
              "      <td>Elizabeth Lake, California</td>\n",
              "      <td>3</td>\n",
              "      <td>1941.0</td>\n",
              "      <td>46.36</td>\n",
              "      <td>2477.6</td>\n",
              "      <td>44.5</td>\n",
              "    </tr>\n",
              "    <tr>\n",
              "      <th>4</th>\n",
              "      <td>Elk Creek, California</td>\n",
              "      <td>4</td>\n",
              "      <td>239.0</td>\n",
              "      <td>46.36</td>\n",
              "      <td>2477.6</td>\n",
              "      <td>44.5</td>\n",
              "    </tr>\n",
              "  </tbody>\n",
              "</table>\n",
              "</div>"
            ],
            "text/plain": [
              "                    city_state  id_num  ...  rental_rate  walk_score\n",
              "0  El Dorado Hills, California       0  ...       2477.6        12.0\n",
              "1         Eldridge, California       1  ...       2477.6        44.5\n",
              "2       El Granada, California       2  ...       2477.6        44.5\n",
              "3   Elizabeth Lake, California       3  ...       2477.6        44.5\n",
              "4        Elk Creek, California       4  ...       2477.6        44.5\n",
              "\n",
              "[5 rows x 6 columns]"
            ]
          },
          "metadata": {
            "tags": []
          },
          "execution_count": 2
        }
      ]
    },
    {
      "cell_type": "code",
      "metadata": {
        "colab": {
          "base_uri": "https://localhost:8080/",
          "height": 80
        },
        "id": "TR5Kt4_evbnx",
        "outputId": "57e252a4-bcaa-4ea8-8f75-158693dcf166"
      },
      "source": [
        "df[df[\"city_state\"] == \"Newark, New Jersey\"]"
      ],
      "execution_count": null,
      "outputs": [
        {
          "output_type": "execute_result",
          "data": {
            "text/html": [
              "<div>\n",
              "<style scoped>\n",
              "    .dataframe tbody tr th:only-of-type {\n",
              "        vertical-align: middle;\n",
              "    }\n",
              "\n",
              "    .dataframe tbody tr th {\n",
              "        vertical-align: top;\n",
              "    }\n",
              "\n",
              "    .dataframe thead th {\n",
              "        text-align: right;\n",
              "    }\n",
              "</style>\n",
              "<table border=\"1\" class=\"dataframe\">\n",
              "  <thead>\n",
              "    <tr style=\"text-align: right;\">\n",
              "      <th></th>\n",
              "      <th>city_state</th>\n",
              "      <th>id_num</th>\n",
              "      <th>population</th>\n",
              "      <th>crime_rate</th>\n",
              "      <th>rental_rate</th>\n",
              "      <th>walk_score</th>\n",
              "    </tr>\n",
              "  </thead>\n",
              "  <tbody>\n",
              "    <tr>\n",
              "      <th>18127</th>\n",
              "      <td>Newark, New Jersey</td>\n",
              "      <td>17089</td>\n",
              "      <td>283945.0</td>\n",
              "      <td>27.4</td>\n",
              "      <td>1466.89</td>\n",
              "      <td>79.0</td>\n",
              "    </tr>\n",
              "  </tbody>\n",
              "</table>\n",
              "</div>"
            ],
            "text/plain": [
              "               city_state  id_num  ...  rental_rate  walk_score\n",
              "18127  Newark, New Jersey   17089  ...      1466.89        79.0\n",
              "\n",
              "[1 rows x 6 columns]"
            ]
          },
          "metadata": {
            "tags": []
          },
          "execution_count": 3
        }
      ]
    },
    {
      "cell_type": "code",
      "metadata": {
        "colab": {
          "base_uri": "https://localhost:8080/"
        },
        "id": "-Q-BnnyxhIir",
        "outputId": "01310fc1-5aa3-4450-b277-101892b2b084"
      },
      "source": [
        "df.isnull().count()"
      ],
      "execution_count": null,
      "outputs": [
        {
          "output_type": "execute_result",
          "data": {
            "text/plain": [
              "city_state     29626\n",
              "id_num         29626\n",
              "population     29626\n",
              "crime_rate     29626\n",
              "rental_rate    29626\n",
              "walk_score     29626\n",
              "dtype: int64"
            ]
          },
          "metadata": {
            "tags": []
          },
          "execution_count": 4
        }
      ]
    },
    {
      "cell_type": "code",
      "metadata": {
        "colab": {
          "base_uri": "https://localhost:8080/"
        },
        "id": "P2TBWULDqOFP",
        "outputId": "3fdd4920-037b-457f-e43a-f8ad4ab5386a"
      },
      "source": [
        "df.shape"
      ],
      "execution_count": null,
      "outputs": [
        {
          "output_type": "execute_result",
          "data": {
            "text/plain": [
              "(29626, 6)"
            ]
          },
          "metadata": {
            "tags": []
          },
          "execution_count": 5
        }
      ]
    },
    {
      "cell_type": "code",
      "metadata": {
        "colab": {
          "base_uri": "https://localhost:8080/"
        },
        "id": "ReJl5SWlqP2I",
        "outputId": "908e4218-9302-42c0-e36a-3a2df97eff8d"
      },
      "source": [
        "from sklearn.neighbors import NearestNeighbors\r\n",
        "\r\n",
        "state_id = 18127 # Newark, New Jersey\t17089\t283945.0\t27.4\t1466.89\t79.0\r\n",
        "\r\n",
        "# Instantiate and fit knn to the correct columns\r\n",
        "NN = NearestNeighbors(n_neighbors=10, algorithm='ball_tree')\r\n",
        "\r\n",
        "# [2:] is to ignore the 1st 2 columns 'city_state', 'id'\r\n",
        "NN.fit(df[df.columns[2:]])\r\n",
        "\r\n",
        "# take 'state id' as INPUT\r\n",
        "state_index = df.index[df['id_num'] == state_id]\r\n",
        "\r\n",
        "# use 'state_id' to find state features\r\n",
        "state_features = df.iloc[state_index, 2:].to_numpy()\r\n",
        "\r\n",
        "dist, indices = NN.kneighbors(state_features)\r\n",
        "\r\n",
        "recommended_list = list(df.loc[indices[0], 'id_num'])\r\n",
        "recommended_list"
      ],
      "execution_count": null,
      "outputs": [
        {
          "output_type": "execute_result",
          "data": {
            "text/plain": [
              "[18127, 17995, 18362, 6809, 25360, 25290, 24503, 6978, 24321, 12237]"
            ]
          },
          "metadata": {
            "tags": []
          },
          "execution_count": 6
        }
      ]
    },
    {
      "cell_type": "code",
      "metadata": {
        "id": "a4MbYjUmsLsj"
      },
      "source": [
        "results = []\r\n",
        "for i in range(len(recommended_list)):\r\n",
        "  r_list = df[df['id_num']==recommended_list[i]]\r\n",
        "  r = r_list.to_dict('records')\r\n",
        "  results.append(r)"
      ],
      "execution_count": null,
      "outputs": []
    },
    {
      "cell_type": "code",
      "metadata": {
        "colab": {
          "base_uri": "https://localhost:8080/"
        },
        "id": "II_dWDU3smus",
        "outputId": "0929334f-b73b-4f0e-f9ee-1c07e487d6f5"
      },
      "source": [
        "results[0]"
      ],
      "execution_count": null,
      "outputs": [
        {
          "output_type": "execute_result",
          "data": {
            "text/plain": [
              "[{'city_state': 'Garden City South, New York',\n",
              "  'crime_rate': 22.9,\n",
              "  'id_num': 18127,\n",
              "  'population': 4442.0,\n",
              "  'rental_rate': 1361.25,\n",
              "  'walk_score': 48.41}]"
            ]
          },
          "metadata": {
            "tags": []
          },
          "execution_count": 8
        }
      ]
    },
    {
      "cell_type": "code",
      "metadata": {
        "colab": {
          "base_uri": "https://localhost:8080/"
        },
        "id": "t3cr8_XUtjck",
        "outputId": "e6051b4f-09ba-43cf-feb0-7fa65ff809a0"
      },
      "source": [
        "results[1]"
      ],
      "execution_count": null,
      "outputs": [
        {
          "output_type": "execute_result",
          "data": {
            "text/plain": [
              "[{'city_state': 'Dansville, New York',\n",
              "  'crime_rate': 22.9,\n",
              "  'id_num': 17995,\n",
              "  'population': 4427.0,\n",
              "  'rental_rate': 1361.25,\n",
              "  'walk_score': 48.41}]"
            ]
          },
          "metadata": {
            "tags": []
          },
          "execution_count": 9
        }
      ]
    },
    {
      "cell_type": "code",
      "metadata": {
        "colab": {
          "base_uri": "https://localhost:8080/"
        },
        "id": "J0OMWd7Gu8M4",
        "outputId": "fa394401-591c-4ac0-bb8f-4a6f75a44697"
      },
      "source": [
        "results[2]"
      ],
      "execution_count": null,
      "outputs": [
        {
          "output_type": "execute_result",
          "data": {
            "text/plain": [
              "[{'city_state': 'Manlius, New York',\n",
              "  'crime_rate': 22.9,\n",
              "  'id_num': 18362,\n",
              "  'population': 4463.0,\n",
              "  'rental_rate': 1361.25,\n",
              "  'walk_score': 48.41}]"
            ]
          },
          "metadata": {
            "tags": []
          },
          "execution_count": 10
        }
      ]
    },
    {
      "cell_type": "code",
      "metadata": {
        "colab": {
          "base_uri": "https://localhost:8080/"
        },
        "id": "8OzpHpvevCS8",
        "outputId": "df61ebb2-b566-43b9-cb4a-a1ad3964a923"
      },
      "source": [
        "results[3]"
      ],
      "execution_count": null,
      "outputs": [
        {
          "output_type": "execute_result",
          "data": {
            "text/plain": [
              "[{'city_state': 'Buhl, Idaho',\n",
              "  'crime_rate': 22.1,\n",
              "  'id_num': 6809,\n",
              "  'population': 4446.0,\n",
              "  'rental_rate': 1343.1,\n",
              "  'walk_score': 33.77}]"
            ]
          },
          "metadata": {
            "tags": []
          },
          "execution_count": 11
        }
      ]
    },
    {
      "cell_type": "markdown",
      "metadata": {
        "id": "zJc21JgYAYhb"
      },
      "source": [
        "base model as a function"
      ]
    },
    {
      "cell_type": "code",
      "metadata": {
        "id": "580vqGGZAMgi"
      },
      "source": [
        "def base_model(state_id : int):\n",
        "    \n",
        "    # Instantiate and fit knn to the correct columns\n",
        "    NN = NearestNeighbors(n_neighbors=10, algorithm='ball_tree')\n",
        "\n",
        "    # [2:] is to ignore the 1st 2 columns 'city_state', 'id'\n",
        "    NN.fit(df[df.columns[2:]])\n",
        "\n",
        "    # take 'state id' as INPUT\n",
        "    state_index = df.index[df['id_num'] == state_id]\n",
        "\n",
        "    # use 'state_id' to find state features\n",
        "    state_features = df.iloc[state_index, 2:].to_numpy()\n",
        "\n",
        "    dist, indices = NN.kneighbors(state_features)\n",
        "\n",
        "    recommended_list = list(df.loc[indices[0], 'id_num'])\n",
        "\n",
        "    results = []\n",
        "    for i in range(len(recommended_list)):\n",
        "      r_list = df[df['id_num']==recommended_list[i]]\n",
        "      r = r_list.to_dict('records')\n",
        "      results.append(r)\n",
        "\n",
        "    return results"
      ],
      "execution_count": null,
      "outputs": []
    },
    {
      "cell_type": "code",
      "metadata": {
        "id": "IokDRdooBT-5"
      },
      "source": [
        "results = base_model(18127)"
      ],
      "execution_count": null,
      "outputs": []
    },
    {
      "cell_type": "code",
      "metadata": {
        "colab": {
          "base_uri": "https://localhost:8080/"
        },
        "id": "0tZY6-PABbUd",
        "outputId": "b27eeed1-fa17-4987-de8f-1444ebbc104b"
      },
      "source": [
        "results"
      ],
      "execution_count": null,
      "outputs": [
        {
          "output_type": "execute_result",
          "data": {
            "text/plain": [
              "[[{'city_state': 'Garden City South, New York',\n",
              "   'crime_rate': 22.9,\n",
              "   'id_num': 18127,\n",
              "   'population': 4442.0,\n",
              "   'rental_rate': 1361.25,\n",
              "   'walk_score': 48.41}],\n",
              " [{'city_state': 'Dansville, New York',\n",
              "   'crime_rate': 22.9,\n",
              "   'id_num': 17995,\n",
              "   'population': 4427.0,\n",
              "   'rental_rate': 1361.25,\n",
              "   'walk_score': 48.41}],\n",
              " [{'city_state': 'Manlius, New York',\n",
              "   'crime_rate': 22.9,\n",
              "   'id_num': 18362,\n",
              "   'population': 4463.0,\n",
              "   'rental_rate': 1361.25,\n",
              "   'walk_score': 48.41}],\n",
              " [{'city_state': 'Buhl, Idaho',\n",
              "   'crime_rate': 22.1,\n",
              "   'id_num': 6809,\n",
              "   'population': 4446.0,\n",
              "   'rental_rate': 1343.1,\n",
              "   'walk_score': 33.77}],\n",
              " [{'city_state': 'Whiteville, Tennessee',\n",
              "   'crime_rate': 7.3,\n",
              "   'id_num': 25360,\n",
              "   'population': 4449.0,\n",
              "   'rental_rate': 1376.53,\n",
              "   'walk_score': 21.78}],\n",
              " [{'city_state': 'Selmer, Tennessee',\n",
              "   'crime_rate': 42.5,\n",
              "   'id_num': 25290,\n",
              "   'population': 4426.0,\n",
              "   'rental_rate': 1376.53,\n",
              "   'walk_score': 21.78}],\n",
              " [{'city_state': 'Surfside Beach, South Carolina',\n",
              "   'crime_rate': 40.8,\n",
              "   'id_num': 24503,\n",
              "   'population': 4442.0,\n",
              "   'rental_rate': 1328.37,\n",
              "   'walk_score': 26.29}],\n",
              " [{'city_state': 'Shelley, Idaho',\n",
              "   'crime_rate': 14.5,\n",
              "   'id_num': 6978,\n",
              "   'population': 4401.0,\n",
              "   'rental_rate': 1343.1,\n",
              "   'walk_score': 33.77}],\n",
              " [{'city_state': 'Isle of Palms, South Carolina',\n",
              "   'crime_rate': 43.85,\n",
              "   'id_num': 24321,\n",
              "   'population': 4409.0,\n",
              "   'rental_rate': 1328.37,\n",
              "   'walk_score': 26.29}],\n",
              " [{'city_state': 'Brookfield, Missouri',\n",
              "   'crime_rate': 21.2,\n",
              "   'id_num': 12237,\n",
              "   'population': 4442.0,\n",
              "   'rental_rate': 1308.95,\n",
              "   'walk_score': 29.19}]]"
            ]
          },
          "metadata": {
            "tags": []
          },
          "execution_count": 14
        }
      ]
    },
    {
      "cell_type": "markdown",
      "metadata": {
        "id": "dPGEIhdGBwmf"
      },
      "source": [
        "## Recommendation Model with user defined features"
      ]
    },
    {
      "cell_type": "markdown",
      "metadata": {
        "id": "RqOKSjgo-xew"
      },
      "source": [
        "### Pickled Model and dataset"
      ]
    },
    {
      "cell_type": "code",
      "metadata": {
        "id": "DN4clXjO5-Mz"
      },
      "source": [
        "import pickle"
      ],
      "execution_count": null,
      "outputs": []
    },
    {
      "cell_type": "code",
      "metadata": {
        "id": "AIUNasIt5-HX"
      },
      "source": [
        "# Pickel Dataset states\r\n",
        "with open('states_dataset.pkl', 'wb') as pickle_file:\r\n",
        "    pickle.dump(df, pickle_file)"
      ],
      "execution_count": null,
      "outputs": []
    },
    {
      "cell_type": "code",
      "metadata": {
        "id": "O1-dmZ4d5-DJ"
      },
      "source": [
        "# save the model to disk\r\n",
        "filename = 'recommendation_model.sav'\r\n",
        "pickle.dump(NN, open(filename, 'wb'))"
      ],
      "execution_count": null,
      "outputs": []
    },
    {
      "cell_type": "code",
      "metadata": {
        "id": "kyT6i6K59WVR"
      },
      "source": [
        "filename = '/content/recommendation_model.sav'\r\n",
        "loaded_model = pickle.load(open(filename, 'rb'))\r\n",
        "states_pkl = pd.read_pickle(\"/content/states_dataset.pkl\")\r\n",
        "\r\n",
        "\r\n",
        "def suggest_state_ids(state_id: int):\r\n",
        "    # state_id = 18127 # Newark, New Jersey\t17089\t283945.0\t27.4\t1466.89\t79.0\r\n",
        "\r\n",
        "    # # take 'state id' as INPUT\r\n",
        "    state_index = states_pkl.index[states_pkl['id_num'] == state_id]\r\n",
        "\r\n",
        "    # # use 'song_track_id' to find audio features\r\n",
        "    state_features = states_pkl.iloc[state_index, 2:].to_numpy()\r\n",
        "\r\n",
        "    dist, indices = loaded_model.kneighbors(state_features)\r\n",
        "\r\n",
        "    recommended_list = list(states_pkl.loc[indices[0], 'id_num'])\r\n",
        "\r\n",
        "    results = []\r\n",
        "    for i in range(len(recommended_list)):\r\n",
        "      r_list = states_pkl[states_pkl['id_num']==recommended_list[i]]\r\n",
        "      r = r_list.to_dict('records')\r\n",
        "      results.append(r)\r\n",
        "    \r\n",
        "    return results"
      ],
      "execution_count": null,
      "outputs": []
    },
    {
      "cell_type": "code",
      "metadata": {
        "colab": {
          "base_uri": "https://localhost:8080/"
        },
        "id": "6DTb-JOK9WSQ",
        "outputId": "6c19fdf6-828d-4e3b-b1d0-d68538effc51"
      },
      "source": [
        "results = suggest_state_ids(18127)\r\n",
        "results"
      ],
      "execution_count": null,
      "outputs": [
        {
          "output_type": "execute_result",
          "data": {
            "text/plain": [
              "[[{'city_state': 'Garden City South, New York',\n",
              "   'crime_rate': 22.9,\n",
              "   'id_num': 18127,\n",
              "   'population': 4442.0,\n",
              "   'rental_rate': 1361.25,\n",
              "   'walk_score': 48.41}],\n",
              " [{'city_state': 'Dansville, New York',\n",
              "   'crime_rate': 22.9,\n",
              "   'id_num': 17995,\n",
              "   'population': 4427.0,\n",
              "   'rental_rate': 1361.25,\n",
              "   'walk_score': 48.41}],\n",
              " [{'city_state': 'Manlius, New York',\n",
              "   'crime_rate': 22.9,\n",
              "   'id_num': 18362,\n",
              "   'population': 4463.0,\n",
              "   'rental_rate': 1361.25,\n",
              "   'walk_score': 48.41}],\n",
              " [{'city_state': 'Buhl, Idaho',\n",
              "   'crime_rate': 22.1,\n",
              "   'id_num': 6809,\n",
              "   'population': 4446.0,\n",
              "   'rental_rate': 1343.1,\n",
              "   'walk_score': 33.77}],\n",
              " [{'city_state': 'Whiteville, Tennessee',\n",
              "   'crime_rate': 7.3,\n",
              "   'id_num': 25360,\n",
              "   'population': 4449.0,\n",
              "   'rental_rate': 1376.53,\n",
              "   'walk_score': 21.78}],\n",
              " [{'city_state': 'Selmer, Tennessee',\n",
              "   'crime_rate': 42.5,\n",
              "   'id_num': 25290,\n",
              "   'population': 4426.0,\n",
              "   'rental_rate': 1376.53,\n",
              "   'walk_score': 21.78}],\n",
              " [{'city_state': 'Surfside Beach, South Carolina',\n",
              "   'crime_rate': 40.8,\n",
              "   'id_num': 24503,\n",
              "   'population': 4442.0,\n",
              "   'rental_rate': 1328.37,\n",
              "   'walk_score': 26.29}],\n",
              " [{'city_state': 'Shelley, Idaho',\n",
              "   'crime_rate': 14.5,\n",
              "   'id_num': 6978,\n",
              "   'population': 4401.0,\n",
              "   'rental_rate': 1343.1,\n",
              "   'walk_score': 33.77}],\n",
              " [{'city_state': 'Isle of Palms, South Carolina',\n",
              "   'crime_rate': 43.85,\n",
              "   'id_num': 24321,\n",
              "   'population': 4409.0,\n",
              "   'rental_rate': 1328.37,\n",
              "   'walk_score': 26.29}],\n",
              " [{'city_state': 'Brookfield, Missouri',\n",
              "   'crime_rate': 21.2,\n",
              "   'id_num': 12237,\n",
              "   'population': 4442.0,\n",
              "   'rental_rate': 1308.95,\n",
              "   'walk_score': 29.19}]]"
            ]
          },
          "metadata": {
            "tags": []
          },
          "execution_count": 19
        }
      ]
    },
    {
      "cell_type": "markdown",
      "metadata": {
        "id": "rThCTmaHExQU"
      },
      "source": [
        "### Modify Base model use the 4 state features instead of the state id"
      ]
    },
    {
      "cell_type": "code",
      "metadata": {
        "id": "v1kirB3-QuvY"
      },
      "source": [
        "\r\n",
        "def suggest_state_ids2(population:float, crime_rate:float, rental_rate:float, walk_score:float):\r\n",
        "\r\n",
        "    # this is to convert user input into a dataframe\r\n",
        "    state_id = 30000  # this is a dummy value\r\n",
        "\r\n",
        "    # here we make a new dataframe based off the user preferrences\r\n",
        "    # dataframe is has the shape (1, 6) - one row, 6 columns\r\n",
        "    d = {\"city_state\": \"user_def\",\r\n",
        "        \"id_num\": 30000, \r\n",
        "        \"population\" : population, \r\n",
        "        \"crime_rate\" : crime_rate, \r\n",
        "        \"rental_rate\": rental_rate, \r\n",
        "        \"walk_score\" : walk_score}\r\n",
        "    dfa = pd.DataFrame([d])\r\n",
        "\r\n",
        "    # take 'state id' as INPUT\r\n",
        "    state_index = dfa.index[dfa['id_num'] == state_id]\r\n",
        "\r\n",
        "    # use 'state_id' to find state features\r\n",
        "    state_features = dfa.iloc[state_index, 2:].to_numpy()\r\n",
        "\r\n",
        "    dist, indices = loaded_model.kneighbors(state_features)\r\n",
        "\r\n",
        "    recommended_list = list(states_pkl.loc[indices[0], 'id_num'])\r\n",
        "\r\n",
        "    results = []\r\n",
        "    for i in range(len(recommended_list)):\r\n",
        "      r_list = states_pkl[states_pkl['id_num']==recommended_list[i]]\r\n",
        "      r = r_list.to_dict('records')\r\n",
        "      results.append(r)\r\n",
        "    \r\n",
        "    return results"
      ],
      "execution_count": null,
      "outputs": []
    },
    {
      "cell_type": "code",
      "metadata": {
        "id": "fhjRSGAxRGEK",
        "colab": {
          "base_uri": "https://localhost:8080/"
        },
        "outputId": "928b8e8f-46da-44c9-ffe0-20701862a154"
      },
      "source": [
        "a = suggest_state_ids2(10000, 35, 1500, 40)\n",
        "a"
      ],
      "execution_count": null,
      "outputs": [
        {
          "output_type": "execute_result",
          "data": {
            "text/plain": [
              "[[{'city_state': 'Fairmont, Minnesota',\n",
              "   'crime_rate': 18.49,\n",
              "   'id_num': 14576,\n",
              "   'population': 10016.0,\n",
              "   'rental_rate': 1482.9,\n",
              "   'walk_score': 28.68}],\n",
              " [{'city_state': 'Plymouth, Indiana',\n",
              "   'crime_rate': 22.4,\n",
              "   'id_num': 8859,\n",
              "   'population': 10012.0,\n",
              "   'rental_rate': 1466.89,\n",
              "   'walk_score': 33.0}],\n",
              " [{'city_state': 'Havre, Montana',\n",
              "   'crime_rate': 36.1,\n",
              "   'id_num': 15746,\n",
              "   'population': 10021.0,\n",
              "   'rental_rate': 1466.89,\n",
              "   'walk_score': 44.0}],\n",
              " [{'city_state': 'Pájaros comunidad, Puerto Rico',\n",
              "   'crime_rate': 27.71,\n",
              "   'id_num': 29354,\n",
              "   'population': 9978.0,\n",
              "   'rental_rate': 1466.89,\n",
              "   'walk_score': 35.57}],\n",
              " [{'city_state': 'Lakes, Alaska',\n",
              "   'crime_rate': 35.82,\n",
              "   'id_num': 1732,\n",
              "   'population': 9992.0,\n",
              "   'rental_rate': 1466.89,\n",
              "   'walk_score': 17.5}],\n",
              " [{'city_state': 'Elgin, Texas',\n",
              "   'crime_rate': 21.83,\n",
              "   'id_num': 25812,\n",
              "   'population': 10037.0,\n",
              "   'rental_rate': 1481.18,\n",
              "   'walk_score': 30.68}],\n",
              " [{'city_state': 'Bonham, Texas',\n",
              "   'crime_rate': 18.7,\n",
              "   'id_num': 25520,\n",
              "   'population': 10040.0,\n",
              "   'rental_rate': 1481.18,\n",
              "   'walk_score': 30.68}],\n",
              " [{'city_state': 'Winterville, North Carolina',\n",
              "   'crime_rate': 9.3,\n",
              "   'id_num': 19663,\n",
              "   'population': 9988.0,\n",
              "   'rental_rate': 1461.4,\n",
              "   'walk_score': 25.62}],\n",
              " [{'city_state': 'Wabash, Indiana',\n",
              "   'crime_rate': 24.73,\n",
              "   'id_num': 8999,\n",
              "   'population': 9960.0,\n",
              "   'rental_rate': 1466.89,\n",
              "   'walk_score': 33.0}],\n",
              " [{'city_state': 'Cody, Wyoming',\n",
              "   'crime_rate': 17.0,\n",
              "   'id_num': 29030,\n",
              "   'population': 9958.0,\n",
              "   'rental_rate': 1466.89,\n",
              "   'walk_score': 31.67}]]"
            ]
          },
          "metadata": {
            "tags": []
          },
          "execution_count": 21
        }
      ]
    }
  ]
}