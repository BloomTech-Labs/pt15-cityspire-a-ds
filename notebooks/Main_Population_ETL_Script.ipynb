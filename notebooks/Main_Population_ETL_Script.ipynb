{
  "nbformat": 4,
  "nbformat_minor": 0,
  "metadata": {
    "colab": {
      "name": "Main Population ETL Script.ipynb",
      "provenance": [],
      "collapsed_sections": [],
      "toc_visible": true
    },
    "kernelspec": {
      "display_name": "Python 3",
      "name": "python3"
    }
  },
  "cells": [
    {
      "cell_type": "markdown",
      "metadata": {
        "id": "T_4vY5FQ0Mko"
      },
      "source": [
        "# Population ETL Notebook\r\n",
        "1. Census API\r\n",
        "2. clean dataset for ML models\r\n",
        "3. collect multiple years of population data \r\n",
        "4. predict future population and population growth rate\r\n",
        "5. fill future prediction in dataset dataframe\r\n",
        "  - prediction of 6 year of future population data\r\n",
        "6. save dateframe with predicted values in a csv for use of DS Team \r\n",
        "  - 1 of the features for the DS API (along with crime rate, rental rates and walk score) "
      ]
    },
    {
      "cell_type": "markdown",
      "metadata": {
        "id": "moo01GDp2d72"
      },
      "source": [
        "## 1. Census API ETL scripts"
      ]
    },
    {
      "cell_type": "code",
      "metadata": {
        "id": "aOqZnlMMXGcr"
      },
      "source": [
        "import requests\n",
        "import pandas as pd\n",
        "from ast import literal_eval\n",
        "\n",
        "def population_data_api(year_str):\n",
        "\n",
        "    # convert to str\n",
        "    year_str = str(year_str)\n",
        "  \n",
        "    # look up how to protect our API keys using environmental variables\n",
        "    census_api_key = 'ca170bc6585e4b20fe39912a9c403931fa7e8196'\n",
        "\n",
        "    #make API calls with python\n",
        "    calledAPI = 'https://api.census.gov/data/' + year_str + '/acs/acs5?get=NAME,B01003_001E&for=place:*&in=state:*&key='+ census_api_key\n",
        "\n",
        "    #call the API and collect the response\n",
        "    response = requests.get(calledAPI)\n",
        "\n",
        "    # this converts the str to the literal type\n",
        "    result_list = literal_eval(response.text)\n",
        "\n",
        "    # pop the column header from the result_list\n",
        "    columns = result_list.pop(0)\n",
        "\n",
        "    # rename columns\n",
        "    columns = ['NAME', 'POPULATION', 'state', 'place']\n",
        "    df = pd.DataFrame(result_list, columns=columns)\n",
        "    df['YEAR'] = int(year_str)\n",
        "    return df"
      ],
      "execution_count": null,
      "outputs": []
    },
    {
      "cell_type": "markdown",
      "metadata": {
        "id": "cby0VsKd28CL"
      },
      "source": [
        "## 2. Clean dataset for ML models"
      ]
    },
    {
      "cell_type": "code",
      "metadata": {
        "id": "pzsmN_1KYz06"
      },
      "source": [
        "import pandas as pd\n",
        "\n",
        "def clean_pop_df(df):\n",
        "  \n",
        "    # split CITY_STATE for cleaning and feature engineering \n",
        "    df[['CITY','STATE']] = df.NAME.str.split(\",\",expand=True) \n",
        "\n",
        "    # clean the leading white space\n",
        "    df['STATE'] = df.STATE.str.strip(\" \")\n",
        "\n",
        "    # clean city suffixs and endings\n",
        "    strip_names = [' city', ' borough', ' town', ' village', ' CDP']\n",
        "\n",
        "    for i in strip_names:\n",
        "        df['CITY'] = df.CITY.str.replace(i, \"\")\n",
        "\n",
        "    # feature engineering for joining key\n",
        "    df['City_State'] = df.CITY + \", \" + df.STATE\n",
        "\n",
        "    # prep population df for joining\n",
        "    pop_df = df[['YEAR', 'City_State', 'POPULATION']]\n",
        "\n",
        "    return pop_df"
      ],
      "execution_count": null,
      "outputs": []
    },
    {
      "cell_type": "markdown",
      "metadata": {
        "id": "L2JnVc9g3Ce7"
      },
      "source": [
        "## 3. collect multiple years of population data"
      ]
    },
    {
      "cell_type": "code",
      "metadata": {
        "id": "ja5iLkJ0ApAs"
      },
      "source": [
        "def fill_10_years_pop_df():\n",
        "    years = [2010, 2011, 2012, 2013, 2014, 2015, 2016, 2017, 2018, 2019]\n",
        "    years = [str(x) for x in years]\n",
        "    \n",
        "    dfs = []\n",
        "    for year in years:\n",
        "        df = population_data_api(year)\n",
        "        cleaned_df = clean_pop_df(df)\n",
        "        dfs.append(cleaned_df)\n",
        "        \n",
        "    return dfs"
      ],
      "execution_count": null,
      "outputs": []
    },
    {
      "cell_type": "code",
      "metadata": {
        "id": "wOqTPWNfC8nh"
      },
      "source": [
        "def concat_dfs(all_df):\n",
        "\n",
        "    # given 10 years of df from 2010 - 2019\n",
        "\n",
        "    # check shape of one dataset (29514, 5)\n",
        "    # print(all_df[0].shape)\n",
        "\n",
        "    # initialize big_df\n",
        "    big_df = all_df[0]\n",
        "    # loop and append additional years df\n",
        "    for i in range(1, 10):\n",
        "        big_df = pd.concat([big_df, all_df[i]])\n",
        "\n",
        "    # check size of 10 datasets (295459, 5)\n",
        "    # print(big_df.shape)\n",
        "\n",
        "    return big_df"
      ],
      "execution_count": null,
      "outputs": []
    },
    {
      "cell_type": "markdown",
      "metadata": {
        "id": "C_7jMYc43Fom"
      },
      "source": [
        "## 4. predict future population and population growth rate"
      ]
    },
    {
      "cell_type": "code",
      "metadata": {
        "id": "6MWJT1bB2osA"
      },
      "source": [
        "# Import the appropriate estimator class from Scikit-Learn\n",
        "from sklearn.linear_model import LinearRegression\n",
        "\n",
        "def predict_pop_growth(user_city_state, big_df):\n",
        "\n",
        "    # get city state from json\n",
        "    city_state = user_city_state['City_State']\n",
        "\n",
        "    # filter big_df\n",
        "    Graph_df = big_df[big_df['City_State']== city_state]\n",
        "\n",
        "    #2. Instantiate this class\n",
        "    model = LinearRegression()\n",
        "\n",
        "    #3. Arrange X features matrix & y target vector\n",
        "    features = ['YEAR']\n",
        "    target = 'POPULATION'\n",
        "\n",
        "    X_train = Graph_df[features]\n",
        "    y_train = Graph_df[target]\n",
        "    # print(X_train.shape, y_train.shape)\n",
        "\n",
        "    #4. Fit the Model\n",
        "    model.fit(X_train, y_train)\n",
        "\n",
        "    #5. Apply the model to new data\n",
        "    from datetime import datetime\n",
        "    today = datetime.today()\n",
        "\n",
        "    # this year prediction\n",
        "    this_year = today.year\n",
        "    test_features =[this_year]\n",
        "    X_test = [test_features]\n",
        "    y_pred_this_year = model.predict(X_test)\n",
        "    y_pred_this_year = round(y_pred_this_year[0], 0)\n",
        "    this_label = 'pop_'+ str(this_year)\n",
        "\n",
        "    # last year prediction\n",
        "    last_year = this_year - 1\n",
        "    test_features =[last_year]\n",
        "    X_test = [test_features]\n",
        "    y_pred_last_year = model.predict(X_test)\n",
        "    y_pred_last_year = round(y_pred_last_year[0],0)\n",
        "    last_label = 'pop_'+ str(last_year)\n",
        "\n",
        "    # calculate percent_pop_growth\n",
        "    percent_pop_growth = (y_pred_this_year - y_pred_last_year)/y_pred_last_year * 100\n",
        "    percent_pop_growth = round(percent_pop_growth,2)\n",
        "\n",
        "    return {last_label: y_pred_last_year, this_label: y_pred_this_year, 'percent_pop_growth': percent_pop_growth}"
      ],
      "execution_count": null,
      "outputs": []
    },
    {
      "cell_type": "code",
      "metadata": {
        "id": "La-DwSt-rKSq"
      },
      "source": [
        "# Import the appropriate estimator class from Scikit-Learn\r\n",
        "from sklearn.linear_model import LinearRegression\r\n",
        "\r\n",
        "def predict_pop_growth_gte2020(city_state, year, big_df):\r\n",
        "    \"\"\"\r\n",
        "    this is used to fill the dataframe with predictions\r\n",
        "    \"\"\"\r\n",
        "\r\n",
        "    # filter big_df\r\n",
        "    Graph_df = big_df[big_df['City_State']== city_state]\r\n",
        "\r\n",
        "    #2. Instantiate this class\r\n",
        "    model = LinearRegression()\r\n",
        "\r\n",
        "    #3. Arrange X features matrix & y target vector\r\n",
        "    features = ['YEAR']\r\n",
        "    target = 'POPULATION'\r\n",
        "\r\n",
        "    X_train = Graph_df[features]\r\n",
        "    y_train = Graph_df[target]\r\n",
        "\r\n",
        "    #4. Fit the Model\r\n",
        "    model.fit(X_train, y_train)\r\n",
        "\r\n",
        "    #5. Apply the model to new data\r\n",
        "    from datetime import datetime\r\n",
        "    today = datetime.today()\r\n",
        "\r\n",
        "    test_features =[year]\r\n",
        "    X_test = [test_features]\r\n",
        "    y_pred = model.predict(X_test)\r\n",
        "    y_pred = round(y_pred[0], 0)\r\n",
        "    \r\n",
        "    return y_pred\r\n",
        "\r\n"
      ],
      "execution_count": null,
      "outputs": []
    },
    {
      "cell_type": "markdown",
      "metadata": {
        "id": "iahmG5ZQOSvC"
      },
      "source": [
        "## Main"
      ]
    },
    {
      "cell_type": "code",
      "metadata": {
        "id": "UsdESuKDC813"
      },
      "source": [
        "  # MAIN\n",
        "\n",
        "  all_df = fill_10_years_pop_df() # list of dataframes\n",
        "\n",
        "  # main\n",
        "  big_df = concat_dfs(all_df)\n"
      ],
      "execution_count": null,
      "outputs": []
    },
    {
      "cell_type": "code",
      "metadata": {
        "id": "Yr7bADXzn1xo",
        "colab": {
          "base_uri": "https://localhost:8080/"
        },
        "outputId": "0e0a18ab-0229-43c9-cd2f-deadd119eb85"
      },
      "source": [
        "  # main - user inpute\r\n",
        "  # this works only for one city_state\r\n",
        "  user_city_state = {'City_State':'San Francisco, California'}\r\n",
        "\r\n",
        "  results = predict_pop_growth(user_city_state, big_df)\r\n",
        "  results "
      ],
      "execution_count": null,
      "outputs": [
        {
          "output_type": "execute_result",
          "data": {
            "text/plain": [
              "{'percent_pop_growth': 1.14, 'pop_2020': 889816.0, 'pop_2021': 899932.0}"
            ]
          },
          "metadata": {
            "tags": []
          },
          "execution_count": 8
        }
      ]
    },
    {
      "cell_type": "code",
      "metadata": {
        "id": "YU9kS_SyoMrG",
        "colab": {
          "base_uri": "https://localhost:8080/"
        },
        "outputId": "1b57db75-1b58-4975-e6fa-63395ffa7065"
      },
      "source": [
        "results['pop_2020']"
      ],
      "execution_count": null,
      "outputs": [
        {
          "output_type": "execute_result",
          "data": {
            "text/plain": [
              "889816.0"
            ]
          },
          "metadata": {
            "tags": []
          },
          "execution_count": 9
        }
      ]
    },
    {
      "cell_type": "code",
      "metadata": {
        "id": "9fsHYq9x3cGJ",
        "colab": {
          "base_uri": "https://localhost:8080/",
          "height": 204
        },
        "outputId": "127811e3-7811-4e1f-818d-d01f8892023e"
      },
      "source": [
        "big_df.head()"
      ],
      "execution_count": null,
      "outputs": [
        {
          "output_type": "execute_result",
          "data": {
            "text/html": [
              "<div>\n",
              "<style scoped>\n",
              "    .dataframe tbody tr th:only-of-type {\n",
              "        vertical-align: middle;\n",
              "    }\n",
              "\n",
              "    .dataframe tbody tr th {\n",
              "        vertical-align: top;\n",
              "    }\n",
              "\n",
              "    .dataframe thead th {\n",
              "        text-align: right;\n",
              "    }\n",
              "</style>\n",
              "<table border=\"1\" class=\"dataframe\">\n",
              "  <thead>\n",
              "    <tr style=\"text-align: right;\">\n",
              "      <th></th>\n",
              "      <th>YEAR</th>\n",
              "      <th>City_State</th>\n",
              "      <th>POPULATION</th>\n",
              "    </tr>\n",
              "  </thead>\n",
              "  <tbody>\n",
              "    <tr>\n",
              "      <th>0</th>\n",
              "      <td>2010</td>\n",
              "      <td>El Dorado Hills, California</td>\n",
              "      <td>43179</td>\n",
              "    </tr>\n",
              "    <tr>\n",
              "      <th>1</th>\n",
              "      <td>2010</td>\n",
              "      <td>Eldridge, California</td>\n",
              "      <td>1757</td>\n",
              "    </tr>\n",
              "    <tr>\n",
              "      <th>2</th>\n",
              "      <td>2010</td>\n",
              "      <td>El Granada, California</td>\n",
              "      <td>4669</td>\n",
              "    </tr>\n",
              "    <tr>\n",
              "      <th>3</th>\n",
              "      <td>2010</td>\n",
              "      <td>Elizabeth Lake, California</td>\n",
              "      <td>1609</td>\n",
              "    </tr>\n",
              "    <tr>\n",
              "      <th>4</th>\n",
              "      <td>2010</td>\n",
              "      <td>Elk Creek, California</td>\n",
              "      <td>118</td>\n",
              "    </tr>\n",
              "  </tbody>\n",
              "</table>\n",
              "</div>"
            ],
            "text/plain": [
              "   YEAR                   City_State POPULATION\n",
              "0  2010  El Dorado Hills, California      43179\n",
              "1  2010         Eldridge, California       1757\n",
              "2  2010       El Granada, California       4669\n",
              "3  2010   Elizabeth Lake, California       1609\n",
              "4  2010        Elk Creek, California        118"
            ]
          },
          "metadata": {
            "tags": []
          },
          "execution_count": 10
        }
      ]
    },
    {
      "cell_type": "markdown",
      "metadata": {
        "id": "kyNR9bjezC4l"
      },
      "source": [
        "## 2021 predictions for all unique city_states"
      ]
    },
    {
      "cell_type": "code",
      "metadata": {
        "id": "dav2rkTWoiSf"
      },
      "source": [
        "# Main\r\n",
        "\r\n",
        "list_of_cities = big_df['City_State'].unique()"
      ],
      "execution_count": null,
      "outputs": []
    },
    {
      "cell_type": "code",
      "metadata": {
        "id": "eNXSGaAmoiPj",
        "colab": {
          "base_uri": "https://localhost:8080/"
        },
        "outputId": "01567e25-c914-497c-8f78-f10faea86de5"
      },
      "source": [
        "list_of_cities"
      ],
      "execution_count": null,
      "outputs": [
        {
          "output_type": "execute_result",
          "data": {
            "text/plain": [
              "array(['El Dorado Hills, California', 'Eldridge, California',\n",
              "       'El Granada, California', ..., 'Howard City (Boelus), Nebraska',\n",
              "       'Yorkville, Wisconsin', 'Krupp (Marlin), Washington'], dtype=object)"
            ]
          },
          "metadata": {
            "tags": []
          },
          "execution_count": 12
        }
      ]
    },
    {
      "cell_type": "code",
      "metadata": {
        "id": "WjSBg4F-ynuv",
        "colab": {
          "base_uri": "https://localhost:8080/"
        },
        "outputId": "7cd02ed3-af9f-4b46-ac54-8ca7f4ff6f95"
      },
      "source": [
        "big_df.columns"
      ],
      "execution_count": null,
      "outputs": [
        {
          "output_type": "execute_result",
          "data": {
            "text/plain": [
              "Index(['YEAR', 'City_State', 'POPULATION'], dtype='object')"
            ]
          },
          "metadata": {
            "tags": []
          },
          "execution_count": 13
        }
      ]
    },
    {
      "cell_type": "code",
      "metadata": {
        "id": "W_WkAUmwoiI6"
      },
      "source": [
        "year = 2021\r\n",
        "df_2021 = pd.DataFrame (list_of_cities,columns=['City_State'])\r\n",
        "df_2021['YEAR'] = year"
      ],
      "execution_count": null,
      "outputs": []
    },
    {
      "cell_type": "code",
      "metadata": {
        "id": "Xemb8eFssqYW"
      },
      "source": [
        "predicted_pop = []\r\n",
        "\r\n",
        "for i in list_of_cities:\r\n",
        "   temp = predict_pop_growth_gte2020(i, year, big_df)\r\n",
        "   predicted_pop.append(temp)"
      ],
      "execution_count": null,
      "outputs": []
    },
    {
      "cell_type": "code",
      "metadata": {
        "id": "ykb0klrjzx3V"
      },
      "source": [
        "population_2021"
      ],
      "execution_count": null,
      "outputs": []
    },
    {
      "cell_type": "code",
      "metadata": {
        "id": "XCADoANtsqVl",
        "colab": {
          "base_uri": "https://localhost:8080/",
          "height": 204
        },
        "outputId": "bad24ff0-59df-4435-e346-913c547279ca"
      },
      "source": [
        "import numpy as np\r\n",
        "\r\n",
        "df_2021['POPULATION'] = np.array(predicted_pop)\r\n",
        "df_2021 = df_2021[['YEAR', 'City_State', 'POPULATION']]\r\n",
        "df_2021.head()"
      ],
      "execution_count": null,
      "outputs": [
        {
          "output_type": "execute_result",
          "data": {
            "text/html": [
              "<div>\n",
              "<style scoped>\n",
              "    .dataframe tbody tr th:only-of-type {\n",
              "        vertical-align: middle;\n",
              "    }\n",
              "\n",
              "    .dataframe tbody tr th {\n",
              "        vertical-align: top;\n",
              "    }\n",
              "\n",
              "    .dataframe thead th {\n",
              "        text-align: right;\n",
              "    }\n",
              "</style>\n",
              "<table border=\"1\" class=\"dataframe\">\n",
              "  <thead>\n",
              "    <tr style=\"text-align: right;\">\n",
              "      <th></th>\n",
              "      <th>YEAR</th>\n",
              "      <th>City_State</th>\n",
              "      <th>POPULATION</th>\n",
              "    </tr>\n",
              "  </thead>\n",
              "  <tbody>\n",
              "    <tr>\n",
              "      <th>0</th>\n",
              "      <td>2021</td>\n",
              "      <td>El Dorado Hills, California</td>\n",
              "      <td>46192.0</td>\n",
              "    </tr>\n",
              "    <tr>\n",
              "      <th>1</th>\n",
              "      <td>2021</td>\n",
              "      <td>Eldridge, California</td>\n",
              "      <td>1208.0</td>\n",
              "    </tr>\n",
              "    <tr>\n",
              "      <th>2</th>\n",
              "      <td>2021</td>\n",
              "      <td>El Granada, California</td>\n",
              "      <td>6695.0</td>\n",
              "    </tr>\n",
              "    <tr>\n",
              "      <th>3</th>\n",
              "      <td>2021</td>\n",
              "      <td>Elizabeth Lake, California</td>\n",
              "      <td>1941.0</td>\n",
              "    </tr>\n",
              "    <tr>\n",
              "      <th>4</th>\n",
              "      <td>2021</td>\n",
              "      <td>Elk Creek, California</td>\n",
              "      <td>239.0</td>\n",
              "    </tr>\n",
              "  </tbody>\n",
              "</table>\n",
              "</div>"
            ],
            "text/plain": [
              "   YEAR                   City_State  POPULATION\n",
              "0  2021  El Dorado Hills, California     46192.0\n",
              "1  2021         Eldridge, California      1208.0\n",
              "2  2021       El Granada, California      6695.0\n",
              "3  2021   Elizabeth Lake, California      1941.0\n",
              "4  2021        Elk Creek, California       239.0"
            ]
          },
          "metadata": {
            "tags": []
          },
          "execution_count": 16
        }
      ]
    },
    {
      "cell_type": "markdown",
      "metadata": {
        "id": "j_5p7TTE16sx"
      },
      "source": [
        "## 6.Persist Dataframe in CSV for use with combined DS TEAM dataset"
      ]
    },
    {
      "cell_type": "markdown",
      "metadata": {
        "id": "Fib92KdeYT20"
      },
      "source": [
        "Save in a csv file"
      ]
    },
    {
      "cell_type": "code",
      "metadata": {
        "id": "GolvPxaEzyAP"
      },
      "source": [
        "# This is so you don't have to run the whole notebook again\r\n",
        "df_2021.to_csv('pop_2021.csv', sep=',', index=False)"
      ],
      "execution_count": null,
      "outputs": []
    },
    {
      "cell_type": "code",
      "metadata": {
        "id": "kA-E_jwat88t"
      },
      "source": [
        "df_refill_2021 = pd.read_csv('pop_2021.csv')\r\n",
        "df_refill_2021.head()"
      ],
      "execution_count": null,
      "outputs": []
    },
    {
      "cell_type": "markdown",
      "metadata": {
        "id": "UnrnYKLqYOiU"
      },
      "source": [
        "save in a data dictionary"
      ]
    },
    {
      "cell_type": "code",
      "metadata": {
        "id": "s8zJtcNFzx8y"
      },
      "source": [
        "# https://intellipaat.com/community/20442/python-pandas-dataframe-columns-convert-to-dict-key-and-value\r\n",
        "\r\n",
        "population_2021 = dict(zip(df_2021.City_State, df_2021.POPULATION))"
      ],
      "execution_count": null,
      "outputs": []
    },
    {
      "cell_type": "code",
      "metadata": {
        "id": "5KppCZelzxzF"
      },
      "source": [
        "user_call = \"Newark, New Jersey\""
      ],
      "execution_count": null,
      "outputs": []
    },
    {
      "cell_type": "code",
      "metadata": {
        "id": "84E3aASw7VgG"
      },
      "source": [
        "population_2021[user_call]"
      ],
      "execution_count": null,
      "outputs": []
    },
    {
      "cell_type": "code",
      "metadata": {
        "id": "3aZqglU_7VcO"
      },
      "source": [
        ""
      ],
      "execution_count": null,
      "outputs": []
    },
    {
      "cell_type": "code",
      "metadata": {
        "id": "HgQvvQBB7VXP"
      },
      "source": [
        ""
      ],
      "execution_count": null,
      "outputs": []
    },
    {
      "cell_type": "code",
      "metadata": {
        "id": "X3eM_DnSzxvi"
      },
      "source": [
        "# TODO add more years to the list"
      ],
      "execution_count": null,
      "outputs": []
    },
    {
      "cell_type": "markdown",
      "metadata": {
        "id": "KMQFI8DOuAqE"
      },
      "source": [
        "## 7. predictions function for multiple years from 2020 to 2025"
      ]
    },
    {
      "cell_type": "code",
      "metadata": {
        "id": "mwNjXicrugDO"
      },
      "source": [
        "import numpy as np\n",
        "\n",
        "def future_pred(year, big_df):\n",
        "\n",
        "    df = pd.DataFrame (list_of_cities,columns=['City_State'])\n",
        "    df['YEAR'] = year\n",
        "    predicted_pop = []\n",
        "\n",
        "    for i in list_of_cities:\n",
        "      temp = predict_pop_growth_gte2020(i, year, big_df)\n",
        "      predicted_pop.append(temp)\n",
        "\n",
        "\n",
        "    df['POPULATION'] = np.array(predicted_pop)\n",
        "    df = df[['YEAR', 'City_State', 'POPULATION']]\n",
        "    return df"
      ],
      "execution_count": null,
      "outputs": []
    },
    {
      "cell_type": "code",
      "metadata": {
        "id": "uAaF_4D_45SB"
      },
      "source": [
        ""
      ],
      "execution_count": null,
      "outputs": []
    },
    {
      "cell_type": "code",
      "metadata": {
        "id": "HMktq4ds45KE"
      },
      "source": [
        "\n",
        "# TODO similar for the future year 2020 to 2025\n",
        "\n",
        "def predict_years_pop_df(big_df):\n",
        "    years = [2020, 2021, 2022, 2023, 2024, 2025]\n",
        "    # dfs = [df_2020, df_2021, df_2022, df_2023, df_2024, df_2025]\n",
        "    \n",
        "    dfs = []\n",
        "    for year in years:\n",
        "        df = future_pred(year, big_df)\n",
        "        dfs.append(df)\n",
        "    return dfs"
      ],
      "execution_count": null,
      "outputs": []
    },
    {
      "cell_type": "code",
      "metadata": {
        "id": "6JBEQUWFyQ-P"
      },
      "source": [
        "# Main\r\n",
        "\r\n",
        "# loop and append additional years df\r\n",
        "predict_2020_2025 = predict_years_pop_df(big_df)\r\n"
      ],
      "execution_count": null,
      "outputs": []
    },
    {
      "cell_type": "code",
      "metadata": {
        "id": "H9TAfy6_wzME"
      },
      "source": [
        "len(predict_2020_2025)"
      ],
      "execution_count": null,
      "outputs": []
    },
    {
      "cell_type": "code",
      "metadata": {
        "id": "A8xmv1gLwwbC"
      },
      "source": [
        "for i in predict_2020_2025:\r\n",
        "    big_df = pd.concat([big_df, i])"
      ],
      "execution_count": null,
      "outputs": []
    },
    {
      "cell_type": "code",
      "metadata": {
        "id": "-yZNz1dDyO5H"
      },
      "source": [
        "# big_df after add\r\n",
        "big_df.shape"
      ],
      "execution_count": null,
      "outputs": []
    },
    {
      "cell_type": "code",
      "metadata": {
        "id": "jqo1TM92yj56"
      },
      "source": [
        "big_df['id_num'] = big_df.index\r\n",
        "big_df[['id_num', 'YEAR', 'City_State','POPULATION']]"
      ],
      "execution_count": null,
      "outputs": []
    },
    {
      "cell_type": "code",
      "metadata": {
        "id": "t4p6vuL3yO14"
      },
      "source": [
        "big_df.shape[0]/16"
      ],
      "execution_count": null,
      "outputs": []
    },
    {
      "cell_type": "code",
      "metadata": {
        "id": "jpSSe3BRyOvM"
      },
      "source": [
        "big_df.head()"
      ],
      "execution_count": null,
      "outputs": []
    },
    {
      "cell_type": "code",
      "metadata": {
        "id": "oILxGk5buRTC"
      },
      "source": [
        "#### TODO remember to add index before csv\n",
        "# big_df['id'] = big_df.index\n",
        "# big_df.head()"
      ],
      "execution_count": null,
      "outputs": []
    },
    {
      "cell_type": "code",
      "metadata": {
        "id": "bQEkqMRPuCqS"
      },
      "source": [
        "big_df.to_csv('pop_2010_2025.csv', sep=',', index=False)"
      ],
      "execution_count": null,
      "outputs": []
    }
  ]
}