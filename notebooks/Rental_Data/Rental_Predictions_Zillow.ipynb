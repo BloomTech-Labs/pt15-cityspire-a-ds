{
  "nbformat": 4,
  "nbformat_minor": 0,
  "metadata": {
    "colab": {
      "name": "Rental_Predictions_Zillow.ipynb",
      "provenance": []
    },
    "kernelspec": {
      "name": "python3",
      "display_name": "Python 3"
    }
  },
  "cells": [
    {
      "cell_type": "markdown",
      "metadata": {
        "id": "cBlKy9mmHOIu"
      },
      "source": [
        "# Zillow Dataset Cleaning - First Step\n",
        " Use this as a reference, you **do not** need to run these cells\n",
        " - [Link to the orginal dataset](https://www.zillow.com/research/data/) from Zillow's website\n",
        " - Select: `ZORI All Homes Plus Multifamily Smoothed` "
      ]
    },
    {
      "cell_type": "code",
      "metadata": {
        "id": "do5epFXcHGDs"
      },
      "source": [
        "# Imports\n",
        "import pandas as pd\n",
        "import numpy as np"
      ],
      "execution_count": null,
      "outputs": []
    },
    {
      "cell_type": "code",
      "metadata": {
        "id": "m__TbrwoR5DI"
      },
      "source": [
        "# Connect to data\n",
        "FILEPATH = 'https://raw.githubusercontent.com/Lambda-School-Labs/cityspire-a-ds/main/notebooks/Rental_Data/Original_Zillow.csv'\n",
        "zillow_original = pd.read_csv(FILEPATH)"
      ],
      "execution_count": null,
      "outputs": []
    },
    {
      "cell_type": "code",
      "metadata": {
        "id": "F09oXa5kXDaN"
      },
      "source": [
        "# Function to clean up the dataset + yearly average columns\n",
        "\n",
        "def zillow_cleaner(df):\n",
        "  ''' A function to convert a dataset from Zillow into something more useable \n",
        "  for a predictive model.\n",
        "  '''\n",
        "\n",
        "  # Drop columns\n",
        "  df = df.drop(['RegionID', 'RegionName', 'SizeRank'], axis=1)\n",
        "\n",
        "  # Change column name\n",
        "  df = df.rename(columns={\"MsaName\": \"City/State\"})\n",
        "\n",
        "  # Creating yearly average columns\n",
        "  # 2014 averages\n",
        "  fourteen_columns = list(df)[1:13]\n",
        "  df.insert(13, '2014_Average',\n",
        "                    df[fourteen_columns].mean(axis=1), True)\n",
        "  # 2015 averages\n",
        "  fifteen_columns = list(df)[14:26]\n",
        "  df.insert(26, '2015_Average',\n",
        "                    df[fifteen_columns].mean(axis=1), True)\n",
        "  # 2016 averages\n",
        "  sixteen_columns = list(df)[27:39]\n",
        "  df.insert(39, '2016_Average',\n",
        "                    df[sixteen_columns].mean(axis=1), True)\n",
        "  # 2017 averages\n",
        "  seventeen_columns = list(df)[40:52]\n",
        "  df.insert(52, '2017_Average',\n",
        "                    df[seventeen_columns].mean(axis=1), True)\n",
        "  # 2018 averages\n",
        "  eightteen_columns = list(df)[53:65]\n",
        "  df.insert(65, '2018_Average',\n",
        "                    df[eightteen_columns].mean(axis=1), True)\n",
        "  # 2019 averages\n",
        "  nineteen_columns = list(df)[66:78]\n",
        "  df.insert(78, '2019_Average',\n",
        "                    df[nineteen_columns].mean(axis=1), True)\n",
        "  # 2020 averaes\n",
        "  twentytwenty_columns = list(df)[79:91]\n",
        "  df.insert(91, '2020_Average',\n",
        "                    df[twentytwenty_columns].mean(axis=1), True)\n",
        "\n",
        "  return df"
      ],
      "execution_count": null,
      "outputs": []
    },
    {
      "cell_type": "code",
      "metadata": {
        "id": "4bsQO99SXTLy"
      },
      "source": [
        "# Run cleaning function\n",
        "zillow_original = zillow_cleaner(zillow_original)\n",
        "\n",
        "# Check it out\n",
        "print(zillow_original.shape)\n",
        "zillow_original.head()"
      ],
      "execution_count": null,
      "outputs": []
    },
    {
      "cell_type": "markdown",
      "metadata": {
        "id": "U1TsKZOxYIN0"
      },
      "source": [
        "[GeekforGeeks](https://www.geeksforgeeks.org/python-pandas-dataframe-interpolate) - Interpolate Function"
      ]
    },
    {
      "cell_type": "code",
      "metadata": {
        "id": "fRKIY-7vXb8N"
      },
      "source": [
        "# Deal with NaN with interpolate, a way to estimate instead of dropping\n",
        "zillow_original.interpolate(method='linear', axis=0, inplace=True, limit_direction='both', limit_area='inside', downcast=None)\n",
        "\n",
        "# Inspect\n",
        "zillow_original.info()"
      ],
      "execution_count": null,
      "outputs": []
    },
    {
      "cell_type": "markdown",
      "metadata": {
        "id": "TS2HrRL8Y7YK"
      },
      "source": [
        "Oddly not all of the NaNs were converted to a numerical value based on neighbors. Assumption is that if there are multiple NaNs in sequence the `interpolate()` function has a hard time defining a value.\n",
        "\n",
        "There were only a hand full of these, so they were corrected manually. Taking the average of the nearest four neighbors, a numerical value was given for the NaN."
      ]
    }
  ]
}