{
  "nbformat": 4,
  "nbformat_minor": 0,
  "metadata": {
    "colab": {
      "name": "CityspireDatasetJoin.ipynb",
      "provenance": [],
      "collapsed_sections": []
    },
    "kernelspec": {
      "name": "python3",
      "display_name": "Python 3"
    }
  },
  "cells": [
    {
      "cell_type": "markdown",
      "metadata": {
        "id": "lakPauIaCJNN"
      },
      "source": [
        "# This Notebook for cityspire DS API\n",
        "- Datasets\n",
        "  - crime rates\n",
        "  - rental rates\n",
        "  - population\n",
        "  - walkability\n",
        "- JSON Response\n",
        "- JSON dict "
      ]
    },
    {
      "cell_type": "markdown",
      "metadata": {
        "id": "S-3SlRCPCxY0"
      },
      "source": [
        "# Initial Exploratory Data Analysis (EDA)"
      ]
    },
    {
      "cell_type": "code",
      "metadata": {
        "id": "R9EJ-KPDyPin"
      },
      "source": [
        "import pandas as pd\r\n",
        "import numpy as np"
      ],
      "execution_count": null,
      "outputs": []
    },
    {
      "cell_type": "code",
      "metadata": {
        "id": "4qTiykNfkHRD"
      },
      "source": [
        "# crime_rate dataset\r\n",
        "url_cr = 'https://raw.githubusercontent.com/JeffreyAsuncion/LambdaLabs/main/cityspire-a-ds/Datasets_csv/2021_pred_crime.csv'\r\n",
        "# rental_rate dataset\r\n",
        "url_rr = 'https://raw.githubusercontent.com/JeffreyAsuncion/LambdaLabs/main/cityspire-a-ds/Datasets_csv/Rent_Predictions_Jan21.csv'\r\n",
        "# population dataset\r\n",
        "url_pop = 'https://raw.githubusercontent.com/JeffreyAsuncion/LambdaLabs/main/cityspire-a-ds/Datasets_csv/pop_2021.csv'\r\n",
        "# walk_score dataset\r\n",
        "url_walk = 'https://raw.githubusercontent.com/JeffreyAsuncion/LambdaLabs/main/cityspire-a-ds/Datasets_csv/walk.csv'"
      ],
      "execution_count": null,
      "outputs": []
    },
    {
      "cell_type": "code",
      "metadata": {
        "id": "VpFq6hXskHOZ"
      },
      "source": [
        "cr_df = pd.read_csv(url_cr)\r\n",
        "rr_df = pd.read_csv(url_rr)\r\n",
        "pop_df = pd.read_csv(url_pop)\r\n",
        "walk_df = pd.read_csv(url_walk)"
      ],
      "execution_count": null,
      "outputs": []
    },
    {
      "cell_type": "markdown",
      "metadata": {
        "id": "Dx_C5rpeD8wt"
      },
      "source": [
        "Crime Rate"
      ]
    },
    {
      "cell_type": "code",
      "metadata": {
        "colab": {
          "base_uri": "https://localhost:8080/",
          "height": 204
        },
        "id": "-bO0iL5AkHLb",
        "outputId": "327650bc-4a14-4109-996e-9867fe952dee"
      },
      "source": [
        "cr_df.head()"
      ],
      "execution_count": null,
      "outputs": [
        {
          "output_type": "execute_result",
          "data": {
            "text/html": [
              "<div>\n",
              "<style scoped>\n",
              "    .dataframe tbody tr th:only-of-type {\n",
              "        vertical-align: middle;\n",
              "    }\n",
              "\n",
              "    .dataframe tbody tr th {\n",
              "        vertical-align: top;\n",
              "    }\n",
              "\n",
              "    .dataframe thead th {\n",
              "        text-align: right;\n",
              "    }\n",
              "</style>\n",
              "<table border=\"1\" class=\"dataframe\">\n",
              "  <thead>\n",
              "    <tr style=\"text-align: right;\">\n",
              "      <th></th>\n",
              "      <th>year</th>\n",
              "      <th>city_state</th>\n",
              "      <th>crime_rate</th>\n",
              "      <th>percent_diff_national</th>\n",
              "    </tr>\n",
              "  </thead>\n",
              "  <tbody>\n",
              "    <tr>\n",
              "      <th>0</th>\n",
              "      <td>2021</td>\n",
              "      <td>Abbeville, Alabama</td>\n",
              "      <td>26.3</td>\n",
              "      <td>-0.12</td>\n",
              "    </tr>\n",
              "    <tr>\n",
              "      <th>1</th>\n",
              "      <td>2021</td>\n",
              "      <td>Adamsville, Alabama</td>\n",
              "      <td>71.2</td>\n",
              "      <td>1.40</td>\n",
              "    </tr>\n",
              "    <tr>\n",
              "      <th>2</th>\n",
              "      <td>2021</td>\n",
              "      <td>Alabaster, Alabama</td>\n",
              "      <td>20.0</td>\n",
              "      <td>-0.33</td>\n",
              "    </tr>\n",
              "    <tr>\n",
              "      <th>3</th>\n",
              "      <td>2021</td>\n",
              "      <td>Albertville, Alabama</td>\n",
              "      <td>38.5</td>\n",
              "      <td>0.30</td>\n",
              "    </tr>\n",
              "    <tr>\n",
              "      <th>4</th>\n",
              "      <td>2021</td>\n",
              "      <td>Alexander City, Alabama</td>\n",
              "      <td>63.5</td>\n",
              "      <td>1.14</td>\n",
              "    </tr>\n",
              "  </tbody>\n",
              "</table>\n",
              "</div>"
            ],
            "text/plain": [
              "   year               city_state  crime_rate  percent_diff_national\n",
              "0  2021       Abbeville, Alabama        26.3                  -0.12\n",
              "1  2021      Adamsville, Alabama        71.2                   1.40\n",
              "2  2021       Alabaster, Alabama        20.0                  -0.33\n",
              "3  2021     Albertville, Alabama        38.5                   0.30\n",
              "4  2021  Alexander City, Alabama        63.5                   1.14"
            ]
          },
          "metadata": {
            "tags": []
          },
          "execution_count": 4
        }
      ]
    },
    {
      "cell_type": "code",
      "metadata": {
        "id": "DTh6TWwHG861"
      },
      "source": [
        "# create columns to join datasets\r\n",
        "cr_df[\"City_State\"] = cr_df[\"city_state\"]"
      ],
      "execution_count": null,
      "outputs": []
    },
    {
      "cell_type": "code",
      "metadata": {
        "id": "P5IFCy4pIYbj"
      },
      "source": [
        "# filter down the columns to those needed for the JOIN\r\n",
        "cr_df = cr_df[[\"City_State\", \"crime_rate\"]]"
      ],
      "execution_count": null,
      "outputs": []
    },
    {
      "cell_type": "code",
      "metadata": {
        "colab": {
          "base_uri": "https://localhost:8080/"
        },
        "id": "p87BigbxyuCB",
        "outputId": "587751bf-b6ee-45f2-a1ea-8f730507c0b1"
      },
      "source": [
        "# number of unique City_State for Crime Rate Dataset\r\n",
        "len(cr_df.City_State.unique())"
      ],
      "execution_count": null,
      "outputs": [
        {
          "output_type": "execute_result",
          "data": {
            "text/plain": [
              "9248"
            ]
          },
          "metadata": {
            "tags": []
          },
          "execution_count": 7
        }
      ]
    },
    {
      "cell_type": "markdown",
      "metadata": {
        "id": "SRybNFmSEJu2"
      },
      "source": [
        "Rental Rates"
      ]
    },
    {
      "cell_type": "code",
      "metadata": {
        "colab": {
          "base_uri": "https://localhost:8080/",
          "height": 204
        },
        "id": "KA0JkuqFkDeU",
        "outputId": "643a19f5-362a-4455-d561-ba5b2978c124"
      },
      "source": [
        "rr_df.head()"
      ],
      "execution_count": null,
      "outputs": [
        {
          "output_type": "execute_result",
          "data": {
            "text/html": [
              "<div>\n",
              "<style scoped>\n",
              "    .dataframe tbody tr th:only-of-type {\n",
              "        vertical-align: middle;\n",
              "    }\n",
              "\n",
              "    .dataframe tbody tr th {\n",
              "        vertical-align: top;\n",
              "    }\n",
              "\n",
              "    .dataframe thead th {\n",
              "        text-align: right;\n",
              "    }\n",
              "</style>\n",
              "<table border=\"1\" class=\"dataframe\">\n",
              "  <thead>\n",
              "    <tr style=\"text-align: right;\">\n",
              "      <th></th>\n",
              "      <th>Unnamed: 0</th>\n",
              "      <th>City_State</th>\n",
              "      <th>Year_Month</th>\n",
              "      <th>Price</th>\n",
              "    </tr>\n",
              "  </thead>\n",
              "  <tbody>\n",
              "    <tr>\n",
              "      <th>0</th>\n",
              "      <td>0</td>\n",
              "      <td>Albuquerque, New Mexico</td>\n",
              "      <td>2021-01</td>\n",
              "      <td>1319.3</td>\n",
              "    </tr>\n",
              "    <tr>\n",
              "      <th>1</th>\n",
              "      <td>1</td>\n",
              "      <td>Allentown, Pennsylvania</td>\n",
              "      <td>2021-01</td>\n",
              "      <td>988.6</td>\n",
              "    </tr>\n",
              "    <tr>\n",
              "      <th>2</th>\n",
              "      <td>2</td>\n",
              "      <td>Anaheim, California</td>\n",
              "      <td>2021-01</td>\n",
              "      <td>2673.7</td>\n",
              "    </tr>\n",
              "    <tr>\n",
              "      <th>3</th>\n",
              "      <td>3</td>\n",
              "      <td>Atlanta, Georgia</td>\n",
              "      <td>2021-01</td>\n",
              "      <td>1643.2</td>\n",
              "    </tr>\n",
              "    <tr>\n",
              "      <th>4</th>\n",
              "      <td>4</td>\n",
              "      <td>Augusta, Georgia</td>\n",
              "      <td>2021-01</td>\n",
              "      <td>1223.1</td>\n",
              "    </tr>\n",
              "  </tbody>\n",
              "</table>\n",
              "</div>"
            ],
            "text/plain": [
              "   Unnamed: 0               City_State Year_Month   Price\n",
              "0           0  Albuquerque, New Mexico    2021-01  1319.3\n",
              "1           1  Allentown, Pennsylvania    2021-01   988.6\n",
              "2           2      Anaheim, California    2021-01  2673.7\n",
              "3           3         Atlanta, Georgia    2021-01  1643.2\n",
              "4           4         Augusta, Georgia    2021-01  1223.1"
            ]
          },
          "metadata": {
            "tags": []
          },
          "execution_count": 8
        }
      ]
    },
    {
      "cell_type": "code",
      "metadata": {
        "id": "iNxA9FxXy0HA"
      },
      "source": [
        "# number of unique City_State for Rental Rate Dataset\r\n",
        "len(rr_df.City_State.unique())"
      ],
      "execution_count": null,
      "outputs": []
    },
    {
      "cell_type": "code",
      "metadata": {
        "colab": {
          "base_uri": "https://localhost:8080/"
        },
        "id": "eGtMH8Cazn3z",
        "outputId": "4d242253-4627-4765-940c-54675f9c3e01"
      },
      "source": [
        "rr_df.shape"
      ],
      "execution_count": null,
      "outputs": [
        {
          "output_type": "execute_result",
          "data": {
            "text/plain": [
              "(104, 4)"
            ]
          },
          "metadata": {
            "tags": []
          },
          "execution_count": 10
        }
      ]
    },
    {
      "cell_type": "markdown",
      "metadata": {
        "id": "YvEkdtKTEQHz"
      },
      "source": [
        "Walkability Score"
      ]
    },
    {
      "cell_type": "code",
      "metadata": {
        "colab": {
          "base_uri": "https://localhost:8080/",
          "height": 204
        },
        "id": "j5LJJLMP9i-2",
        "outputId": "1dbcdfab-51f3-4c0f-9d12-5e5c6410b04c"
      },
      "source": [
        "walk_df.head()"
      ],
      "execution_count": null,
      "outputs": [
        {
          "output_type": "execute_result",
          "data": {
            "text/html": [
              "<div>\n",
              "<style scoped>\n",
              "    .dataframe tbody tr th:only-of-type {\n",
              "        vertical-align: middle;\n",
              "    }\n",
              "\n",
              "    .dataframe tbody tr th {\n",
              "        vertical-align: top;\n",
              "    }\n",
              "\n",
              "    .dataframe thead th {\n",
              "        text-align: right;\n",
              "    }\n",
              "</style>\n",
              "<table border=\"1\" class=\"dataframe\">\n",
              "  <thead>\n",
              "    <tr style=\"text-align: right;\">\n",
              "      <th></th>\n",
              "      <th>Unnamed: 0</th>\n",
              "      <th>Walk Score</th>\n",
              "      <th>Transit Score</th>\n",
              "      <th>Bike Score</th>\n",
              "      <th>city_state</th>\n",
              "    </tr>\n",
              "  </thead>\n",
              "  <tbody>\n",
              "    <tr>\n",
              "      <th>0</th>\n",
              "      <td>0</td>\n",
              "      <td>35</td>\n",
              "      <td>25</td>\n",
              "      <td>31</td>\n",
              "      <td>Birmingham, Alabama</td>\n",
              "    </tr>\n",
              "    <tr>\n",
              "      <th>1</th>\n",
              "      <td>1</td>\n",
              "      <td>26</td>\n",
              "      <td>16</td>\n",
              "      <td>38</td>\n",
              "      <td>Montgomery, Alabama</td>\n",
              "    </tr>\n",
              "    <tr>\n",
              "      <th>2</th>\n",
              "      <td>2</td>\n",
              "      <td>32</td>\n",
              "      <td>0</td>\n",
              "      <td>39</td>\n",
              "      <td>Mobile, Alabama</td>\n",
              "    </tr>\n",
              "    <tr>\n",
              "      <th>3</th>\n",
              "      <td>3</td>\n",
              "      <td>24</td>\n",
              "      <td>13</td>\n",
              "      <td>40</td>\n",
              "      <td>Huntsville, Alabama</td>\n",
              "    </tr>\n",
              "    <tr>\n",
              "      <th>4</th>\n",
              "      <td>4</td>\n",
              "      <td>33</td>\n",
              "      <td>0</td>\n",
              "      <td>37</td>\n",
              "      <td>Tuscaloosa, Alabama</td>\n",
              "    </tr>\n",
              "  </tbody>\n",
              "</table>\n",
              "</div>"
            ],
            "text/plain": [
              "   Unnamed: 0  Walk Score  Transit Score  Bike Score           city_state\n",
              "0           0          35             25          31  Birmingham, Alabama\n",
              "1           1          26             16          38  Montgomery, Alabama\n",
              "2           2          32              0          39      Mobile, Alabama\n",
              "3           3          24             13          40  Huntsville, Alabama\n",
              "4           4          33              0          37  Tuscaloosa, Alabama"
            ]
          },
          "metadata": {
            "tags": []
          },
          "execution_count": 11
        }
      ]
    },
    {
      "cell_type": "code",
      "metadata": {
        "colab": {
          "base_uri": "https://localhost:8080/"
        },
        "id": "K5T40EutM80w",
        "outputId": "a0820abc-3d05-436c-a1bd-9640e67bd1c5"
      },
      "source": [
        "# number of unique City_State for Walk Score Dataset\r\n",
        "len(walk_df.city_state.unique())"
      ],
      "execution_count": null,
      "outputs": [
        {
          "output_type": "execute_result",
          "data": {
            "text/plain": [
              "2500"
            ]
          },
          "metadata": {
            "tags": []
          },
          "execution_count": 12
        }
      ]
    },
    {
      "cell_type": "code",
      "metadata": {
        "colab": {
          "base_uri": "https://localhost:8080/"
        },
        "id": "1i0gyUKz9i7i",
        "outputId": "fed8dec9-b527-4aca-ba4e-9de86fd43191"
      },
      "source": [
        "walk_df.shape"
      ],
      "execution_count": null,
      "outputs": [
        {
          "output_type": "execute_result",
          "data": {
            "text/plain": [
              "(2500, 5)"
            ]
          },
          "metadata": {
            "tags": []
          },
          "execution_count": 13
        }
      ]
    },
    {
      "cell_type": "markdown",
      "metadata": {
        "id": "ryIjHpFPEYbk"
      },
      "source": [
        "Population"
      ]
    },
    {
      "cell_type": "code",
      "metadata": {
        "colab": {
          "base_uri": "https://localhost:8080/",
          "height": 204
        },
        "id": "7V-mEfpGylJH",
        "outputId": "7bd38d61-68f1-468d-e3fd-220614a549aa"
      },
      "source": [
        "pop_df.head()"
      ],
      "execution_count": null,
      "outputs": [
        {
          "output_type": "execute_result",
          "data": {
            "text/html": [
              "<div>\n",
              "<style scoped>\n",
              "    .dataframe tbody tr th:only-of-type {\n",
              "        vertical-align: middle;\n",
              "    }\n",
              "\n",
              "    .dataframe tbody tr th {\n",
              "        vertical-align: top;\n",
              "    }\n",
              "\n",
              "    .dataframe thead th {\n",
              "        text-align: right;\n",
              "    }\n",
              "</style>\n",
              "<table border=\"1\" class=\"dataframe\">\n",
              "  <thead>\n",
              "    <tr style=\"text-align: right;\">\n",
              "      <th></th>\n",
              "      <th>YEAR</th>\n",
              "      <th>City_State</th>\n",
              "      <th>POPULATION</th>\n",
              "    </tr>\n",
              "  </thead>\n",
              "  <tbody>\n",
              "    <tr>\n",
              "      <th>0</th>\n",
              "      <td>2021</td>\n",
              "      <td>El Dorado Hills, California</td>\n",
              "      <td>46192.0</td>\n",
              "    </tr>\n",
              "    <tr>\n",
              "      <th>1</th>\n",
              "      <td>2021</td>\n",
              "      <td>Eldridge, California</td>\n",
              "      <td>1208.0</td>\n",
              "    </tr>\n",
              "    <tr>\n",
              "      <th>2</th>\n",
              "      <td>2021</td>\n",
              "      <td>El Granada, California</td>\n",
              "      <td>6695.0</td>\n",
              "    </tr>\n",
              "    <tr>\n",
              "      <th>3</th>\n",
              "      <td>2021</td>\n",
              "      <td>Elizabeth Lake, California</td>\n",
              "      <td>1941.0</td>\n",
              "    </tr>\n",
              "    <tr>\n",
              "      <th>4</th>\n",
              "      <td>2021</td>\n",
              "      <td>Elk Creek, California</td>\n",
              "      <td>239.0</td>\n",
              "    </tr>\n",
              "  </tbody>\n",
              "</table>\n",
              "</div>"
            ],
            "text/plain": [
              "   YEAR                   City_State  POPULATION\n",
              "0  2021  El Dorado Hills, California     46192.0\n",
              "1  2021         Eldridge, California      1208.0\n",
              "2  2021       El Granada, California      6695.0\n",
              "3  2021   Elizabeth Lake, California      1941.0\n",
              "4  2021        Elk Creek, California       239.0"
            ]
          },
          "metadata": {
            "tags": []
          },
          "execution_count": 14
        }
      ]
    },
    {
      "cell_type": "code",
      "metadata": {
        "colab": {
          "base_uri": "https://localhost:8080/"
        },
        "id": "glfW_21Kex1e",
        "outputId": "e455c756-9152-4490-8eab-db6c35d40562"
      },
      "source": [
        "pop_df.shape"
      ],
      "execution_count": null,
      "outputs": [
        {
          "output_type": "execute_result",
          "data": {
            "text/plain": [
              "(29626, 3)"
            ]
          },
          "metadata": {
            "tags": []
          },
          "execution_count": 15
        }
      ]
    },
    {
      "cell_type": "code",
      "metadata": {
        "id": "G45nTZEAyqik"
      },
      "source": [
        "pop_df[\"id_num\"] = pop_df.index"
      ],
      "execution_count": null,
      "outputs": []
    },
    {
      "cell_type": "code",
      "metadata": {
        "id": "if-Sfetlrfb6"
      },
      "source": [
        "# number of unique City_State for Population Dataset\r\n",
        "len(pop_df.city_state.unique())"
      ],
      "execution_count": null,
      "outputs": []
    },
    {
      "cell_type": "markdown",
      "metadata": {
        "id": "7ZgiX0sBEh5e"
      },
      "source": [
        "# First Join for Crime Rate\n",
        "\n",
        "NaN fill with average"
      ]
    },
    {
      "cell_type": "code",
      "metadata": {
        "id": "ovhKxMZHHUOH"
      },
      "source": [
        "# Join the Population df with the Crime Rate df on the City_State column\r\n",
        "join_df = pop_df.set_index('City_State').join(cr_df.set_index('City_State'))"
      ],
      "execution_count": null,
      "outputs": []
    },
    {
      "cell_type": "code",
      "metadata": {
        "colab": {
          "base_uri": "https://localhost:8080/",
          "height": 235
        },
        "id": "bjYNxZI_HULW",
        "outputId": "7f6e876a-7cc9-4f11-c5b9-227119b5e9f5"
      },
      "source": [
        "join_df.head()"
      ],
      "execution_count": null,
      "outputs": [
        {
          "output_type": "execute_result",
          "data": {
            "text/html": [
              "<div>\n",
              "<style scoped>\n",
              "    .dataframe tbody tr th:only-of-type {\n",
              "        vertical-align: middle;\n",
              "    }\n",
              "\n",
              "    .dataframe tbody tr th {\n",
              "        vertical-align: top;\n",
              "    }\n",
              "\n",
              "    .dataframe thead th {\n",
              "        text-align: right;\n",
              "    }\n",
              "</style>\n",
              "<table border=\"1\" class=\"dataframe\">\n",
              "  <thead>\n",
              "    <tr style=\"text-align: right;\">\n",
              "      <th></th>\n",
              "      <th>YEAR</th>\n",
              "      <th>POPULATION</th>\n",
              "      <th>id_num</th>\n",
              "      <th>crime_rate</th>\n",
              "    </tr>\n",
              "    <tr>\n",
              "      <th>City_State</th>\n",
              "      <th></th>\n",
              "      <th></th>\n",
              "      <th></th>\n",
              "      <th></th>\n",
              "    </tr>\n",
              "  </thead>\n",
              "  <tbody>\n",
              "    <tr>\n",
              "      <th>El Dorado Hills, California</th>\n",
              "      <td>2021</td>\n",
              "      <td>46192.0</td>\n",
              "      <td>0</td>\n",
              "      <td>NaN</td>\n",
              "    </tr>\n",
              "    <tr>\n",
              "      <th>Eldridge, California</th>\n",
              "      <td>2021</td>\n",
              "      <td>1208.0</td>\n",
              "      <td>1</td>\n",
              "      <td>NaN</td>\n",
              "    </tr>\n",
              "    <tr>\n",
              "      <th>El Granada, California</th>\n",
              "      <td>2021</td>\n",
              "      <td>6695.0</td>\n",
              "      <td>2</td>\n",
              "      <td>NaN</td>\n",
              "    </tr>\n",
              "    <tr>\n",
              "      <th>Elizabeth Lake, California</th>\n",
              "      <td>2021</td>\n",
              "      <td>1941.0</td>\n",
              "      <td>3</td>\n",
              "      <td>NaN</td>\n",
              "    </tr>\n",
              "    <tr>\n",
              "      <th>Elk Creek, California</th>\n",
              "      <td>2021</td>\n",
              "      <td>239.0</td>\n",
              "      <td>4</td>\n",
              "      <td>NaN</td>\n",
              "    </tr>\n",
              "  </tbody>\n",
              "</table>\n",
              "</div>"
            ],
            "text/plain": [
              "                             YEAR  POPULATION  id_num  crime_rate\n",
              "City_State                                                       \n",
              "El Dorado Hills, California  2021     46192.0       0         NaN\n",
              "Eldridge, California         2021      1208.0       1         NaN\n",
              "El Granada, California       2021      6695.0       2         NaN\n",
              "Elizabeth Lake, California   2021      1941.0       3         NaN\n",
              "Elk Creek, California        2021       239.0       4         NaN"
            ]
          },
          "metadata": {
            "tags": []
          },
          "execution_count": 18
        }
      ]
    },
    {
      "cell_type": "code",
      "metadata": {
        "colab": {
          "base_uri": "https://localhost:8080/"
        },
        "id": "zbIfPPFCHUIu",
        "outputId": "71f3569b-c743-4632-8644-1e7ef6082f10"
      },
      "source": [
        "# Check to see if any rows were lost during the JOIN\r\n",
        "join_df.shape"
      ],
      "execution_count": null,
      "outputs": [
        {
          "output_type": "execute_result",
          "data": {
            "text/plain": [
              "(29626, 4)"
            ]
          },
          "metadata": {
            "tags": []
          },
          "execution_count": 19
        }
      ]
    },
    {
      "cell_type": "code",
      "metadata": {
        "id": "FM5xwtlEfFCx"
      },
      "source": [
        "# make another id column\r\n",
        "join_df[\"id\"] = join_df[\"id_num\"]"
      ],
      "execution_count": null,
      "outputs": []
    },
    {
      "cell_type": "code",
      "metadata": {
        "id": "qfijDmemEhZc"
      },
      "source": [
        "join_df.reset_index(inplace=True)"
      ],
      "execution_count": null,
      "outputs": []
    },
    {
      "cell_type": "code",
      "metadata": {
        "colab": {
          "base_uri": "https://localhost:8080/",
          "height": 204
        },
        "id": "IxNNcapvIU1s",
        "outputId": "8e869988-a9c0-4e9b-e575-6fd3be2d04c8"
      },
      "source": [
        "join_df.head()"
      ],
      "execution_count": null,
      "outputs": [
        {
          "output_type": "execute_result",
          "data": {
            "text/html": [
              "<div>\n",
              "<style scoped>\n",
              "    .dataframe tbody tr th:only-of-type {\n",
              "        vertical-align: middle;\n",
              "    }\n",
              "\n",
              "    .dataframe tbody tr th {\n",
              "        vertical-align: top;\n",
              "    }\n",
              "\n",
              "    .dataframe thead th {\n",
              "        text-align: right;\n",
              "    }\n",
              "</style>\n",
              "<table border=\"1\" class=\"dataframe\">\n",
              "  <thead>\n",
              "    <tr style=\"text-align: right;\">\n",
              "      <th></th>\n",
              "      <th>City_State</th>\n",
              "      <th>YEAR</th>\n",
              "      <th>POPULATION</th>\n",
              "      <th>id_num</th>\n",
              "      <th>crime_rate</th>\n",
              "      <th>id</th>\n",
              "    </tr>\n",
              "  </thead>\n",
              "  <tbody>\n",
              "    <tr>\n",
              "      <th>0</th>\n",
              "      <td>El Dorado Hills, California</td>\n",
              "      <td>2021</td>\n",
              "      <td>46192.0</td>\n",
              "      <td>0</td>\n",
              "      <td>NaN</td>\n",
              "      <td>0</td>\n",
              "    </tr>\n",
              "    <tr>\n",
              "      <th>1</th>\n",
              "      <td>Eldridge, California</td>\n",
              "      <td>2021</td>\n",
              "      <td>1208.0</td>\n",
              "      <td>1</td>\n",
              "      <td>NaN</td>\n",
              "      <td>1</td>\n",
              "    </tr>\n",
              "    <tr>\n",
              "      <th>2</th>\n",
              "      <td>El Granada, California</td>\n",
              "      <td>2021</td>\n",
              "      <td>6695.0</td>\n",
              "      <td>2</td>\n",
              "      <td>NaN</td>\n",
              "      <td>2</td>\n",
              "    </tr>\n",
              "    <tr>\n",
              "      <th>3</th>\n",
              "      <td>Elizabeth Lake, California</td>\n",
              "      <td>2021</td>\n",
              "      <td>1941.0</td>\n",
              "      <td>3</td>\n",
              "      <td>NaN</td>\n",
              "      <td>3</td>\n",
              "    </tr>\n",
              "    <tr>\n",
              "      <th>4</th>\n",
              "      <td>Elk Creek, California</td>\n",
              "      <td>2021</td>\n",
              "      <td>239.0</td>\n",
              "      <td>4</td>\n",
              "      <td>NaN</td>\n",
              "      <td>4</td>\n",
              "    </tr>\n",
              "  </tbody>\n",
              "</table>\n",
              "</div>"
            ],
            "text/plain": [
              "                    City_State  YEAR  POPULATION  id_num  crime_rate  id\n",
              "0  El Dorado Hills, California  2021     46192.0       0         NaN   0\n",
              "1         Eldridge, California  2021      1208.0       1         NaN   1\n",
              "2       El Granada, California  2021      6695.0       2         NaN   2\n",
              "3   Elizabeth Lake, California  2021      1941.0       3         NaN   3\n",
              "4        Elk Creek, California  2021       239.0       4         NaN   4"
            ]
          },
          "metadata": {
            "tags": []
          },
          "execution_count": 22
        }
      ]
    },
    {
      "cell_type": "code",
      "metadata": {
        "id": "eYgcMexQhQgO"
      },
      "source": [
        "# https://stackoverflow.com/questions/20461165/how-to-convert-index-of-a-pandas-dataframe-into-a-column\n",
        "join_df = join_df.set_index('id')"
      ],
      "execution_count": null,
      "outputs": []
    },
    {
      "cell_type": "code",
      "metadata": {
        "colab": {
          "base_uri": "https://localhost:8080/",
          "height": 235
        },
        "id": "CmsZg0CFg3WC",
        "outputId": "5d36c1fd-437f-4a6c-968b-68c7392b4d2e"
      },
      "source": [
        "join_df.head()"
      ],
      "execution_count": null,
      "outputs": [
        {
          "output_type": "execute_result",
          "data": {
            "text/html": [
              "<div>\n",
              "<style scoped>\n",
              "    .dataframe tbody tr th:only-of-type {\n",
              "        vertical-align: middle;\n",
              "    }\n",
              "\n",
              "    .dataframe tbody tr th {\n",
              "        vertical-align: top;\n",
              "    }\n",
              "\n",
              "    .dataframe thead th {\n",
              "        text-align: right;\n",
              "    }\n",
              "</style>\n",
              "<table border=\"1\" class=\"dataframe\">\n",
              "  <thead>\n",
              "    <tr style=\"text-align: right;\">\n",
              "      <th></th>\n",
              "      <th>City_State</th>\n",
              "      <th>YEAR</th>\n",
              "      <th>POPULATION</th>\n",
              "      <th>id_num</th>\n",
              "      <th>crime_rate</th>\n",
              "    </tr>\n",
              "    <tr>\n",
              "      <th>id</th>\n",
              "      <th></th>\n",
              "      <th></th>\n",
              "      <th></th>\n",
              "      <th></th>\n",
              "      <th></th>\n",
              "    </tr>\n",
              "  </thead>\n",
              "  <tbody>\n",
              "    <tr>\n",
              "      <th>0</th>\n",
              "      <td>El Dorado Hills, California</td>\n",
              "      <td>2021</td>\n",
              "      <td>46192.0</td>\n",
              "      <td>0</td>\n",
              "      <td>NaN</td>\n",
              "    </tr>\n",
              "    <tr>\n",
              "      <th>1</th>\n",
              "      <td>Eldridge, California</td>\n",
              "      <td>2021</td>\n",
              "      <td>1208.0</td>\n",
              "      <td>1</td>\n",
              "      <td>NaN</td>\n",
              "    </tr>\n",
              "    <tr>\n",
              "      <th>2</th>\n",
              "      <td>El Granada, California</td>\n",
              "      <td>2021</td>\n",
              "      <td>6695.0</td>\n",
              "      <td>2</td>\n",
              "      <td>NaN</td>\n",
              "    </tr>\n",
              "    <tr>\n",
              "      <th>3</th>\n",
              "      <td>Elizabeth Lake, California</td>\n",
              "      <td>2021</td>\n",
              "      <td>1941.0</td>\n",
              "      <td>3</td>\n",
              "      <td>NaN</td>\n",
              "    </tr>\n",
              "    <tr>\n",
              "      <th>4</th>\n",
              "      <td>Elk Creek, California</td>\n",
              "      <td>2021</td>\n",
              "      <td>239.0</td>\n",
              "      <td>4</td>\n",
              "      <td>NaN</td>\n",
              "    </tr>\n",
              "  </tbody>\n",
              "</table>\n",
              "</div>"
            ],
            "text/plain": [
              "                     City_State  YEAR  POPULATION  id_num  crime_rate\n",
              "id                                                                   \n",
              "0   El Dorado Hills, California  2021     46192.0       0         NaN\n",
              "1          Eldridge, California  2021      1208.0       1         NaN\n",
              "2        El Granada, California  2021      6695.0       2         NaN\n",
              "3    Elizabeth Lake, California  2021      1941.0       3         NaN\n",
              "4         Elk Creek, California  2021       239.0       4         NaN"
            ]
          },
          "metadata": {
            "tags": []
          },
          "execution_count": 25
        }
      ]
    },
    {
      "cell_type": "code",
      "metadata": {
        "colab": {
          "base_uri": "https://localhost:8080/"
        },
        "id": "Ho8L1QquYCMq",
        "outputId": "7720141e-f641-4c22-93d0-1d91d29d5c62"
      },
      "source": [
        "# Find any null values after the Population df and Crime Rate df are joined\r\n",
        "join_df.isna().values.sum()"
      ],
      "execution_count": null,
      "outputs": [
        {
          "output_type": "execute_result",
          "data": {
            "text/plain": [
              "22252"
            ]
          },
          "metadata": {
            "tags": []
          },
          "execution_count": 27
        }
      ]
    },
    {
      "cell_type": "code",
      "metadata": {
        "colab": {
          "base_uri": "https://localhost:8080/",
          "height": 390
        },
        "id": "BH6Ar2neYdtf",
        "outputId": "ef2de9e7-2592-41ab-a6b7-a5dbc31d77cc"
      },
      "source": [
        "join_df.sample(10)"
      ],
      "execution_count": null,
      "outputs": [
        {
          "output_type": "execute_result",
          "data": {
            "text/html": [
              "<div>\n",
              "<style scoped>\n",
              "    .dataframe tbody tr th:only-of-type {\n",
              "        vertical-align: middle;\n",
              "    }\n",
              "\n",
              "    .dataframe tbody tr th {\n",
              "        vertical-align: top;\n",
              "    }\n",
              "\n",
              "    .dataframe thead th {\n",
              "        text-align: right;\n",
              "    }\n",
              "</style>\n",
              "<table border=\"1\" class=\"dataframe\">\n",
              "  <thead>\n",
              "    <tr style=\"text-align: right;\">\n",
              "      <th></th>\n",
              "      <th>City_State</th>\n",
              "      <th>YEAR</th>\n",
              "      <th>POPULATION</th>\n",
              "      <th>id_num</th>\n",
              "      <th>crime_rate</th>\n",
              "    </tr>\n",
              "    <tr>\n",
              "      <th>id</th>\n",
              "      <th></th>\n",
              "      <th></th>\n",
              "      <th></th>\n",
              "      <th></th>\n",
              "      <th></th>\n",
              "    </tr>\n",
              "  </thead>\n",
              "  <tbody>\n",
              "    <tr>\n",
              "      <th>8113</th>\n",
              "      <td>Gapland, Maryland</td>\n",
              "      <td>2021</td>\n",
              "      <td>88.0</td>\n",
              "      <td>8113</td>\n",
              "      <td>NaN</td>\n",
              "    </tr>\n",
              "    <tr>\n",
              "      <th>5101</th>\n",
              "      <td>Altoona, Florida</td>\n",
              "      <td>2021</td>\n",
              "      <td>61.0</td>\n",
              "      <td>5101</td>\n",
              "      <td>NaN</td>\n",
              "    </tr>\n",
              "    <tr>\n",
              "      <th>9762</th>\n",
              "      <td>Parnell, Iowa</td>\n",
              "      <td>2021</td>\n",
              "      <td>239.0</td>\n",
              "      <td>9762</td>\n",
              "      <td>NaN</td>\n",
              "    </tr>\n",
              "    <tr>\n",
              "      <th>24493</th>\n",
              "      <td>Springfield, South Carolina</td>\n",
              "      <td>2021</td>\n",
              "      <td>520.0</td>\n",
              "      <td>24493</td>\n",
              "      <td>NaN</td>\n",
              "    </tr>\n",
              "    <tr>\n",
              "      <th>20084</th>\n",
              "      <td>Alger, Ohio</td>\n",
              "      <td>2021</td>\n",
              "      <td>962.0</td>\n",
              "      <td>20084</td>\n",
              "      <td>NaN</td>\n",
              "    </tr>\n",
              "    <tr>\n",
              "      <th>25744</th>\n",
              "      <td>Del Mar Heights, Texas</td>\n",
              "      <td>2021</td>\n",
              "      <td>280.0</td>\n",
              "      <td>25744</td>\n",
              "      <td>NaN</td>\n",
              "    </tr>\n",
              "    <tr>\n",
              "      <th>1764</th>\n",
              "      <td>Napaskiak, Alaska</td>\n",
              "      <td>2021</td>\n",
              "      <td>392.0</td>\n",
              "      <td>1764</td>\n",
              "      <td>NaN</td>\n",
              "    </tr>\n",
              "    <tr>\n",
              "      <th>29267</th>\n",
              "      <td>Emajagua comunidad, Puerto Rico</td>\n",
              "      <td>2021</td>\n",
              "      <td>2604.0</td>\n",
              "      <td>29267</td>\n",
              "      <td>NaN</td>\n",
              "    </tr>\n",
              "    <tr>\n",
              "      <th>28265</th>\n",
              "      <td>Bayfield, Wisconsin</td>\n",
              "      <td>2021</td>\n",
              "      <td>451.0</td>\n",
              "      <td>28265</td>\n",
              "      <td>55.2</td>\n",
              "    </tr>\n",
              "    <tr>\n",
              "      <th>6161</th>\n",
              "      <td>Danielsville, Georgia</td>\n",
              "      <td>2021</td>\n",
              "      <td>1009.0</td>\n",
              "      <td>6161</td>\n",
              "      <td>27.3</td>\n",
              "    </tr>\n",
              "  </tbody>\n",
              "</table>\n",
              "</div>"
            ],
            "text/plain": [
              "                            City_State  YEAR  POPULATION  id_num  crime_rate\n",
              "id                                                                          \n",
              "8113                 Gapland, Maryland  2021        88.0    8113         NaN\n",
              "5101                  Altoona, Florida  2021        61.0    5101         NaN\n",
              "9762                     Parnell, Iowa  2021       239.0    9762         NaN\n",
              "24493      Springfield, South Carolina  2021       520.0   24493         NaN\n",
              "20084                      Alger, Ohio  2021       962.0   20084         NaN\n",
              "25744           Del Mar Heights, Texas  2021       280.0   25744         NaN\n",
              "1764                 Napaskiak, Alaska  2021       392.0    1764         NaN\n",
              "29267  Emajagua comunidad, Puerto Rico  2021      2604.0   29267         NaN\n",
              "28265              Bayfield, Wisconsin  2021       451.0   28265        55.2\n",
              "6161             Danielsville, Georgia  2021      1009.0    6161        27.3"
            ]
          },
          "metadata": {
            "tags": []
          },
          "execution_count": 28
        }
      ]
    },
    {
      "cell_type": "code",
      "metadata": {
        "id": "zIrc3ld1flkK"
      },
      "source": [
        "# Split the City_State column into the individual columns \r\n",
        "# to help fill the missing values according to State \r\n",
        "join_df[['CITY','STATE']] = join_df.City_State.str.split(\",\",expand=True)"
      ],
      "execution_count": null,
      "outputs": []
    },
    {
      "cell_type": "code",
      "metadata": {
        "colab": {
          "base_uri": "https://localhost:8080/"
        },
        "id": "u73O8Z0Gf-cX",
        "outputId": "c7bc9750-5616-412f-f373-fb01cb532653"
      },
      "source": [
        "join_df.columns"
      ],
      "execution_count": null,
      "outputs": [
        {
          "output_type": "execute_result",
          "data": {
            "text/plain": [
              "Index(['City_State', 'YEAR', 'POPULATION', 'id_num', 'crime_rate', 'CITY',\n",
              "       'STATE'],\n",
              "      dtype='object')"
            ]
          },
          "metadata": {
            "tags": []
          },
          "execution_count": 30
        }
      ]
    },
    {
      "cell_type": "code",
      "metadata": {
        "colab": {
          "base_uri": "https://localhost:8080/"
        },
        "id": "w8bh33DxgZfQ",
        "outputId": "0730eaec-2304-4700-f893-9e582acc4d0e"
      },
      "source": [
        "# number of states accounted for\r\n",
        "len(join_df['STATE'].unique())"
      ],
      "execution_count": null,
      "outputs": [
        {
          "output_type": "execute_result",
          "data": {
            "text/plain": [
              "52"
            ]
          },
          "metadata": {
            "tags": []
          },
          "execution_count": 31
        }
      ]
    },
    {
      "cell_type": "code",
      "metadata": {
        "colab": {
          "base_uri": "https://localhost:8080/",
          "height": 35
        },
        "id": "oBVOcSRTiJZb",
        "outputId": "7779a0fc-f491-4abb-b20b-dca510a66cbf"
      },
      "source": [
        "join_df['STATE'].unique()[0]"
      ],
      "execution_count": null,
      "outputs": [
        {
          "output_type": "execute_result",
          "data": {
            "application/vnd.google.colaboratory.intrinsic+json": {
              "type": "string"
            },
            "text/plain": [
              "' California'"
            ]
          },
          "metadata": {
            "tags": []
          },
          "execution_count": 32
        }
      ]
    },
    {
      "cell_type": "code",
      "metadata": {
        "id": "bwVlbBBAiT8d"
      },
      "source": [
        "states = join_df['STATE'].unique()"
      ],
      "execution_count": null,
      "outputs": []
    },
    {
      "cell_type": "code",
      "metadata": {
        "colab": {
          "base_uri": "https://localhost:8080/"
        },
        "id": "ezacDN79msME",
        "outputId": "c0c22870-b527-4151-bcf4-a4849d648432"
      },
      "source": [
        "# 50 US States including D.C.(District of Columbia) and Puerto Rico\r\n",
        "states"
      ],
      "execution_count": null,
      "outputs": [
        {
          "output_type": "execute_result",
          "data": {
            "text/plain": [
              "array([' California', ' Alabama', ' Alaska', ' Arizona', ' Arkansas',\n",
              "       ' Illinois', ' Colorado', ' Connecticut', ' Delaware',\n",
              "       ' District of Columbia', ' Florida', ' Georgia', ' Hawaii',\n",
              "       ' Idaho', ' Kentucky', ' Louisiana', ' Maine', ' Maryland',\n",
              "       ' Indiana', ' Iowa', ' Kansas', ' Minnesota', ' Mississippi',\n",
              "       ' Missouri', ' Montana', ' Massachusetts', ' Michigan',\n",
              "       ' New York', ' North Carolina', ' Nebraska', ' Nevada',\n",
              "       ' New Hampshire', ' New Jersey', ' New Mexico', ' Pennsylvania',\n",
              "       ' North Dakota', ' Ohio', ' Oklahoma', ' Oregon', ' Texas',\n",
              "       ' Utah', ' Rhode Island', ' South Carolina', ' South Dakota',\n",
              "       ' Tennessee', ' Puerto Rico', ' Vermont', ' Virginia',\n",
              "       ' Washington', ' West Virginia', ' Wisconsin', ' Wyoming'],\n",
              "      dtype=object)"
            ]
          },
          "metadata": {
            "tags": []
          },
          "execution_count": 34
        }
      ]
    },
    {
      "cell_type": "markdown",
      "metadata": {
        "id": "gkwv_-Vq8kU2"
      },
      "source": [
        "## Crime rate fill with Average"
      ]
    },
    {
      "cell_type": "code",
      "metadata": {
        "colab": {
          "base_uri": "https://localhost:8080/"
        },
        "id": "eFgwKVjx8kU6",
        "outputId": "69bf2822-0f3e-4d97-e799-586b71ea66c7"
      },
      "source": [
        "import numpy as np\r\n",
        "import sys\r\n",
        "\r\n",
        "# create a list for df of states crime rate\r\n",
        "states_df = []\r\n",
        "\r\n",
        "for i in range(len(states)):\r\n",
        "    # filter df down to each state\r\n",
        "    df = join_df[join_df['STATE'] == states[i]]\r\n",
        "    # fill the NaN with the average for each state\r\n",
        "    df['crime_rate'] = df['crime_rate'].replace(np.NaN, round(df.crime_rate.mean(), 2))\r\n",
        "    # add df to list of states for concat below\r\n",
        "    states_df.append(df)"
      ],
      "execution_count": null,
      "outputs": [
        {
          "output_type": "stream",
          "text": [
            "/usr/local/lib/python3.6/dist-packages/ipykernel_launcher.py:10: SettingWithCopyWarning: \n",
            "A value is trying to be set on a copy of a slice from a DataFrame.\n",
            "Try using .loc[row_indexer,col_indexer] = value instead\n",
            "\n",
            "See the caveats in the documentation: https://pandas.pydata.org/pandas-docs/stable/user_guide/indexing.html#returning-a-view-versus-a-copy\n",
            "  # Remove the CWD from sys.path while we load stuff.\n"
          ],
          "name": "stderr"
        }
      ]
    },
    {
      "cell_type": "markdown",
      "metadata": {
        "id": "OJ4hV2A_gZyR"
      },
      "source": [
        "## have a look at the fill and some viualizes"
      ]
    },
    {
      "cell_type": "code",
      "metadata": {
        "colab": {
          "base_uri": "https://localhost:8080/",
          "height": 467
        },
        "id": "Q82K259fVbCE",
        "outputId": "3297bdb7-5401-4f59-caad-f12b460cdcc9"
      },
      "source": [
        "states_df[11]"
      ],
      "execution_count": null,
      "outputs": [
        {
          "output_type": "execute_result",
          "data": {
            "text/html": [
              "<div>\n",
              "<style scoped>\n",
              "    .dataframe tbody tr th:only-of-type {\n",
              "        vertical-align: middle;\n",
              "    }\n",
              "\n",
              "    .dataframe tbody tr th {\n",
              "        vertical-align: top;\n",
              "    }\n",
              "\n",
              "    .dataframe thead th {\n",
              "        text-align: right;\n",
              "    }\n",
              "</style>\n",
              "<table border=\"1\" class=\"dataframe\">\n",
              "  <thead>\n",
              "    <tr style=\"text-align: right;\">\n",
              "      <th></th>\n",
              "      <th>City_State</th>\n",
              "      <th>YEAR</th>\n",
              "      <th>POPULATION</th>\n",
              "      <th>id_num</th>\n",
              "      <th>crime_rate</th>\n",
              "      <th>CITY</th>\n",
              "      <th>STATE</th>\n",
              "    </tr>\n",
              "    <tr>\n",
              "      <th>id</th>\n",
              "      <th></th>\n",
              "      <th></th>\n",
              "      <th></th>\n",
              "      <th></th>\n",
              "      <th></th>\n",
              "      <th></th>\n",
              "      <th></th>\n",
              "    </tr>\n",
              "  </thead>\n",
              "  <tbody>\n",
              "    <tr>\n",
              "      <th>6012</th>\n",
              "      <td>Abbeville, Georgia</td>\n",
              "      <td>2021</td>\n",
              "      <td>2821.0</td>\n",
              "      <td>6012</td>\n",
              "      <td>2.90</td>\n",
              "      <td>Abbeville</td>\n",
              "      <td>Georgia</td>\n",
              "    </tr>\n",
              "    <tr>\n",
              "      <th>6013</th>\n",
              "      <td>Acworth, Georgia</td>\n",
              "      <td>2021</td>\n",
              "      <td>23494.0</td>\n",
              "      <td>6013</td>\n",
              "      <td>22.90</td>\n",
              "      <td>Acworth</td>\n",
              "      <td>Georgia</td>\n",
              "    </tr>\n",
              "    <tr>\n",
              "      <th>6014</th>\n",
              "      <td>Adairsville, Georgia</td>\n",
              "      <td>2021</td>\n",
              "      <td>4949.0</td>\n",
              "      <td>6014</td>\n",
              "      <td>32.07</td>\n",
              "      <td>Adairsville</td>\n",
              "      <td>Georgia</td>\n",
              "    </tr>\n",
              "    <tr>\n",
              "      <th>6015</th>\n",
              "      <td>Adel, Georgia</td>\n",
              "      <td>2021</td>\n",
              "      <td>5260.0</td>\n",
              "      <td>6015</td>\n",
              "      <td>32.07</td>\n",
              "      <td>Adel</td>\n",
              "      <td>Georgia</td>\n",
              "    </tr>\n",
              "    <tr>\n",
              "      <th>6016</th>\n",
              "      <td>Adrian, Georgia</td>\n",
              "      <td>2021</td>\n",
              "      <td>732.0</td>\n",
              "      <td>6016</td>\n",
              "      <td>32.07</td>\n",
              "      <td>Adrian</td>\n",
              "      <td>Georgia</td>\n",
              "    </tr>\n",
              "    <tr>\n",
              "      <th>...</th>\n",
              "      <td>...</td>\n",
              "      <td>...</td>\n",
              "      <td>...</td>\n",
              "      <td>...</td>\n",
              "      <td>...</td>\n",
              "      <td>...</td>\n",
              "      <td>...</td>\n",
              "    </tr>\n",
              "    <tr>\n",
              "      <th>29471</th>\n",
              "      <td>Sautee-Nacoochee, Georgia</td>\n",
              "      <td>2021</td>\n",
              "      <td>215.0</td>\n",
              "      <td>29471</td>\n",
              "      <td>32.07</td>\n",
              "      <td>Sautee-Nacoochee</td>\n",
              "      <td>Georgia</td>\n",
              "    </tr>\n",
              "    <tr>\n",
              "      <th>29525</th>\n",
              "      <td>McRae-Helena, Georgia</td>\n",
              "      <td>2021</td>\n",
              "      <td>8276.0</td>\n",
              "      <td>29525</td>\n",
              "      <td>32.07</td>\n",
              "      <td>McRae-Helena</td>\n",
              "      <td>Georgia</td>\n",
              "    </tr>\n",
              "    <tr>\n",
              "      <th>29564</th>\n",
              "      <td>Echols County consolidated government, Georgia</td>\n",
              "      <td>2021</td>\n",
              "      <td>3951.0</td>\n",
              "      <td>29564</td>\n",
              "      <td>32.07</td>\n",
              "      <td>Echols County consolidated government</td>\n",
              "      <td>Georgia</td>\n",
              "    </tr>\n",
              "    <tr>\n",
              "      <th>29588</th>\n",
              "      <td>Stonecrest, Georgia</td>\n",
              "      <td>2021</td>\n",
              "      <td>54971.0</td>\n",
              "      <td>29588</td>\n",
              "      <td>32.07</td>\n",
              "      <td>Stonecrest</td>\n",
              "      <td>Georgia</td>\n",
              "    </tr>\n",
              "    <tr>\n",
              "      <th>29609</th>\n",
              "      <td>South Fulton, Georgia</td>\n",
              "      <td>2021</td>\n",
              "      <td>99025.0</td>\n",
              "      <td>29609</td>\n",
              "      <td>32.07</td>\n",
              "      <td>South Fulton</td>\n",
              "      <td>Georgia</td>\n",
              "    </tr>\n",
              "  </tbody>\n",
              "</table>\n",
              "<p>632 rows × 7 columns</p>\n",
              "</div>"
            ],
            "text/plain": [
              "                                           City_State  ...     STATE\n",
              "id                                                     ...          \n",
              "6012                               Abbeville, Georgia  ...   Georgia\n",
              "6013                                 Acworth, Georgia  ...   Georgia\n",
              "6014                             Adairsville, Georgia  ...   Georgia\n",
              "6015                                    Adel, Georgia  ...   Georgia\n",
              "6016                                  Adrian, Georgia  ...   Georgia\n",
              "...                                               ...  ...       ...\n",
              "29471                       Sautee-Nacoochee, Georgia  ...   Georgia\n",
              "29525                           McRae-Helena, Georgia  ...   Georgia\n",
              "29564  Echols County consolidated government, Georgia  ...   Georgia\n",
              "29588                             Stonecrest, Georgia  ...   Georgia\n",
              "29609                           South Fulton, Georgia  ...   Georgia\n",
              "\n",
              "[632 rows x 7 columns]"
            ]
          },
          "metadata": {
            "tags": []
          },
          "execution_count": 43
        }
      ]
    },
    {
      "cell_type": "code",
      "metadata": {
        "colab": {
          "base_uri": "https://localhost:8080/",
          "height": 279
        },
        "id": "mmDDYniZhmcR",
        "outputId": "0678effc-3263-47bd-a916-0bc29a0ca353"
      },
      "source": [
        "import seaborn as sns\r\n",
        "import matplotlib.pyplot as plt\r\n",
        "\r\n",
        "sns.lineplot(data=states_df[8], x='POPULATION', y=\"crime_rate\")\r\n",
        "\r\n",
        "# control x and y limits\r\n",
        "# sns.plt.ylim(0, 20)\r\n",
        "plt.xlim(0, 5000)\r\n",
        " \r\n",
        "plt.show()\r\n"
      ],
      "execution_count": null,
      "outputs": [
        {
          "output_type": "display_data",
          "data": {
            "image/png": "[encoded data removed]",
            "text/plain": [
              "<Figure size 432x288 with 1 Axes>"
            ]
          },
          "metadata": {
            "tags": [],
            "needs_background": "light"
          }
        }
      ]
    },
    {
      "cell_type": "code",
      "metadata": {
        "colab": {
          "base_uri": "https://localhost:8080/"
        },
        "id": "Z1veWx_t9OO2",
        "outputId": "135f411f-2620-4f26-b774-f4e4d9096a39"
      },
      "source": [
        "len(states_df)"
      ],
      "execution_count": null,
      "outputs": [
        {
          "output_type": "execute_result",
          "data": {
            "text/plain": [
              "52"
            ]
          },
          "metadata": {
            "tags": []
          },
          "execution_count": 46
        }
      ]
    },
    {
      "cell_type": "markdown",
      "metadata": {
        "id": "cd8ftrCxgrop"
      },
      "source": [
        "## Concat the States and fill Nan with dataset average if state ave not available"
      ]
    },
    {
      "cell_type": "code",
      "metadata": {
        "colab": {
          "base_uri": "https://localhost:8080/",
          "height": 235
        },
        "id": "8pWLqSNzMSRQ",
        "outputId": "e9248e4c-5bd8-40f7-ee3d-c12957ef3e77"
      },
      "source": [
        "states_df[1].head()"
      ],
      "execution_count": null,
      "outputs": [
        {
          "output_type": "execute_result",
          "data": {
            "text/html": [
              "<div>\n",
              "<style scoped>\n",
              "    .dataframe tbody tr th:only-of-type {\n",
              "        vertical-align: middle;\n",
              "    }\n",
              "\n",
              "    .dataframe tbody tr th {\n",
              "        vertical-align: top;\n",
              "    }\n",
              "\n",
              "    .dataframe thead th {\n",
              "        text-align: right;\n",
              "    }\n",
              "</style>\n",
              "<table border=\"1\" class=\"dataframe\">\n",
              "  <thead>\n",
              "    <tr style=\"text-align: right;\">\n",
              "      <th></th>\n",
              "      <th>City_State</th>\n",
              "      <th>YEAR</th>\n",
              "      <th>POPULATION</th>\n",
              "      <th>id_num</th>\n",
              "      <th>crime_rate</th>\n",
              "      <th>CITY</th>\n",
              "      <th>STATE</th>\n",
              "    </tr>\n",
              "    <tr>\n",
              "      <th>id</th>\n",
              "      <th></th>\n",
              "      <th></th>\n",
              "      <th></th>\n",
              "      <th></th>\n",
              "      <th></th>\n",
              "      <th></th>\n",
              "      <th></th>\n",
              "    </tr>\n",
              "  </thead>\n",
              "  <tbody>\n",
              "    <tr>\n",
              "      <th>975</th>\n",
              "      <td>Abanda, Alabama</td>\n",
              "      <td>2021</td>\n",
              "      <td>235.0</td>\n",
              "      <td>975</td>\n",
              "      <td>37.72</td>\n",
              "      <td>Abanda</td>\n",
              "      <td>Alabama</td>\n",
              "    </tr>\n",
              "    <tr>\n",
              "      <th>976</th>\n",
              "      <td>Abbeville, Alabama</td>\n",
              "      <td>2021</td>\n",
              "      <td>2527.0</td>\n",
              "      <td>976</td>\n",
              "      <td>26.30</td>\n",
              "      <td>Abbeville</td>\n",
              "      <td>Alabama</td>\n",
              "    </tr>\n",
              "    <tr>\n",
              "      <th>977</th>\n",
              "      <td>Adamsville, Alabama</td>\n",
              "      <td>2021</td>\n",
              "      <td>4285.0</td>\n",
              "      <td>977</td>\n",
              "      <td>71.20</td>\n",
              "      <td>Adamsville</td>\n",
              "      <td>Alabama</td>\n",
              "    </tr>\n",
              "    <tr>\n",
              "      <th>978</th>\n",
              "      <td>Addison, Alabama</td>\n",
              "      <td>2021</td>\n",
              "      <td>621.0</td>\n",
              "      <td>978</td>\n",
              "      <td>37.72</td>\n",
              "      <td>Addison</td>\n",
              "      <td>Alabama</td>\n",
              "    </tr>\n",
              "    <tr>\n",
              "      <th>979</th>\n",
              "      <td>Akron, Alabama</td>\n",
              "      <td>2021</td>\n",
              "      <td>218.0</td>\n",
              "      <td>979</td>\n",
              "      <td>37.72</td>\n",
              "      <td>Akron</td>\n",
              "      <td>Alabama</td>\n",
              "    </tr>\n",
              "  </tbody>\n",
              "</table>\n",
              "</div>"
            ],
            "text/plain": [
              "              City_State  YEAR  POPULATION  ...  crime_rate        CITY     STATE\n",
              "id                                          ...                                  \n",
              "975      Abanda, Alabama  2021       235.0  ...       37.72      Abanda   Alabama\n",
              "976   Abbeville, Alabama  2021      2527.0  ...       26.30   Abbeville   Alabama\n",
              "977  Adamsville, Alabama  2021      4285.0  ...       71.20  Adamsville   Alabama\n",
              "978     Addison, Alabama  2021       621.0  ...       37.72     Addison   Alabama\n",
              "979       Akron, Alabama  2021       218.0  ...       37.72       Akron   Alabama\n",
              "\n",
              "[5 rows x 7 columns]"
            ]
          },
          "metadata": {
            "tags": []
          },
          "execution_count": 48
        }
      ]
    },
    {
      "cell_type": "code",
      "metadata": {
        "id": "mITkEntD9YIS"
      },
      "source": [
        "# just need to join the df together to rebuild full dataframe\n",
        "cr_impute_df = states_df[0]\n",
        "\n",
        "for i in range(1, len(states_df)):\n",
        "    cr_impute_df = pd.concat([cr_impute_df, states_df[i]])"
      ],
      "execution_count": null,
      "outputs": []
    },
    {
      "cell_type": "code",
      "metadata": {
        "id": "HApmQHg69ddz",
        "colab": {
          "base_uri": "https://localhost:8080/"
        },
        "outputId": "f875f8ab-21e7-4007-d7b3-3d5103033cbc"
      },
      "source": [
        "cr_impute_df.shape"
      ],
      "execution_count": null,
      "outputs": [
        {
          "output_type": "execute_result",
          "data": {
            "text/plain": [
              "(29626, 7)"
            ]
          },
          "metadata": {
            "tags": []
          },
          "execution_count": 50
        }
      ]
    },
    {
      "cell_type": "code",
      "metadata": {
        "id": "eYl4Q-Mt9dbZ",
        "colab": {
          "base_uri": "https://localhost:8080/",
          "height": 235
        },
        "outputId": "319dc444-50e9-48d3-b494-e49ce0586466"
      },
      "source": [
        "cr_impute_df.head()"
      ],
      "execution_count": null,
      "outputs": [
        {
          "output_type": "execute_result",
          "data": {
            "text/html": [
              "<div>\n",
              "<style scoped>\n",
              "    .dataframe tbody tr th:only-of-type {\n",
              "        vertical-align: middle;\n",
              "    }\n",
              "\n",
              "    .dataframe tbody tr th {\n",
              "        vertical-align: top;\n",
              "    }\n",
              "\n",
              "    .dataframe thead th {\n",
              "        text-align: right;\n",
              "    }\n",
              "</style>\n",
              "<table border=\"1\" class=\"dataframe\">\n",
              "  <thead>\n",
              "    <tr style=\"text-align: right;\">\n",
              "      <th></th>\n",
              "      <th>City_State</th>\n",
              "      <th>YEAR</th>\n",
              "      <th>POPULATION</th>\n",
              "      <th>id_num</th>\n",
              "      <th>crime_rate</th>\n",
              "      <th>CITY</th>\n",
              "      <th>STATE</th>\n",
              "    </tr>\n",
              "    <tr>\n",
              "      <th>id</th>\n",
              "      <th></th>\n",
              "      <th></th>\n",
              "      <th></th>\n",
              "      <th></th>\n",
              "      <th></th>\n",
              "      <th></th>\n",
              "      <th></th>\n",
              "    </tr>\n",
              "  </thead>\n",
              "  <tbody>\n",
              "    <tr>\n",
              "      <th>0</th>\n",
              "      <td>El Dorado Hills, California</td>\n",
              "      <td>2021</td>\n",
              "      <td>46192.0</td>\n",
              "      <td>0</td>\n",
              "      <td>46.36</td>\n",
              "      <td>El Dorado Hills</td>\n",
              "      <td>California</td>\n",
              "    </tr>\n",
              "    <tr>\n",
              "      <th>1</th>\n",
              "      <td>Eldridge, California</td>\n",
              "      <td>2021</td>\n",
              "      <td>1208.0</td>\n",
              "      <td>1</td>\n",
              "      <td>46.36</td>\n",
              "      <td>Eldridge</td>\n",
              "      <td>California</td>\n",
              "    </tr>\n",
              "    <tr>\n",
              "      <th>2</th>\n",
              "      <td>El Granada, California</td>\n",
              "      <td>2021</td>\n",
              "      <td>6695.0</td>\n",
              "      <td>2</td>\n",
              "      <td>46.36</td>\n",
              "      <td>El Granada</td>\n",
              "      <td>California</td>\n",
              "    </tr>\n",
              "    <tr>\n",
              "      <th>3</th>\n",
              "      <td>Elizabeth Lake, California</td>\n",
              "      <td>2021</td>\n",
              "      <td>1941.0</td>\n",
              "      <td>3</td>\n",
              "      <td>46.36</td>\n",
              "      <td>Elizabeth Lake</td>\n",
              "      <td>California</td>\n",
              "    </tr>\n",
              "    <tr>\n",
              "      <th>4</th>\n",
              "      <td>Elk Creek, California</td>\n",
              "      <td>2021</td>\n",
              "      <td>239.0</td>\n",
              "      <td>4</td>\n",
              "      <td>46.36</td>\n",
              "      <td>Elk Creek</td>\n",
              "      <td>California</td>\n",
              "    </tr>\n",
              "  </tbody>\n",
              "</table>\n",
              "</div>"
            ],
            "text/plain": [
              "                     City_State  YEAR  ...             CITY        STATE\n",
              "id                                     ...                              \n",
              "0   El Dorado Hills, California  2021  ...  El Dorado Hills   California\n",
              "1          Eldridge, California  2021  ...         Eldridge   California\n",
              "2        El Granada, California  2021  ...       El Granada   California\n",
              "3    Elizabeth Lake, California  2021  ...   Elizabeth Lake   California\n",
              "4         Elk Creek, California  2021  ...        Elk Creek   California\n",
              "\n",
              "[5 rows x 7 columns]"
            ]
          },
          "metadata": {
            "tags": []
          },
          "execution_count": 51
        }
      ]
    },
    {
      "cell_type": "code",
      "metadata": {
        "colab": {
          "base_uri": "https://localhost:8080/"
        },
        "id": "n6vFSHkWkplR",
        "outputId": "99d5e616-75c0-4a89-f12e-0289f8d154d2"
      },
      "source": [
        "# check for nans\r\n",
        "cr_impute_df.isna().values.sum()"
      ],
      "execution_count": null,
      "outputs": [
        {
          "output_type": "execute_result",
          "data": {
            "text/plain": [
              "1425"
            ]
          },
          "metadata": {
            "tags": []
          },
          "execution_count": 52
        }
      ]
    },
    {
      "cell_type": "code",
      "metadata": {
        "id": "_N6zkcP6fGzU"
      },
      "source": [
        "# fill nans with ave crime rate for the whole df\r\n",
        "cr_impute_df['crime_rate'] = cr_impute_df['crime_rate'].replace(np.NaN, round(cr_impute_df.crime_rate.mean(), 2))"
      ],
      "execution_count": null,
      "outputs": []
    },
    {
      "cell_type": "code",
      "metadata": {
        "colab": {
          "base_uri": "https://localhost:8080/"
        },
        "id": "dAUdZK7Uk1Jy",
        "outputId": "4988299d-b649-43ee-e1ac-66e755d8b738"
      },
      "source": [
        "# check for nans\r\n",
        "cr_impute_df.isna().values.sum()"
      ],
      "execution_count": null,
      "outputs": [
        {
          "output_type": "execute_result",
          "data": {
            "text/plain": [
              "0"
            ]
          },
          "metadata": {
            "tags": []
          },
          "execution_count": 54
        }
      ]
    },
    {
      "cell_type": "code",
      "metadata": {
        "id": "ySH-el5y9dYj",
        "colab": {
          "base_uri": "https://localhost:8080/",
          "height": 252
        },
        "outputId": "81140dd2-31bc-4f46-aa42-0d4ea60528d9"
      },
      "source": [
        "print(cr_impute_df.shape)\r\n",
        "cr_impute_df.head()"
      ],
      "execution_count": null,
      "outputs": [
        {
          "output_type": "stream",
          "text": [
            "(29626, 7)\n"
          ],
          "name": "stdout"
        },
        {
          "output_type": "execute_result",
          "data": {
            "text/html": [
              "<div>\n",
              "<style scoped>\n",
              "    .dataframe tbody tr th:only-of-type {\n",
              "        vertical-align: middle;\n",
              "    }\n",
              "\n",
              "    .dataframe tbody tr th {\n",
              "        vertical-align: top;\n",
              "    }\n",
              "\n",
              "    .dataframe thead th {\n",
              "        text-align: right;\n",
              "    }\n",
              "</style>\n",
              "<table border=\"1\" class=\"dataframe\">\n",
              "  <thead>\n",
              "    <tr style=\"text-align: right;\">\n",
              "      <th></th>\n",
              "      <th>City_State</th>\n",
              "      <th>YEAR</th>\n",
              "      <th>POPULATION</th>\n",
              "      <th>id_num</th>\n",
              "      <th>crime_rate</th>\n",
              "      <th>CITY</th>\n",
              "      <th>STATE</th>\n",
              "    </tr>\n",
              "    <tr>\n",
              "      <th>id</th>\n",
              "      <th></th>\n",
              "      <th></th>\n",
              "      <th></th>\n",
              "      <th></th>\n",
              "      <th></th>\n",
              "      <th></th>\n",
              "      <th></th>\n",
              "    </tr>\n",
              "  </thead>\n",
              "  <tbody>\n",
              "    <tr>\n",
              "      <th>0</th>\n",
              "      <td>El Dorado Hills, California</td>\n",
              "      <td>2021</td>\n",
              "      <td>46192.0</td>\n",
              "      <td>0</td>\n",
              "      <td>46.36</td>\n",
              "      <td>El Dorado Hills</td>\n",
              "      <td>California</td>\n",
              "    </tr>\n",
              "    <tr>\n",
              "      <th>1</th>\n",
              "      <td>Eldridge, California</td>\n",
              "      <td>2021</td>\n",
              "      <td>1208.0</td>\n",
              "      <td>1</td>\n",
              "      <td>46.36</td>\n",
              "      <td>Eldridge</td>\n",
              "      <td>California</td>\n",
              "    </tr>\n",
              "    <tr>\n",
              "      <th>2</th>\n",
              "      <td>El Granada, California</td>\n",
              "      <td>2021</td>\n",
              "      <td>6695.0</td>\n",
              "      <td>2</td>\n",
              "      <td>46.36</td>\n",
              "      <td>El Granada</td>\n",
              "      <td>California</td>\n",
              "    </tr>\n",
              "    <tr>\n",
              "      <th>3</th>\n",
              "      <td>Elizabeth Lake, California</td>\n",
              "      <td>2021</td>\n",
              "      <td>1941.0</td>\n",
              "      <td>3</td>\n",
              "      <td>46.36</td>\n",
              "      <td>Elizabeth Lake</td>\n",
              "      <td>California</td>\n",
              "    </tr>\n",
              "    <tr>\n",
              "      <th>4</th>\n",
              "      <td>Elk Creek, California</td>\n",
              "      <td>2021</td>\n",
              "      <td>239.0</td>\n",
              "      <td>4</td>\n",
              "      <td>46.36</td>\n",
              "      <td>Elk Creek</td>\n",
              "      <td>California</td>\n",
              "    </tr>\n",
              "  </tbody>\n",
              "</table>\n",
              "</div>"
            ],
            "text/plain": [
              "                     City_State  YEAR  ...             CITY        STATE\n",
              "id                                     ...                              \n",
              "0   El Dorado Hills, California  2021  ...  El Dorado Hills   California\n",
              "1          Eldridge, California  2021  ...         Eldridge   California\n",
              "2        El Granada, California  2021  ...       El Granada   California\n",
              "3    Elizabeth Lake, California  2021  ...   Elizabeth Lake   California\n",
              "4         Elk Creek, California  2021  ...        Elk Creek   California\n",
              "\n",
              "[5 rows x 7 columns]"
            ]
          },
          "metadata": {
            "tags": []
          },
          "execution_count": 55
        }
      ]
    },
    {
      "cell_type": "markdown",
      "metadata": {
        "id": "WPhzHdH_dDN2"
      },
      "source": [
        "# Second Join for Rental Rates"
      ]
    },
    {
      "cell_type": "code",
      "metadata": {
        "colab": {
          "base_uri": "https://localhost:8080/",
          "height": 204
        },
        "id": "bFCP-MmdgN4X",
        "outputId": "1cc498ad-d511-4783-c673-df58e26de6a1"
      },
      "source": [
        "rr_df.head()"
      ],
      "execution_count": null,
      "outputs": [
        {
          "output_type": "execute_result",
          "data": {
            "text/html": [
              "<div>\n",
              "<style scoped>\n",
              "    .dataframe tbody tr th:only-of-type {\n",
              "        vertical-align: middle;\n",
              "    }\n",
              "\n",
              "    .dataframe tbody tr th {\n",
              "        vertical-align: top;\n",
              "    }\n",
              "\n",
              "    .dataframe thead th {\n",
              "        text-align: right;\n",
              "    }\n",
              "</style>\n",
              "<table border=\"1\" class=\"dataframe\">\n",
              "  <thead>\n",
              "    <tr style=\"text-align: right;\">\n",
              "      <th></th>\n",
              "      <th>Unnamed: 0</th>\n",
              "      <th>City_State</th>\n",
              "      <th>Year_Month</th>\n",
              "      <th>Price</th>\n",
              "    </tr>\n",
              "  </thead>\n",
              "  <tbody>\n",
              "    <tr>\n",
              "      <th>0</th>\n",
              "      <td>0</td>\n",
              "      <td>Albuquerque, New Mexico</td>\n",
              "      <td>2021-01</td>\n",
              "      <td>1319.3</td>\n",
              "    </tr>\n",
              "    <tr>\n",
              "      <th>1</th>\n",
              "      <td>1</td>\n",
              "      <td>Allentown, Pennsylvania</td>\n",
              "      <td>2021-01</td>\n",
              "      <td>988.6</td>\n",
              "    </tr>\n",
              "    <tr>\n",
              "      <th>2</th>\n",
              "      <td>2</td>\n",
              "      <td>Anaheim, California</td>\n",
              "      <td>2021-01</td>\n",
              "      <td>2673.7</td>\n",
              "    </tr>\n",
              "    <tr>\n",
              "      <th>3</th>\n",
              "      <td>3</td>\n",
              "      <td>Atlanta, Georgia</td>\n",
              "      <td>2021-01</td>\n",
              "      <td>1643.2</td>\n",
              "    </tr>\n",
              "    <tr>\n",
              "      <th>4</th>\n",
              "      <td>4</td>\n",
              "      <td>Augusta, Georgia</td>\n",
              "      <td>2021-01</td>\n",
              "      <td>1223.1</td>\n",
              "    </tr>\n",
              "  </tbody>\n",
              "</table>\n",
              "</div>"
            ],
            "text/plain": [
              "   Unnamed: 0               City_State Year_Month   Price\n",
              "0           0  Albuquerque, New Mexico    2021-01  1319.3\n",
              "1           1  Allentown, Pennsylvania    2021-01   988.6\n",
              "2           2      Anaheim, California    2021-01  2673.7\n",
              "3           3         Atlanta, Georgia    2021-01  1643.2\n",
              "4           4         Augusta, Georgia    2021-01  1223.1"
            ]
          },
          "metadata": {
            "tags": []
          },
          "execution_count": 56
        }
      ]
    },
    {
      "cell_type": "code",
      "metadata": {
        "id": "WEqpPppSlJDV"
      },
      "source": [
        "rr_df[\"rental_rate\"] = rr_df[\"Price\"].copy()"
      ],
      "execution_count": null,
      "outputs": []
    },
    {
      "cell_type": "code",
      "metadata": {
        "id": "ToGF9ho3gNoj"
      },
      "source": [
        "rr_df = rr_df[[\"City_State\", \"rental_rate\"]]"
      ],
      "execution_count": null,
      "outputs": []
    },
    {
      "cell_type": "code",
      "metadata": {
        "colab": {
          "base_uri": "https://localhost:8080/",
          "height": 204
        },
        "id": "rS7kkIbAgNg-",
        "outputId": "8afe5aa2-47e0-49a9-f0fb-4ed6072d7709"
      },
      "source": [
        "rr_df.head()"
      ],
      "execution_count": null,
      "outputs": [
        {
          "output_type": "execute_result",
          "data": {
            "text/html": [
              "<div>\n",
              "<style scoped>\n",
              "    .dataframe tbody tr th:only-of-type {\n",
              "        vertical-align: middle;\n",
              "    }\n",
              "\n",
              "    .dataframe tbody tr th {\n",
              "        vertical-align: top;\n",
              "    }\n",
              "\n",
              "    .dataframe thead th {\n",
              "        text-align: right;\n",
              "    }\n",
              "</style>\n",
              "<table border=\"1\" class=\"dataframe\">\n",
              "  <thead>\n",
              "    <tr style=\"text-align: right;\">\n",
              "      <th></th>\n",
              "      <th>City_State</th>\n",
              "      <th>rental_rate</th>\n",
              "    </tr>\n",
              "  </thead>\n",
              "  <tbody>\n",
              "    <tr>\n",
              "      <th>0</th>\n",
              "      <td>Albuquerque, New Mexico</td>\n",
              "      <td>1319.3</td>\n",
              "    </tr>\n",
              "    <tr>\n",
              "      <th>1</th>\n",
              "      <td>Allentown, Pennsylvania</td>\n",
              "      <td>988.6</td>\n",
              "    </tr>\n",
              "    <tr>\n",
              "      <th>2</th>\n",
              "      <td>Anaheim, California</td>\n",
              "      <td>2673.7</td>\n",
              "    </tr>\n",
              "    <tr>\n",
              "      <th>3</th>\n",
              "      <td>Atlanta, Georgia</td>\n",
              "      <td>1643.2</td>\n",
              "    </tr>\n",
              "    <tr>\n",
              "      <th>4</th>\n",
              "      <td>Augusta, Georgia</td>\n",
              "      <td>1223.1</td>\n",
              "    </tr>\n",
              "  </tbody>\n",
              "</table>\n",
              "</div>"
            ],
            "text/plain": [
              "                City_State  rental_rate\n",
              "0  Albuquerque, New Mexico       1319.3\n",
              "1  Allentown, Pennsylvania        988.6\n",
              "2      Anaheim, California       2673.7\n",
              "3         Atlanta, Georgia       1643.2\n",
              "4         Augusta, Georgia       1223.1"
            ]
          },
          "metadata": {
            "tags": []
          },
          "execution_count": 59
        }
      ]
    },
    {
      "cell_type": "code",
      "metadata": {
        "id": "QcxFea32lWuK"
      },
      "source": [
        "\r\n",
        "join_df2 = cr_impute_df.set_index('City_State').join(rr_df.set_index('City_State'))"
      ],
      "execution_count": null,
      "outputs": []
    },
    {
      "cell_type": "code",
      "metadata": {
        "colab": {
          "base_uri": "https://localhost:8080/",
          "height": 252
        },
        "id": "ng4jxtDDlWrW",
        "outputId": "dca10331-65da-4c7e-a341-e9b73f780457"
      },
      "source": [
        "print(join_df2.shape)\r\n",
        "join_df2.head()"
      ],
      "execution_count": null,
      "outputs": [
        {
          "output_type": "stream",
          "text": [
            "(29626, 7)\n"
          ],
          "name": "stdout"
        },
        {
          "output_type": "execute_result",
          "data": {
            "text/html": [
              "<div>\n",
              "<style scoped>\n",
              "    .dataframe tbody tr th:only-of-type {\n",
              "        vertical-align: middle;\n",
              "    }\n",
              "\n",
              "    .dataframe tbody tr th {\n",
              "        vertical-align: top;\n",
              "    }\n",
              "\n",
              "    .dataframe thead th {\n",
              "        text-align: right;\n",
              "    }\n",
              "</style>\n",
              "<table border=\"1\" class=\"dataframe\">\n",
              "  <thead>\n",
              "    <tr style=\"text-align: right;\">\n",
              "      <th></th>\n",
              "      <th>YEAR</th>\n",
              "      <th>POPULATION</th>\n",
              "      <th>id_num</th>\n",
              "      <th>crime_rate</th>\n",
              "      <th>CITY</th>\n",
              "      <th>STATE</th>\n",
              "      <th>rental_rate</th>\n",
              "    </tr>\n",
              "    <tr>\n",
              "      <th>City_State</th>\n",
              "      <th></th>\n",
              "      <th></th>\n",
              "      <th></th>\n",
              "      <th></th>\n",
              "      <th></th>\n",
              "      <th></th>\n",
              "      <th></th>\n",
              "    </tr>\n",
              "  </thead>\n",
              "  <tbody>\n",
              "    <tr>\n",
              "      <th>El Dorado Hills, California</th>\n",
              "      <td>2021</td>\n",
              "      <td>46192.0</td>\n",
              "      <td>0</td>\n",
              "      <td>46.36</td>\n",
              "      <td>El Dorado Hills</td>\n",
              "      <td>California</td>\n",
              "      <td>NaN</td>\n",
              "    </tr>\n",
              "    <tr>\n",
              "      <th>Eldridge, California</th>\n",
              "      <td>2021</td>\n",
              "      <td>1208.0</td>\n",
              "      <td>1</td>\n",
              "      <td>46.36</td>\n",
              "      <td>Eldridge</td>\n",
              "      <td>California</td>\n",
              "      <td>NaN</td>\n",
              "    </tr>\n",
              "    <tr>\n",
              "      <th>El Granada, California</th>\n",
              "      <td>2021</td>\n",
              "      <td>6695.0</td>\n",
              "      <td>2</td>\n",
              "      <td>46.36</td>\n",
              "      <td>El Granada</td>\n",
              "      <td>California</td>\n",
              "      <td>NaN</td>\n",
              "    </tr>\n",
              "    <tr>\n",
              "      <th>Elizabeth Lake, California</th>\n",
              "      <td>2021</td>\n",
              "      <td>1941.0</td>\n",
              "      <td>3</td>\n",
              "      <td>46.36</td>\n",
              "      <td>Elizabeth Lake</td>\n",
              "      <td>California</td>\n",
              "      <td>NaN</td>\n",
              "    </tr>\n",
              "    <tr>\n",
              "      <th>Elk Creek, California</th>\n",
              "      <td>2021</td>\n",
              "      <td>239.0</td>\n",
              "      <td>4</td>\n",
              "      <td>46.36</td>\n",
              "      <td>Elk Creek</td>\n",
              "      <td>California</td>\n",
              "      <td>NaN</td>\n",
              "    </tr>\n",
              "  </tbody>\n",
              "</table>\n",
              "</div>"
            ],
            "text/plain": [
              "                             YEAR  POPULATION  ...        STATE  rental_rate\n",
              "City_State                                     ...                          \n",
              "El Dorado Hills, California  2021     46192.0  ...   California          NaN\n",
              "Eldridge, California         2021      1208.0  ...   California          NaN\n",
              "El Granada, California       2021      6695.0  ...   California          NaN\n",
              "Elizabeth Lake, California   2021      1941.0  ...   California          NaN\n",
              "Elk Creek, California        2021       239.0  ...   California          NaN\n",
              "\n",
              "[5 rows x 7 columns]"
            ]
          },
          "metadata": {
            "tags": []
          },
          "execution_count": 61
        }
      ]
    },
    {
      "cell_type": "code",
      "metadata": {
        "id": "lujYpYBxlWoc"
      },
      "source": [
        "# make another id column\r\n",
        "join_df2[\"id\"] = join_df2[\"id_num\"]"
      ],
      "execution_count": null,
      "outputs": []
    },
    {
      "cell_type": "code",
      "metadata": {
        "id": "JWqwmrqluGI7"
      },
      "source": [
        "join_df2.reset_index(inplace=True)"
      ],
      "execution_count": null,
      "outputs": []
    },
    {
      "cell_type": "code",
      "metadata": {
        "id": "bmey32K9mFC6"
      },
      "source": [
        "# reset index to id\r\n",
        "join_df2 = join_df2.set_index('id')"
      ],
      "execution_count": null,
      "outputs": []
    },
    {
      "cell_type": "code",
      "metadata": {
        "colab": {
          "base_uri": "https://localhost:8080/",
          "height": 235
        },
        "id": "IGR5rqRKmE9h",
        "outputId": "10507800-0c5d-4ae4-ad0e-2245e3ec23d5"
      },
      "source": [
        "join_df2.head()"
      ],
      "execution_count": null,
      "outputs": [
        {
          "output_type": "execute_result",
          "data": {
            "text/html": [
              "<div>\n",
              "<style scoped>\n",
              "    .dataframe tbody tr th:only-of-type {\n",
              "        vertical-align: middle;\n",
              "    }\n",
              "\n",
              "    .dataframe tbody tr th {\n",
              "        vertical-align: top;\n",
              "    }\n",
              "\n",
              "    .dataframe thead th {\n",
              "        text-align: right;\n",
              "    }\n",
              "</style>\n",
              "<table border=\"1\" class=\"dataframe\">\n",
              "  <thead>\n",
              "    <tr style=\"text-align: right;\">\n",
              "      <th></th>\n",
              "      <th>City_State</th>\n",
              "      <th>YEAR</th>\n",
              "      <th>POPULATION</th>\n",
              "      <th>id_num</th>\n",
              "      <th>crime_rate</th>\n",
              "      <th>CITY</th>\n",
              "      <th>STATE</th>\n",
              "      <th>rental_rate</th>\n",
              "    </tr>\n",
              "    <tr>\n",
              "      <th>id</th>\n",
              "      <th></th>\n",
              "      <th></th>\n",
              "      <th></th>\n",
              "      <th></th>\n",
              "      <th></th>\n",
              "      <th></th>\n",
              "      <th></th>\n",
              "      <th></th>\n",
              "    </tr>\n",
              "  </thead>\n",
              "  <tbody>\n",
              "    <tr>\n",
              "      <th>0</th>\n",
              "      <td>El Dorado Hills, California</td>\n",
              "      <td>2021</td>\n",
              "      <td>46192.0</td>\n",
              "      <td>0</td>\n",
              "      <td>46.36</td>\n",
              "      <td>El Dorado Hills</td>\n",
              "      <td>California</td>\n",
              "      <td>NaN</td>\n",
              "    </tr>\n",
              "    <tr>\n",
              "      <th>1</th>\n",
              "      <td>Eldridge, California</td>\n",
              "      <td>2021</td>\n",
              "      <td>1208.0</td>\n",
              "      <td>1</td>\n",
              "      <td>46.36</td>\n",
              "      <td>Eldridge</td>\n",
              "      <td>California</td>\n",
              "      <td>NaN</td>\n",
              "    </tr>\n",
              "    <tr>\n",
              "      <th>2</th>\n",
              "      <td>El Granada, California</td>\n",
              "      <td>2021</td>\n",
              "      <td>6695.0</td>\n",
              "      <td>2</td>\n",
              "      <td>46.36</td>\n",
              "      <td>El Granada</td>\n",
              "      <td>California</td>\n",
              "      <td>NaN</td>\n",
              "    </tr>\n",
              "    <tr>\n",
              "      <th>3</th>\n",
              "      <td>Elizabeth Lake, California</td>\n",
              "      <td>2021</td>\n",
              "      <td>1941.0</td>\n",
              "      <td>3</td>\n",
              "      <td>46.36</td>\n",
              "      <td>Elizabeth Lake</td>\n",
              "      <td>California</td>\n",
              "      <td>NaN</td>\n",
              "    </tr>\n",
              "    <tr>\n",
              "      <th>4</th>\n",
              "      <td>Elk Creek, California</td>\n",
              "      <td>2021</td>\n",
              "      <td>239.0</td>\n",
              "      <td>4</td>\n",
              "      <td>46.36</td>\n",
              "      <td>Elk Creek</td>\n",
              "      <td>California</td>\n",
              "      <td>NaN</td>\n",
              "    </tr>\n",
              "  </tbody>\n",
              "</table>\n",
              "</div>"
            ],
            "text/plain": [
              "                     City_State  YEAR  ...        STATE  rental_rate\n",
              "id                                     ...                          \n",
              "0   El Dorado Hills, California  2021  ...   California          NaN\n",
              "1          Eldridge, California  2021  ...   California          NaN\n",
              "2        El Granada, California  2021  ...   California          NaN\n",
              "3    Elizabeth Lake, California  2021  ...   California          NaN\n",
              "4         Elk Creek, California  2021  ...   California          NaN\n",
              "\n",
              "[5 rows x 8 columns]"
            ]
          },
          "metadata": {
            "tags": []
          },
          "execution_count": 65
        }
      ]
    },
    {
      "cell_type": "code",
      "metadata": {
        "colab": {
          "base_uri": "https://localhost:8080/"
        },
        "id": "JJRkdEozmiAV",
        "outputId": "204137e2-6cfd-4906-b850-7c3faafd7b67"
      },
      "source": [
        "join_df2.isna().values.sum()"
      ],
      "execution_count": null,
      "outputs": [
        {
          "output_type": "execute_result",
          "data": {
            "text/plain": [
              "29530"
            ]
          },
          "metadata": {
            "tags": []
          },
          "execution_count": 66
        }
      ]
    },
    {
      "cell_type": "code",
      "metadata": {
        "id": "fjWlTNBzmh8J"
      },
      "source": [
        "# plan to fill with state ave \r\n",
        "# if no state ave availbile then national ave"
      ],
      "execution_count": null,
      "outputs": []
    },
    {
      "cell_type": "code",
      "metadata": {
        "colab": {
          "base_uri": "https://localhost:8080/"
        },
        "id": "1lRTgeSwm74O",
        "outputId": "801abbbf-ce5d-4e9a-d780-6c4badd4fb31"
      },
      "source": [
        "len(join_df2['STATE'].unique())"
      ],
      "execution_count": null,
      "outputs": [
        {
          "output_type": "execute_result",
          "data": {
            "text/plain": [
              "52"
            ]
          },
          "metadata": {
            "tags": []
          },
          "execution_count": 68
        }
      ]
    },
    {
      "cell_type": "markdown",
      "metadata": {
        "id": "xl3HJM1NnFKJ"
      },
      "source": [
        "## Rental Rates fill with State Average"
      ]
    },
    {
      "cell_type": "code",
      "metadata": {
        "colab": {
          "base_uri": "https://localhost:8080/"
        },
        "id": "RYjJN70Bm72C",
        "outputId": "fc8e90fc-4c04-40e0-ca3c-1234078cb947"
      },
      "source": [
        "# create a list for df of states rental rate\r\n",
        "states_df2 = []\r\n",
        "\r\n",
        "for i in range(len(states)):\r\n",
        "    # filter df down to each state\r\n",
        "    df2 = join_df2[join_df2['STATE'] == states[i]]\r\n",
        "    # fill the NaN with the average for each state\r\n",
        "    df2['rental_rate'] = df2['rental_rate'].replace(np.NaN, round(df2.rental_rate.mean(), 2))\r\n",
        "    # add df to list of states for concat below\r\n",
        "    states_df2.append(df2)\r\n"
      ],
      "execution_count": null,
      "outputs": [
        {
          "output_type": "stream",
          "text": [
            "/usr/local/lib/python3.6/dist-packages/ipykernel_launcher.py:7: SettingWithCopyWarning: \n",
            "A value is trying to be set on a copy of a slice from a DataFrame.\n",
            "Try using .loc[row_indexer,col_indexer] = value instead\n",
            "\n",
            "See the caveats in the documentation: https://pandas.pydata.org/pandas-docs/stable/user_guide/indexing.html#returning-a-view-versus-a-copy\n",
            "  import sys\n"
          ],
          "name": "stderr"
        }
      ]
    },
    {
      "cell_type": "code",
      "metadata": {
        "colab": {
          "base_uri": "https://localhost:8080/",
          "height": 235
        },
        "id": "kYjuuccnm7zY",
        "outputId": "35855b50-3b8c-4c88-8a91-36558f1379fc"
      },
      "source": [
        "df2.head()"
      ],
      "execution_count": null,
      "outputs": [
        {
          "output_type": "execute_result",
          "data": {
            "text/html": [
              "<div>\n",
              "<style scoped>\n",
              "    .dataframe tbody tr th:only-of-type {\n",
              "        vertical-align: middle;\n",
              "    }\n",
              "\n",
              "    .dataframe tbody tr th {\n",
              "        vertical-align: top;\n",
              "    }\n",
              "\n",
              "    .dataframe thead th {\n",
              "        text-align: right;\n",
              "    }\n",
              "</style>\n",
              "<table border=\"1\" class=\"dataframe\">\n",
              "  <thead>\n",
              "    <tr style=\"text-align: right;\">\n",
              "      <th></th>\n",
              "      <th>City_State</th>\n",
              "      <th>YEAR</th>\n",
              "      <th>POPULATION</th>\n",
              "      <th>id_num</th>\n",
              "      <th>crime_rate</th>\n",
              "      <th>CITY</th>\n",
              "      <th>STATE</th>\n",
              "      <th>rental_rate</th>\n",
              "    </tr>\n",
              "    <tr>\n",
              "      <th>id</th>\n",
              "      <th></th>\n",
              "      <th></th>\n",
              "      <th></th>\n",
              "      <th></th>\n",
              "      <th></th>\n",
              "      <th></th>\n",
              "      <th></th>\n",
              "      <th></th>\n",
              "    </tr>\n",
              "  </thead>\n",
              "  <tbody>\n",
              "    <tr>\n",
              "      <th>28986</th>\n",
              "      <td>Afton, Wyoming</td>\n",
              "      <td>2021</td>\n",
              "      <td>1988.0</td>\n",
              "      <td>28986</td>\n",
              "      <td>13.90</td>\n",
              "      <td>Afton</td>\n",
              "      <td>Wyoming</td>\n",
              "      <td>NaN</td>\n",
              "    </tr>\n",
              "    <tr>\n",
              "      <th>28987</th>\n",
              "      <td>Albany, Wyoming</td>\n",
              "      <td>2021</td>\n",
              "      <td>48.0</td>\n",
              "      <td>28987</td>\n",
              "      <td>17.27</td>\n",
              "      <td>Albany</td>\n",
              "      <td>Wyoming</td>\n",
              "      <td>NaN</td>\n",
              "    </tr>\n",
              "    <tr>\n",
              "      <th>28988</th>\n",
              "      <td>Albin, Wyoming</td>\n",
              "      <td>2021</td>\n",
              "      <td>171.0</td>\n",
              "      <td>28988</td>\n",
              "      <td>17.27</td>\n",
              "      <td>Albin</td>\n",
              "      <td>Wyoming</td>\n",
              "      <td>NaN</td>\n",
              "    </tr>\n",
              "    <tr>\n",
              "      <th>28989</th>\n",
              "      <td>Alcova, Wyoming</td>\n",
              "      <td>2021</td>\n",
              "      <td>-10.0</td>\n",
              "      <td>28989</td>\n",
              "      <td>17.27</td>\n",
              "      <td>Alcova</td>\n",
              "      <td>Wyoming</td>\n",
              "      <td>NaN</td>\n",
              "    </tr>\n",
              "    <tr>\n",
              "      <th>28990</th>\n",
              "      <td>Alpine, Wyoming</td>\n",
              "      <td>2021</td>\n",
              "      <td>616.0</td>\n",
              "      <td>28990</td>\n",
              "      <td>17.27</td>\n",
              "      <td>Alpine</td>\n",
              "      <td>Wyoming</td>\n",
              "      <td>NaN</td>\n",
              "    </tr>\n",
              "  </tbody>\n",
              "</table>\n",
              "</div>"
            ],
            "text/plain": [
              "            City_State  YEAR  POPULATION  ...    CITY     STATE rental_rate\n",
              "id                                        ...                              \n",
              "28986   Afton, Wyoming  2021      1988.0  ...   Afton   Wyoming         NaN\n",
              "28987  Albany, Wyoming  2021        48.0  ...  Albany   Wyoming         NaN\n",
              "28988   Albin, Wyoming  2021       171.0  ...   Albin   Wyoming         NaN\n",
              "28989  Alcova, Wyoming  2021       -10.0  ...  Alcova   Wyoming         NaN\n",
              "28990  Alpine, Wyoming  2021       616.0  ...  Alpine   Wyoming         NaN\n",
              "\n",
              "[5 rows x 8 columns]"
            ]
          },
          "metadata": {
            "tags": []
          },
          "execution_count": 70
        }
      ]
    },
    {
      "cell_type": "code",
      "metadata": {
        "colab": {
          "base_uri": "https://localhost:8080/"
        },
        "id": "ICQUIhu7m7wg",
        "outputId": "e52fe1d9-7b42-45df-e4fa-90dea705bb49"
      },
      "source": [
        "states_df2[0].isna().values.sum()"
      ],
      "execution_count": null,
      "outputs": [
        {
          "output_type": "execute_result",
          "data": {
            "text/plain": [
              "0"
            ]
          },
          "metadata": {
            "tags": []
          },
          "execution_count": 71
        }
      ]
    },
    {
      "cell_type": "code",
      "metadata": {
        "colab": {
          "base_uri": "https://localhost:8080/",
          "height": 235
        },
        "id": "qIUjt5ZrohM3",
        "outputId": "2bc26ab1-6107-4e04-b348-9b58daea8709"
      },
      "source": [
        "states_df2[0].head()"
      ],
      "execution_count": null,
      "outputs": [
        {
          "output_type": "execute_result",
          "data": {
            "text/html": [
              "<div>\n",
              "<style scoped>\n",
              "    .dataframe tbody tr th:only-of-type {\n",
              "        vertical-align: middle;\n",
              "    }\n",
              "\n",
              "    .dataframe tbody tr th {\n",
              "        vertical-align: top;\n",
              "    }\n",
              "\n",
              "    .dataframe thead th {\n",
              "        text-align: right;\n",
              "    }\n",
              "</style>\n",
              "<table border=\"1\" class=\"dataframe\">\n",
              "  <thead>\n",
              "    <tr style=\"text-align: right;\">\n",
              "      <th></th>\n",
              "      <th>City_State</th>\n",
              "      <th>YEAR</th>\n",
              "      <th>POPULATION</th>\n",
              "      <th>id_num</th>\n",
              "      <th>crime_rate</th>\n",
              "      <th>CITY</th>\n",
              "      <th>STATE</th>\n",
              "      <th>rental_rate</th>\n",
              "    </tr>\n",
              "    <tr>\n",
              "      <th>id</th>\n",
              "      <th></th>\n",
              "      <th></th>\n",
              "      <th></th>\n",
              "      <th></th>\n",
              "      <th></th>\n",
              "      <th></th>\n",
              "      <th></th>\n",
              "      <th></th>\n",
              "    </tr>\n",
              "  </thead>\n",
              "  <tbody>\n",
              "    <tr>\n",
              "      <th>0</th>\n",
              "      <td>El Dorado Hills, California</td>\n",
              "      <td>2021</td>\n",
              "      <td>46192.0</td>\n",
              "      <td>0</td>\n",
              "      <td>46.36</td>\n",
              "      <td>El Dorado Hills</td>\n",
              "      <td>California</td>\n",
              "      <td>2477.6</td>\n",
              "    </tr>\n",
              "    <tr>\n",
              "      <th>1</th>\n",
              "      <td>Eldridge, California</td>\n",
              "      <td>2021</td>\n",
              "      <td>1208.0</td>\n",
              "      <td>1</td>\n",
              "      <td>46.36</td>\n",
              "      <td>Eldridge</td>\n",
              "      <td>California</td>\n",
              "      <td>2477.6</td>\n",
              "    </tr>\n",
              "    <tr>\n",
              "      <th>2</th>\n",
              "      <td>El Granada, California</td>\n",
              "      <td>2021</td>\n",
              "      <td>6695.0</td>\n",
              "      <td>2</td>\n",
              "      <td>46.36</td>\n",
              "      <td>El Granada</td>\n",
              "      <td>California</td>\n",
              "      <td>2477.6</td>\n",
              "    </tr>\n",
              "    <tr>\n",
              "      <th>3</th>\n",
              "      <td>Elizabeth Lake, California</td>\n",
              "      <td>2021</td>\n",
              "      <td>1941.0</td>\n",
              "      <td>3</td>\n",
              "      <td>46.36</td>\n",
              "      <td>Elizabeth Lake</td>\n",
              "      <td>California</td>\n",
              "      <td>2477.6</td>\n",
              "    </tr>\n",
              "    <tr>\n",
              "      <th>4</th>\n",
              "      <td>Elk Creek, California</td>\n",
              "      <td>2021</td>\n",
              "      <td>239.0</td>\n",
              "      <td>4</td>\n",
              "      <td>46.36</td>\n",
              "      <td>Elk Creek</td>\n",
              "      <td>California</td>\n",
              "      <td>2477.6</td>\n",
              "    </tr>\n",
              "  </tbody>\n",
              "</table>\n",
              "</div>"
            ],
            "text/plain": [
              "                     City_State  YEAR  ...        STATE  rental_rate\n",
              "id                                     ...                          \n",
              "0   El Dorado Hills, California  2021  ...   California       2477.6\n",
              "1          Eldridge, California  2021  ...   California       2477.6\n",
              "2        El Granada, California  2021  ...   California       2477.6\n",
              "3    Elizabeth Lake, California  2021  ...   California       2477.6\n",
              "4         Elk Creek, California  2021  ...   California       2477.6\n",
              "\n",
              "[5 rows x 8 columns]"
            ]
          },
          "metadata": {
            "tags": []
          },
          "execution_count": 72
        }
      ]
    },
    {
      "cell_type": "markdown",
      "metadata": {
        "id": "xiR-QuqIpi4L"
      },
      "source": [
        "## Rental Rates Concat the States and fill Nan with dataset average if state ave not available"
      ]
    },
    {
      "cell_type": "code",
      "metadata": {
        "id": "qCl8iUiDmE7O"
      },
      "source": [
        "# just need to join the df together to rebuild full dataframe\r\n",
        "rr_impute_df = states_df2[0]\r\n",
        "\r\n",
        "for i in range(1, len(states_df2)):\r\n",
        "    rr_impute_df = pd.concat([rr_impute_df, states_df2[i]])"
      ],
      "execution_count": null,
      "outputs": []
    },
    {
      "cell_type": "code",
      "metadata": {
        "colab": {
          "base_uri": "https://localhost:8080/"
        },
        "id": "Rm796j47mE5M",
        "outputId": "efe4a435-a984-4c92-a107-b71f3e9a0032"
      },
      "source": [
        "print(rr_impute_df.shape)\r\n",
        "rr_impute_df.isna().values.sum()"
      ],
      "execution_count": null,
      "outputs": [
        {
          "output_type": "stream",
          "text": [
            "(29626, 8)\n"
          ],
          "name": "stdout"
        },
        {
          "output_type": "execute_result",
          "data": {
            "text/plain": [
              "4944"
            ]
          },
          "metadata": {
            "tags": []
          },
          "execution_count": 74
        }
      ]
    },
    {
      "cell_type": "code",
      "metadata": {
        "id": "N9FdTYHfmE2_"
      },
      "source": [
        "# fill nans with ave\r\n",
        "rr_impute_df['rental_rate'] = rr_impute_df['rental_rate'].replace(np.NaN, round(rr_impute_df.rental_rate.mean(), 2))"
      ],
      "execution_count": null,
      "outputs": []
    },
    {
      "cell_type": "code",
      "metadata": {
        "colab": {
          "base_uri": "https://localhost:8080/"
        },
        "id": "CGbbYDqjmE0S",
        "outputId": "773e4694-7d62-4fd1-d039-f777e77fb1af"
      },
      "source": [
        "rr_impute_df.isna().values.sum()"
      ],
      "execution_count": null,
      "outputs": [
        {
          "output_type": "execute_result",
          "data": {
            "text/plain": [
              "0"
            ]
          },
          "metadata": {
            "tags": []
          },
          "execution_count": 76
        }
      ]
    },
    {
      "cell_type": "code",
      "metadata": {
        "colab": {
          "base_uri": "https://localhost:8080/",
          "height": 252
        },
        "id": "EdMzy-N5qXDi",
        "outputId": "457785e2-9b45-445d-ff9c-0324c3b9a863"
      },
      "source": [
        "print(rr_impute_df.shape)\r\n",
        "rr_impute_df.head()"
      ],
      "execution_count": null,
      "outputs": [
        {
          "output_type": "stream",
          "text": [
            "(29626, 8)\n"
          ],
          "name": "stdout"
        },
        {
          "output_type": "execute_result",
          "data": {
            "text/html": [
              "<div>\n",
              "<style scoped>\n",
              "    .dataframe tbody tr th:only-of-type {\n",
              "        vertical-align: middle;\n",
              "    }\n",
              "\n",
              "    .dataframe tbody tr th {\n",
              "        vertical-align: top;\n",
              "    }\n",
              "\n",
              "    .dataframe thead th {\n",
              "        text-align: right;\n",
              "    }\n",
              "</style>\n",
              "<table border=\"1\" class=\"dataframe\">\n",
              "  <thead>\n",
              "    <tr style=\"text-align: right;\">\n",
              "      <th></th>\n",
              "      <th>City_State</th>\n",
              "      <th>YEAR</th>\n",
              "      <th>POPULATION</th>\n",
              "      <th>id_num</th>\n",
              "      <th>crime_rate</th>\n",
              "      <th>CITY</th>\n",
              "      <th>STATE</th>\n",
              "      <th>rental_rate</th>\n",
              "    </tr>\n",
              "    <tr>\n",
              "      <th>id</th>\n",
              "      <th></th>\n",
              "      <th></th>\n",
              "      <th></th>\n",
              "      <th></th>\n",
              "      <th></th>\n",
              "      <th></th>\n",
              "      <th></th>\n",
              "      <th></th>\n",
              "    </tr>\n",
              "  </thead>\n",
              "  <tbody>\n",
              "    <tr>\n",
              "      <th>0</th>\n",
              "      <td>El Dorado Hills, California</td>\n",
              "      <td>2021</td>\n",
              "      <td>46192.0</td>\n",
              "      <td>0</td>\n",
              "      <td>46.36</td>\n",
              "      <td>El Dorado Hills</td>\n",
              "      <td>California</td>\n",
              "      <td>2477.6</td>\n",
              "    </tr>\n",
              "    <tr>\n",
              "      <th>1</th>\n",
              "      <td>Eldridge, California</td>\n",
              "      <td>2021</td>\n",
              "      <td>1208.0</td>\n",
              "      <td>1</td>\n",
              "      <td>46.36</td>\n",
              "      <td>Eldridge</td>\n",
              "      <td>California</td>\n",
              "      <td>2477.6</td>\n",
              "    </tr>\n",
              "    <tr>\n",
              "      <th>2</th>\n",
              "      <td>El Granada, California</td>\n",
              "      <td>2021</td>\n",
              "      <td>6695.0</td>\n",
              "      <td>2</td>\n",
              "      <td>46.36</td>\n",
              "      <td>El Granada</td>\n",
              "      <td>California</td>\n",
              "      <td>2477.6</td>\n",
              "    </tr>\n",
              "    <tr>\n",
              "      <th>3</th>\n",
              "      <td>Elizabeth Lake, California</td>\n",
              "      <td>2021</td>\n",
              "      <td>1941.0</td>\n",
              "      <td>3</td>\n",
              "      <td>46.36</td>\n",
              "      <td>Elizabeth Lake</td>\n",
              "      <td>California</td>\n",
              "      <td>2477.6</td>\n",
              "    </tr>\n",
              "    <tr>\n",
              "      <th>4</th>\n",
              "      <td>Elk Creek, California</td>\n",
              "      <td>2021</td>\n",
              "      <td>239.0</td>\n",
              "      <td>4</td>\n",
              "      <td>46.36</td>\n",
              "      <td>Elk Creek</td>\n",
              "      <td>California</td>\n",
              "      <td>2477.6</td>\n",
              "    </tr>\n",
              "  </tbody>\n",
              "</table>\n",
              "</div>"
            ],
            "text/plain": [
              "                     City_State  YEAR  ...        STATE  rental_rate\n",
              "id                                     ...                          \n",
              "0   El Dorado Hills, California  2021  ...   California       2477.6\n",
              "1          Eldridge, California  2021  ...   California       2477.6\n",
              "2        El Granada, California  2021  ...   California       2477.6\n",
              "3    Elizabeth Lake, California  2021  ...   California       2477.6\n",
              "4         Elk Creek, California  2021  ...   California       2477.6\n",
              "\n",
              "[5 rows x 8 columns]"
            ]
          },
          "metadata": {
            "tags": []
          },
          "execution_count": 77
        }
      ]
    },
    {
      "cell_type": "markdown",
      "metadata": {
        "id": "whxDE4S1q04O"
      },
      "source": [
        "# Third Join for Walk Score \r\n",
        "\r\n"
      ]
    },
    {
      "cell_type": "code",
      "metadata": {
        "colab": {
          "base_uri": "https://localhost:8080/",
          "height": 204
        },
        "id": "TMaL1X3ZqwAG",
        "outputId": "0ad575a8-da31-4e10-ca01-9e2b4f0e803f"
      },
      "source": [
        "walk_df.head()"
      ],
      "execution_count": null,
      "outputs": [
        {
          "output_type": "execute_result",
          "data": {
            "text/html": [
              "<div>\n",
              "<style scoped>\n",
              "    .dataframe tbody tr th:only-of-type {\n",
              "        vertical-align: middle;\n",
              "    }\n",
              "\n",
              "    .dataframe tbody tr th {\n",
              "        vertical-align: top;\n",
              "    }\n",
              "\n",
              "    .dataframe thead th {\n",
              "        text-align: right;\n",
              "    }\n",
              "</style>\n",
              "<table border=\"1\" class=\"dataframe\">\n",
              "  <thead>\n",
              "    <tr style=\"text-align: right;\">\n",
              "      <th></th>\n",
              "      <th>Unnamed: 0</th>\n",
              "      <th>Walk Score</th>\n",
              "      <th>Transit Score</th>\n",
              "      <th>Bike Score</th>\n",
              "      <th>city_state</th>\n",
              "    </tr>\n",
              "  </thead>\n",
              "  <tbody>\n",
              "    <tr>\n",
              "      <th>0</th>\n",
              "      <td>0</td>\n",
              "      <td>35</td>\n",
              "      <td>25</td>\n",
              "      <td>31</td>\n",
              "      <td>Birmingham, Alabama</td>\n",
              "    </tr>\n",
              "    <tr>\n",
              "      <th>1</th>\n",
              "      <td>1</td>\n",
              "      <td>26</td>\n",
              "      <td>16</td>\n",
              "      <td>38</td>\n",
              "      <td>Montgomery, Alabama</td>\n",
              "    </tr>\n",
              "    <tr>\n",
              "      <th>2</th>\n",
              "      <td>2</td>\n",
              "      <td>32</td>\n",
              "      <td>0</td>\n",
              "      <td>39</td>\n",
              "      <td>Mobile, Alabama</td>\n",
              "    </tr>\n",
              "    <tr>\n",
              "      <th>3</th>\n",
              "      <td>3</td>\n",
              "      <td>24</td>\n",
              "      <td>13</td>\n",
              "      <td>40</td>\n",
              "      <td>Huntsville, Alabama</td>\n",
              "    </tr>\n",
              "    <tr>\n",
              "      <th>4</th>\n",
              "      <td>4</td>\n",
              "      <td>33</td>\n",
              "      <td>0</td>\n",
              "      <td>37</td>\n",
              "      <td>Tuscaloosa, Alabama</td>\n",
              "    </tr>\n",
              "  </tbody>\n",
              "</table>\n",
              "</div>"
            ],
            "text/plain": [
              "   Unnamed: 0  Walk Score  Transit Score  Bike Score           city_state\n",
              "0           0          35             25          31  Birmingham, Alabama\n",
              "1           1          26             16          38  Montgomery, Alabama\n",
              "2           2          32              0          39      Mobile, Alabama\n",
              "3           3          24             13          40  Huntsville, Alabama\n",
              "4           4          33              0          37  Tuscaloosa, Alabama"
            ]
          },
          "metadata": {
            "tags": []
          },
          "execution_count": 78
        }
      ]
    },
    {
      "cell_type": "code",
      "metadata": {
        "id": "__hrHdTzqv9m"
      },
      "source": [
        "walk_df[\"City_State\"] = walk_df[\"city_state\"].copy()\r\n",
        "walk_df[\"walk_score\"] = walk_df[\"Walk Score\"].copy()\r\n"
      ],
      "execution_count": null,
      "outputs": []
    },
    {
      "cell_type": "code",
      "metadata": {
        "id": "8b7Vqtgjqv63"
      },
      "source": [
        "walk_df = walk_df[[\"City_State\", \"walk_score\"]]"
      ],
      "execution_count": null,
      "outputs": []
    },
    {
      "cell_type": "code",
      "metadata": {
        "colab": {
          "base_uri": "https://localhost:8080/",
          "height": 221
        },
        "id": "bEAlxGtIqv4d",
        "outputId": "bca330e5-695d-40a9-bb5c-e01b75256c42"
      },
      "source": [
        "print(walk_df.shape)\r\n",
        "walk_df.head()"
      ],
      "execution_count": null,
      "outputs": [
        {
          "output_type": "stream",
          "text": [
            "(2500, 2)\n"
          ],
          "name": "stdout"
        },
        {
          "output_type": "execute_result",
          "data": {
            "text/html": [
              "<div>\n",
              "<style scoped>\n",
              "    .dataframe tbody tr th:only-of-type {\n",
              "        vertical-align: middle;\n",
              "    }\n",
              "\n",
              "    .dataframe tbody tr th {\n",
              "        vertical-align: top;\n",
              "    }\n",
              "\n",
              "    .dataframe thead th {\n",
              "        text-align: right;\n",
              "    }\n",
              "</style>\n",
              "<table border=\"1\" class=\"dataframe\">\n",
              "  <thead>\n",
              "    <tr style=\"text-align: right;\">\n",
              "      <th></th>\n",
              "      <th>City_State</th>\n",
              "      <th>walk_score</th>\n",
              "    </tr>\n",
              "  </thead>\n",
              "  <tbody>\n",
              "    <tr>\n",
              "      <th>0</th>\n",
              "      <td>Birmingham, Alabama</td>\n",
              "      <td>35</td>\n",
              "    </tr>\n",
              "    <tr>\n",
              "      <th>1</th>\n",
              "      <td>Montgomery, Alabama</td>\n",
              "      <td>26</td>\n",
              "    </tr>\n",
              "    <tr>\n",
              "      <th>2</th>\n",
              "      <td>Mobile, Alabama</td>\n",
              "      <td>32</td>\n",
              "    </tr>\n",
              "    <tr>\n",
              "      <th>3</th>\n",
              "      <td>Huntsville, Alabama</td>\n",
              "      <td>24</td>\n",
              "    </tr>\n",
              "    <tr>\n",
              "      <th>4</th>\n",
              "      <td>Tuscaloosa, Alabama</td>\n",
              "      <td>33</td>\n",
              "    </tr>\n",
              "  </tbody>\n",
              "</table>\n",
              "</div>"
            ],
            "text/plain": [
              "            City_State  walk_score\n",
              "0  Birmingham, Alabama          35\n",
              "1  Montgomery, Alabama          26\n",
              "2      Mobile, Alabama          32\n",
              "3  Huntsville, Alabama          24\n",
              "4  Tuscaloosa, Alabama          33"
            ]
          },
          "metadata": {
            "tags": []
          },
          "execution_count": 81
        }
      ]
    },
    {
      "cell_type": "code",
      "metadata": {
        "colab": {
          "base_uri": "https://localhost:8080/",
          "height": 235
        },
        "id": "9g9oarbTtsS6",
        "outputId": "71aeb6d2-6f59-43ec-d02a-bb7f4dd0c098"
      },
      "source": [
        "rr_impute_df.head()"
      ],
      "execution_count": null,
      "outputs": [
        {
          "output_type": "execute_result",
          "data": {
            "text/html": [
              "<div>\n",
              "<style scoped>\n",
              "    .dataframe tbody tr th:only-of-type {\n",
              "        vertical-align: middle;\n",
              "    }\n",
              "\n",
              "    .dataframe tbody tr th {\n",
              "        vertical-align: top;\n",
              "    }\n",
              "\n",
              "    .dataframe thead th {\n",
              "        text-align: right;\n",
              "    }\n",
              "</style>\n",
              "<table border=\"1\" class=\"dataframe\">\n",
              "  <thead>\n",
              "    <tr style=\"text-align: right;\">\n",
              "      <th></th>\n",
              "      <th>City_State</th>\n",
              "      <th>YEAR</th>\n",
              "      <th>POPULATION</th>\n",
              "      <th>id_num</th>\n",
              "      <th>crime_rate</th>\n",
              "      <th>CITY</th>\n",
              "      <th>STATE</th>\n",
              "      <th>rental_rate</th>\n",
              "    </tr>\n",
              "    <tr>\n",
              "      <th>id</th>\n",
              "      <th></th>\n",
              "      <th></th>\n",
              "      <th></th>\n",
              "      <th></th>\n",
              "      <th></th>\n",
              "      <th></th>\n",
              "      <th></th>\n",
              "      <th></th>\n",
              "    </tr>\n",
              "  </thead>\n",
              "  <tbody>\n",
              "    <tr>\n",
              "      <th>0</th>\n",
              "      <td>El Dorado Hills, California</td>\n",
              "      <td>2021</td>\n",
              "      <td>46192.0</td>\n",
              "      <td>0</td>\n",
              "      <td>46.36</td>\n",
              "      <td>El Dorado Hills</td>\n",
              "      <td>California</td>\n",
              "      <td>2477.6</td>\n",
              "    </tr>\n",
              "    <tr>\n",
              "      <th>1</th>\n",
              "      <td>Eldridge, California</td>\n",
              "      <td>2021</td>\n",
              "      <td>1208.0</td>\n",
              "      <td>1</td>\n",
              "      <td>46.36</td>\n",
              "      <td>Eldridge</td>\n",
              "      <td>California</td>\n",
              "      <td>2477.6</td>\n",
              "    </tr>\n",
              "    <tr>\n",
              "      <th>2</th>\n",
              "      <td>El Granada, California</td>\n",
              "      <td>2021</td>\n",
              "      <td>6695.0</td>\n",
              "      <td>2</td>\n",
              "      <td>46.36</td>\n",
              "      <td>El Granada</td>\n",
              "      <td>California</td>\n",
              "      <td>2477.6</td>\n",
              "    </tr>\n",
              "    <tr>\n",
              "      <th>3</th>\n",
              "      <td>Elizabeth Lake, California</td>\n",
              "      <td>2021</td>\n",
              "      <td>1941.0</td>\n",
              "      <td>3</td>\n",
              "      <td>46.36</td>\n",
              "      <td>Elizabeth Lake</td>\n",
              "      <td>California</td>\n",
              "      <td>2477.6</td>\n",
              "    </tr>\n",
              "    <tr>\n",
              "      <th>4</th>\n",
              "      <td>Elk Creek, California</td>\n",
              "      <td>2021</td>\n",
              "      <td>239.0</td>\n",
              "      <td>4</td>\n",
              "      <td>46.36</td>\n",
              "      <td>Elk Creek</td>\n",
              "      <td>California</td>\n",
              "      <td>2477.6</td>\n",
              "    </tr>\n",
              "  </tbody>\n",
              "</table>\n",
              "</div>"
            ],
            "text/plain": [
              "                     City_State  YEAR  ...        STATE  rental_rate\n",
              "id                                     ...                          \n",
              "0   El Dorado Hills, California  2021  ...   California       2477.6\n",
              "1          Eldridge, California  2021  ...   California       2477.6\n",
              "2        El Granada, California  2021  ...   California       2477.6\n",
              "3    Elizabeth Lake, California  2021  ...   California       2477.6\n",
              "4         Elk Creek, California  2021  ...   California       2477.6\n",
              "\n",
              "[5 rows x 8 columns]"
            ]
          },
          "metadata": {
            "tags": []
          },
          "execution_count": 82
        }
      ]
    },
    {
      "cell_type": "code",
      "metadata": {
        "id": "8ucJsQcrqv1k"
      },
      "source": [
        "join_df3 = rr_impute_df.set_index('City_State').join(walk_df.set_index('City_State'))"
      ],
      "execution_count": null,
      "outputs": []
    },
    {
      "cell_type": "code",
      "metadata": {
        "colab": {
          "base_uri": "https://localhost:8080/"
        },
        "id": "6IUNhEv0tIL1",
        "outputId": "b039316a-e040-4fee-8aff-3e530435d701"
      },
      "source": [
        "join_df3.shape"
      ],
      "execution_count": null,
      "outputs": [
        {
          "output_type": "execute_result",
          "data": {
            "text/plain": [
              "(29626, 8)"
            ]
          },
          "metadata": {
            "tags": []
          },
          "execution_count": 84
        }
      ]
    },
    {
      "cell_type": "code",
      "metadata": {
        "colab": {
          "base_uri": "https://localhost:8080/"
        },
        "id": "Wzp_nvQJtIJk",
        "outputId": "4c5f381a-22bf-48d5-b5ab-f41cab3fd1c3"
      },
      "source": [
        "join_df3.isna().values.sum()"
      ],
      "execution_count": null,
      "outputs": [
        {
          "output_type": "execute_result",
          "data": {
            "text/plain": [
              "27150"
            ]
          },
          "metadata": {
            "tags": []
          },
          "execution_count": 85
        }
      ]
    },
    {
      "cell_type": "code",
      "metadata": {
        "colab": {
          "base_uri": "https://localhost:8080/",
          "height": 269
        },
        "id": "JbwKCQjp8Dte",
        "outputId": "c2603dc0-8299-46fb-abc4-8a8989db9fd1"
      },
      "source": [
        "join_df3.head()"
      ],
      "execution_count": null,
      "outputs": [
        {
          "output_type": "execute_result",
          "data": {
            "text/html": [
              "<div>\n",
              "<style scoped>\n",
              "    .dataframe tbody tr th:only-of-type {\n",
              "        vertical-align: middle;\n",
              "    }\n",
              "\n",
              "    .dataframe tbody tr th {\n",
              "        vertical-align: top;\n",
              "    }\n",
              "\n",
              "    .dataframe thead th {\n",
              "        text-align: right;\n",
              "    }\n",
              "</style>\n",
              "<table border=\"1\" class=\"dataframe\">\n",
              "  <thead>\n",
              "    <tr style=\"text-align: right;\">\n",
              "      <th></th>\n",
              "      <th>YEAR</th>\n",
              "      <th>POPULATION</th>\n",
              "      <th>id_num</th>\n",
              "      <th>crime_rate</th>\n",
              "      <th>CITY</th>\n",
              "      <th>STATE</th>\n",
              "      <th>rental_rate</th>\n",
              "      <th>walk_score</th>\n",
              "    </tr>\n",
              "    <tr>\n",
              "      <th>City_State</th>\n",
              "      <th></th>\n",
              "      <th></th>\n",
              "      <th></th>\n",
              "      <th></th>\n",
              "      <th></th>\n",
              "      <th></th>\n",
              "      <th></th>\n",
              "      <th></th>\n",
              "    </tr>\n",
              "  </thead>\n",
              "  <tbody>\n",
              "    <tr>\n",
              "      <th>El Dorado Hills, California</th>\n",
              "      <td>2021</td>\n",
              "      <td>46192.0</td>\n",
              "      <td>0</td>\n",
              "      <td>46.36</td>\n",
              "      <td>El Dorado Hills</td>\n",
              "      <td>California</td>\n",
              "      <td>2477.6</td>\n",
              "      <td>12.0</td>\n",
              "    </tr>\n",
              "    <tr>\n",
              "      <th>Eldridge, California</th>\n",
              "      <td>2021</td>\n",
              "      <td>1208.0</td>\n",
              "      <td>1</td>\n",
              "      <td>46.36</td>\n",
              "      <td>Eldridge</td>\n",
              "      <td>California</td>\n",
              "      <td>2477.6</td>\n",
              "      <td>NaN</td>\n",
              "    </tr>\n",
              "    <tr>\n",
              "      <th>El Granada, California</th>\n",
              "      <td>2021</td>\n",
              "      <td>6695.0</td>\n",
              "      <td>2</td>\n",
              "      <td>46.36</td>\n",
              "      <td>El Granada</td>\n",
              "      <td>California</td>\n",
              "      <td>2477.6</td>\n",
              "      <td>NaN</td>\n",
              "    </tr>\n",
              "    <tr>\n",
              "      <th>Elizabeth Lake, California</th>\n",
              "      <td>2021</td>\n",
              "      <td>1941.0</td>\n",
              "      <td>3</td>\n",
              "      <td>46.36</td>\n",
              "      <td>Elizabeth Lake</td>\n",
              "      <td>California</td>\n",
              "      <td>2477.6</td>\n",
              "      <td>NaN</td>\n",
              "    </tr>\n",
              "    <tr>\n",
              "      <th>Elk Creek, California</th>\n",
              "      <td>2021</td>\n",
              "      <td>239.0</td>\n",
              "      <td>4</td>\n",
              "      <td>46.36</td>\n",
              "      <td>Elk Creek</td>\n",
              "      <td>California</td>\n",
              "      <td>2477.6</td>\n",
              "      <td>NaN</td>\n",
              "    </tr>\n",
              "  </tbody>\n",
              "</table>\n",
              "</div>"
            ],
            "text/plain": [
              "                             YEAR  POPULATION  ...  rental_rate  walk_score\n",
              "City_State                                     ...                         \n",
              "El Dorado Hills, California  2021     46192.0  ...       2477.6        12.0\n",
              "Eldridge, California         2021      1208.0  ...       2477.6         NaN\n",
              "El Granada, California       2021      6695.0  ...       2477.6         NaN\n",
              "Elizabeth Lake, California   2021      1941.0  ...       2477.6         NaN\n",
              "Elk Creek, California        2021       239.0  ...       2477.6         NaN\n",
              "\n",
              "[5 rows x 8 columns]"
            ]
          },
          "metadata": {
            "tags": []
          },
          "execution_count": 86
        }
      ]
    },
    {
      "cell_type": "code",
      "metadata": {
        "id": "ET52oiI18LmN"
      },
      "source": [
        "# make another id column\r\n",
        "join_df3[\"id\"] = join_df3[\"id_num\"]"
      ],
      "execution_count": null,
      "outputs": []
    },
    {
      "cell_type": "code",
      "metadata": {
        "id": "CX5oUK7e8XGk"
      },
      "source": [
        "join_df3 = join_df3.set_index('id')"
      ],
      "execution_count": null,
      "outputs": []
    },
    {
      "cell_type": "code",
      "metadata": {
        "colab": {
          "base_uri": "https://localhost:8080/",
          "height": 235
        },
        "id": "UmCdMQHo8RQq",
        "outputId": "62059c88-7883-4b92-aa8b-14f021975564"
      },
      "source": [
        "join_df3.head()"
      ],
      "execution_count": null,
      "outputs": [
        {
          "output_type": "execute_result",
          "data": {
            "text/html": [
              "<div>\n",
              "<style scoped>\n",
              "    .dataframe tbody tr th:only-of-type {\n",
              "        vertical-align: middle;\n",
              "    }\n",
              "\n",
              "    .dataframe tbody tr th {\n",
              "        vertical-align: top;\n",
              "    }\n",
              "\n",
              "    .dataframe thead th {\n",
              "        text-align: right;\n",
              "    }\n",
              "</style>\n",
              "<table border=\"1\" class=\"dataframe\">\n",
              "  <thead>\n",
              "    <tr style=\"text-align: right;\">\n",
              "      <th></th>\n",
              "      <th>YEAR</th>\n",
              "      <th>POPULATION</th>\n",
              "      <th>id_num</th>\n",
              "      <th>crime_rate</th>\n",
              "      <th>CITY</th>\n",
              "      <th>STATE</th>\n",
              "      <th>rental_rate</th>\n",
              "      <th>walk_score</th>\n",
              "    </tr>\n",
              "    <tr>\n",
              "      <th>id</th>\n",
              "      <th></th>\n",
              "      <th></th>\n",
              "      <th></th>\n",
              "      <th></th>\n",
              "      <th></th>\n",
              "      <th></th>\n",
              "      <th></th>\n",
              "      <th></th>\n",
              "    </tr>\n",
              "  </thead>\n",
              "  <tbody>\n",
              "    <tr>\n",
              "      <th>0</th>\n",
              "      <td>2021</td>\n",
              "      <td>46192.0</td>\n",
              "      <td>0</td>\n",
              "      <td>46.36</td>\n",
              "      <td>El Dorado Hills</td>\n",
              "      <td>California</td>\n",
              "      <td>2477.6</td>\n",
              "      <td>12.0</td>\n",
              "    </tr>\n",
              "    <tr>\n",
              "      <th>1</th>\n",
              "      <td>2021</td>\n",
              "      <td>1208.0</td>\n",
              "      <td>1</td>\n",
              "      <td>46.36</td>\n",
              "      <td>Eldridge</td>\n",
              "      <td>California</td>\n",
              "      <td>2477.6</td>\n",
              "      <td>NaN</td>\n",
              "    </tr>\n",
              "    <tr>\n",
              "      <th>2</th>\n",
              "      <td>2021</td>\n",
              "      <td>6695.0</td>\n",
              "      <td>2</td>\n",
              "      <td>46.36</td>\n",
              "      <td>El Granada</td>\n",
              "      <td>California</td>\n",
              "      <td>2477.6</td>\n",
              "      <td>NaN</td>\n",
              "    </tr>\n",
              "    <tr>\n",
              "      <th>3</th>\n",
              "      <td>2021</td>\n",
              "      <td>1941.0</td>\n",
              "      <td>3</td>\n",
              "      <td>46.36</td>\n",
              "      <td>Elizabeth Lake</td>\n",
              "      <td>California</td>\n",
              "      <td>2477.6</td>\n",
              "      <td>NaN</td>\n",
              "    </tr>\n",
              "    <tr>\n",
              "      <th>4</th>\n",
              "      <td>2021</td>\n",
              "      <td>239.0</td>\n",
              "      <td>4</td>\n",
              "      <td>46.36</td>\n",
              "      <td>Elk Creek</td>\n",
              "      <td>California</td>\n",
              "      <td>2477.6</td>\n",
              "      <td>NaN</td>\n",
              "    </tr>\n",
              "  </tbody>\n",
              "</table>\n",
              "</div>"
            ],
            "text/plain": [
              "    YEAR  POPULATION  id_num  ...        STATE rental_rate walk_score\n",
              "id                            ...                                    \n",
              "0   2021     46192.0       0  ...   California      2477.6       12.0\n",
              "1   2021      1208.0       1  ...   California      2477.6        NaN\n",
              "2   2021      6695.0       2  ...   California      2477.6        NaN\n",
              "3   2021      1941.0       3  ...   California      2477.6        NaN\n",
              "4   2021       239.0       4  ...   California      2477.6        NaN\n",
              "\n",
              "[5 rows x 8 columns]"
            ]
          },
          "metadata": {
            "tags": []
          },
          "execution_count": 89
        }
      ]
    },
    {
      "cell_type": "markdown",
      "metadata": {
        "id": "CJyqzmvxvZIT"
      },
      "source": [
        "## Walk Score fill with Average"
      ]
    },
    {
      "cell_type": "code",
      "metadata": {
        "colab": {
          "base_uri": "https://localhost:8080/"
        },
        "id": "VBwl6kMRtIHC",
        "outputId": "68d5944b-de9d-4dfa-c049-16c3485fc6b8"
      },
      "source": [
        "# create a list for df of states walk score\r\n",
        "states_df3 = []\r\n",
        "\r\n",
        "for i in range(len(states)):\r\n",
        "    # filter df down to each state\r\n",
        "    df3 = join_df3[join_df3['STATE'] == states[i]]\r\n",
        "    # fill the NaN with the average for each state\r\n",
        "    df3['walk_score'] = df3['walk_score'].replace(np.NaN, round(df3.walk_score.mean(), 2))\r\n",
        "    # add df to list of states for concat below\r\n",
        "    states_df3.append(df3)\r\n"
      ],
      "execution_count": null,
      "outputs": [
        {
          "output_type": "stream",
          "text": [
            "/usr/local/lib/python3.6/dist-packages/ipykernel_launcher.py:6: SettingWithCopyWarning: \n",
            "A value is trying to be set on a copy of a slice from a DataFrame.\n",
            "Try using .loc[row_indexer,col_indexer] = value instead\n",
            "\n",
            "See the caveats in the documentation: https://pandas.pydata.org/pandas-docs/stable/user_guide/indexing.html#returning-a-view-versus-a-copy\n",
            "  \n"
          ],
          "name": "stderr"
        }
      ]
    },
    {
      "cell_type": "code",
      "metadata": {
        "id": "49RM0jhNvU1H"
      },
      "source": [
        "# just need to join the df together to rebuild full dataframe\r\n",
        "ws_impute_df = states_df3[0]\r\n",
        "\r\n",
        "for i in range(1, len(states_df3)):\r\n",
        "    ws_impute_df = pd.concat([ws_impute_df, states_df3[i]])"
      ],
      "execution_count": null,
      "outputs": []
    },
    {
      "cell_type": "code",
      "metadata": {
        "colab": {
          "base_uri": "https://localhost:8080/"
        },
        "id": "rheqrTQAvUym",
        "outputId": "32d7624e-f8ea-42c9-9a58-fb479c3cbedb"
      },
      "source": [
        "ws_impute_df.shape"
      ],
      "execution_count": null,
      "outputs": [
        {
          "output_type": "execute_result",
          "data": {
            "text/plain": [
              "(29626, 8)"
            ]
          },
          "metadata": {
            "tags": []
          },
          "execution_count": 92
        }
      ]
    },
    {
      "cell_type": "code",
      "metadata": {
        "id": "TEVaBA357uvz"
      },
      "source": [
        "walk_df.reset_index(inplace=True)"
      ],
      "execution_count": null,
      "outputs": []
    },
    {
      "cell_type": "code",
      "metadata": {
        "colab": {
          "base_uri": "https://localhost:8080/",
          "height": 700
        },
        "id": "69sJwQo3vUwU",
        "outputId": "377b52e6-721e-4f95-b386-ecb2200a0c80"
      },
      "source": [
        "ws_impute_df.sample(20)"
      ],
      "execution_count": null,
      "outputs": [
        {
          "output_type": "execute_result",
          "data": {
            "text/html": [
              "<div>\n",
              "<style scoped>\n",
              "    .dataframe tbody tr th:only-of-type {\n",
              "        vertical-align: middle;\n",
              "    }\n",
              "\n",
              "    .dataframe tbody tr th {\n",
              "        vertical-align: top;\n",
              "    }\n",
              "\n",
              "    .dataframe thead th {\n",
              "        text-align: right;\n",
              "    }\n",
              "</style>\n",
              "<table border=\"1\" class=\"dataframe\">\n",
              "  <thead>\n",
              "    <tr style=\"text-align: right;\">\n",
              "      <th></th>\n",
              "      <th>YEAR</th>\n",
              "      <th>POPULATION</th>\n",
              "      <th>id_num</th>\n",
              "      <th>crime_rate</th>\n",
              "      <th>CITY</th>\n",
              "      <th>STATE</th>\n",
              "      <th>rental_rate</th>\n",
              "      <th>walk_score</th>\n",
              "    </tr>\n",
              "    <tr>\n",
              "      <th>id</th>\n",
              "      <th></th>\n",
              "      <th></th>\n",
              "      <th></th>\n",
              "      <th></th>\n",
              "      <th></th>\n",
              "      <th></th>\n",
              "      <th></th>\n",
              "      <th></th>\n",
              "    </tr>\n",
              "  </thead>\n",
              "  <tbody>\n",
              "    <tr>\n",
              "      <th>9043</th>\n",
              "      <td>2021</td>\n",
              "      <td>961.0</td>\n",
              "      <td>9043</td>\n",
              "      <td>24.73</td>\n",
              "      <td>Wolcottville</td>\n",
              "      <td>Indiana</td>\n",
              "      <td>1466.89</td>\n",
              "      <td>33.00</td>\n",
              "    </tr>\n",
              "    <tr>\n",
              "      <th>4879</th>\n",
              "      <td>2021</td>\n",
              "      <td>1739.0</td>\n",
              "      <td>4879</td>\n",
              "      <td>18.93</td>\n",
              "      <td>Bethlehem Village</td>\n",
              "      <td>Connecticut</td>\n",
              "      <td>2119.60</td>\n",
              "      <td>40.10</td>\n",
              "    </tr>\n",
              "    <tr>\n",
              "      <th>5274</th>\n",
              "      <td>2021</td>\n",
              "      <td>906.0</td>\n",
              "      <td>5274</td>\n",
              "      <td>30.31</td>\n",
              "      <td>DeLand Southwest</td>\n",
              "      <td>Florida</td>\n",
              "      <td>1799.74</td>\n",
              "      <td>30.82</td>\n",
              "    </tr>\n",
              "    <tr>\n",
              "      <th>27712</th>\n",
              "      <td>2021</td>\n",
              "      <td>187.0</td>\n",
              "      <td>27712</td>\n",
              "      <td>29.95</td>\n",
              "      <td>Spangle</td>\n",
              "      <td>Washington</td>\n",
              "      <td>1941.80</td>\n",
              "      <td>32.81</td>\n",
              "    </tr>\n",
              "    <tr>\n",
              "      <th>9733</th>\n",
              "      <td>2021</td>\n",
              "      <td>2769.0</td>\n",
              "      <td>9733</td>\n",
              "      <td>27.71</td>\n",
              "      <td>Onawa</td>\n",
              "      <td>Iowa</td>\n",
              "      <td>1600.90</td>\n",
              "      <td>35.87</td>\n",
              "    </tr>\n",
              "    <tr>\n",
              "      <th>2258</th>\n",
              "      <td>2021</td>\n",
              "      <td>1471.0</td>\n",
              "      <td>2258</td>\n",
              "      <td>29.19</td>\n",
              "      <td>Star Valley</td>\n",
              "      <td>Arizona</td>\n",
              "      <td>1461.80</td>\n",
              "      <td>22.96</td>\n",
              "    </tr>\n",
              "    <tr>\n",
              "      <th>27725</th>\n",
              "      <td>2021</td>\n",
              "      <td>5275.0</td>\n",
              "      <td>27725</td>\n",
              "      <td>12.90</td>\n",
              "      <td>Sultan</td>\n",
              "      <td>Washington</td>\n",
              "      <td>1941.80</td>\n",
              "      <td>32.81</td>\n",
              "    </tr>\n",
              "    <tr>\n",
              "      <th>7049</th>\n",
              "      <td>2021</td>\n",
              "      <td>454.0</td>\n",
              "      <td>7049</td>\n",
              "      <td>17.37</td>\n",
              "      <td>Arenzville</td>\n",
              "      <td>Illinois</td>\n",
              "      <td>1678.60</td>\n",
              "      <td>38.89</td>\n",
              "    </tr>\n",
              "    <tr>\n",
              "      <th>26195</th>\n",
              "      <td>2021</td>\n",
              "      <td>138.0</td>\n",
              "      <td>26195</td>\n",
              "      <td>21.83</td>\n",
              "      <td>Lake View</td>\n",
              "      <td>Texas</td>\n",
              "      <td>1481.18</td>\n",
              "      <td>30.68</td>\n",
              "    </tr>\n",
              "    <tr>\n",
              "      <th>23505</th>\n",
              "      <td>2021</td>\n",
              "      <td>230.0</td>\n",
              "      <td>23505</td>\n",
              "      <td>14.04</td>\n",
              "      <td>Oberlin</td>\n",
              "      <td>Pennsylvania</td>\n",
              "      <td>515.17</td>\n",
              "      <td>54.82</td>\n",
              "    </tr>\n",
              "    <tr>\n",
              "      <th>14998</th>\n",
              "      <td>2021</td>\n",
              "      <td>1210.0</td>\n",
              "      <td>14998</td>\n",
              "      <td>22.90</td>\n",
              "      <td>Zena</td>\n",
              "      <td>New York</td>\n",
              "      <td>1361.25</td>\n",
              "      <td>48.41</td>\n",
              "    </tr>\n",
              "    <tr>\n",
              "      <th>19272</th>\n",
              "      <td>2021</td>\n",
              "      <td>4019.0</td>\n",
              "      <td>19272</td>\n",
              "      <td>14.04</td>\n",
              "      <td>Level Green</td>\n",
              "      <td>Pennsylvania</td>\n",
              "      <td>515.17</td>\n",
              "      <td>54.82</td>\n",
              "    </tr>\n",
              "    <tr>\n",
              "      <th>489</th>\n",
              "      <td>2021</td>\n",
              "      <td>165.0</td>\n",
              "      <td>489</td>\n",
              "      <td>46.36</td>\n",
              "      <td>Moskowite Corner</td>\n",
              "      <td>California</td>\n",
              "      <td>2477.60</td>\n",
              "      <td>44.50</td>\n",
              "    </tr>\n",
              "    <tr>\n",
              "      <th>13965</th>\n",
              "      <td>2021</td>\n",
              "      <td>180.0</td>\n",
              "      <td>13965</td>\n",
              "      <td>19.88</td>\n",
              "      <td>Lake Ann</td>\n",
              "      <td>Michigan</td>\n",
              "      <td>1417.65</td>\n",
              "      <td>39.14</td>\n",
              "    </tr>\n",
              "    <tr>\n",
              "      <th>9851</th>\n",
              "      <td>2021</td>\n",
              "      <td>432.0</td>\n",
              "      <td>9851</td>\n",
              "      <td>27.71</td>\n",
              "      <td>Rudd</td>\n",
              "      <td>Iowa</td>\n",
              "      <td>1600.90</td>\n",
              "      <td>35.87</td>\n",
              "    </tr>\n",
              "    <tr>\n",
              "      <th>22800</th>\n",
              "      <td>2021</td>\n",
              "      <td>3317.0</td>\n",
              "      <td>22800</td>\n",
              "      <td>21.83</td>\n",
              "      <td>Rosita</td>\n",
              "      <td>Texas</td>\n",
              "      <td>1481.18</td>\n",
              "      <td>30.68</td>\n",
              "    </tr>\n",
              "    <tr>\n",
              "      <th>1172</th>\n",
              "      <td>2021</td>\n",
              "      <td>434.0</td>\n",
              "      <td>1172</td>\n",
              "      <td>37.72</td>\n",
              "      <td>Garden City</td>\n",
              "      <td>Alabama</td>\n",
              "      <td>1589.60</td>\n",
              "      <td>22.29</td>\n",
              "    </tr>\n",
              "    <tr>\n",
              "      <th>8615</th>\n",
              "      <td>2021</td>\n",
              "      <td>136.0</td>\n",
              "      <td>8615</td>\n",
              "      <td>24.73</td>\n",
              "      <td>Hardinsburg</td>\n",
              "      <td>Indiana</td>\n",
              "      <td>1466.89</td>\n",
              "      <td>33.00</td>\n",
              "    </tr>\n",
              "    <tr>\n",
              "      <th>7583</th>\n",
              "      <td>2021</td>\n",
              "      <td>8371.0</td>\n",
              "      <td>7583</td>\n",
              "      <td>36.97</td>\n",
              "      <td>Merrydale</td>\n",
              "      <td>Louisiana</td>\n",
              "      <td>2226.90</td>\n",
              "      <td>37.43</td>\n",
              "    </tr>\n",
              "    <tr>\n",
              "      <th>17966</th>\n",
              "      <td>2021</td>\n",
              "      <td>1966.0</td>\n",
              "      <td>17966</td>\n",
              "      <td>22.90</td>\n",
              "      <td>Cooperstown</td>\n",
              "      <td>New York</td>\n",
              "      <td>1361.25</td>\n",
              "      <td>48.41</td>\n",
              "    </tr>\n",
              "  </tbody>\n",
              "</table>\n",
              "</div>"
            ],
            "text/plain": [
              "       YEAR  POPULATION  id_num  ...          STATE rental_rate walk_score\n",
              "id                               ...                                      \n",
              "9043   2021       961.0    9043  ...        Indiana     1466.89      33.00\n",
              "4879   2021      1739.0    4879  ...    Connecticut     2119.60      40.10\n",
              "5274   2021       906.0    5274  ...        Florida     1799.74      30.82\n",
              "27712  2021       187.0   27712  ...     Washington     1941.80      32.81\n",
              "9733   2021      2769.0    9733  ...           Iowa     1600.90      35.87\n",
              "2258   2021      1471.0    2258  ...        Arizona     1461.80      22.96\n",
              "27725  2021      5275.0   27725  ...     Washington     1941.80      32.81\n",
              "7049   2021       454.0    7049  ...       Illinois     1678.60      38.89\n",
              "26195  2021       138.0   26195  ...          Texas     1481.18      30.68\n",
              "23505  2021       230.0   23505  ...   Pennsylvania      515.17      54.82\n",
              "14998  2021      1210.0   14998  ...       New York     1361.25      48.41\n",
              "19272  2021      4019.0   19272  ...   Pennsylvania      515.17      54.82\n",
              "489    2021       165.0     489  ...     California     2477.60      44.50\n",
              "13965  2021       180.0   13965  ...       Michigan     1417.65      39.14\n",
              "9851   2021       432.0    9851  ...           Iowa     1600.90      35.87\n",
              "22800  2021      3317.0   22800  ...          Texas     1481.18      30.68\n",
              "1172   2021       434.0    1172  ...        Alabama     1589.60      22.29\n",
              "8615   2021       136.0    8615  ...        Indiana     1466.89      33.00\n",
              "7583   2021      8371.0    7583  ...      Louisiana     2226.90      37.43\n",
              "17966  2021      1966.0   17966  ...       New York     1361.25      48.41\n",
              "\n",
              "[20 rows x 8 columns]"
            ]
          },
          "metadata": {
            "tags": []
          },
          "execution_count": 94
        }
      ]
    },
    {
      "cell_type": "code",
      "metadata": {
        "colab": {
          "base_uri": "https://localhost:8080/"
        },
        "id": "luuobrPrvUt4",
        "outputId": "3af5bea8-1903-4c4b-a5b5-193e55cc0601"
      },
      "source": [
        "ws_impute_df.isna().values.sum()"
      ],
      "execution_count": null,
      "outputs": [
        {
          "output_type": "execute_result",
          "data": {
            "text/plain": [
              "263"
            ]
          },
          "metadata": {
            "tags": []
          },
          "execution_count": 95
        }
      ]
    },
    {
      "cell_type": "markdown",
      "metadata": {
        "id": "1IqZmwUhv4g6"
      },
      "source": [
        "## Walk Score Concat the States and fill Nan with dataset average if state ave not available"
      ]
    },
    {
      "cell_type": "code",
      "metadata": {
        "id": "6WhNLr0ri0Rk"
      },
      "source": [
        "# fill nans with ave\r\n",
        "ws_impute_df['walk_score'] = ws_impute_df['walk_score'].replace(np.NaN, round(ws_impute_df.walk_score.mean(), 2))"
      ],
      "execution_count": null,
      "outputs": []
    },
    {
      "cell_type": "code",
      "metadata": {
        "colab": {
          "base_uri": "https://localhost:8080/"
        },
        "id": "UoaOwdKyi0PJ",
        "outputId": "45027392-b85b-4e33-f2b4-8bffa5d8b141"
      },
      "source": [
        "ws_impute_df.isna().values.sum()"
      ],
      "execution_count": null,
      "outputs": [
        {
          "output_type": "execute_result",
          "data": {
            "text/plain": [
              "0"
            ]
          },
          "metadata": {
            "tags": []
          },
          "execution_count": 97
        }
      ]
    },
    {
      "cell_type": "code",
      "metadata": {
        "id": "KE7wTW0e9hm2"
      },
      "source": [
        "ws_impute_df[\"population\"] = ws_impute_df[\"POPULATION\"].copy()\r\n",
        "ws_impute_df['city_state'] = ws_impute_df[\"CITY\"] + \",\" + ws_impute_df['STATE']"
      ],
      "execution_count": null,
      "outputs": []
    },
    {
      "cell_type": "code",
      "metadata": {
        "colab": {
          "base_uri": "https://localhost:8080/",
          "height": 657
        },
        "id": "XTHv-hUZAonT",
        "outputId": "639c4d2b-7f73-4a64-8c4c-7a2642aed53d"
      },
      "source": [
        "ws_impute_df[ws_impute_df[\"STATE\"] == \" New Jersey\"]"
      ],
      "execution_count": null,
      "outputs": [
        {
          "output_type": "execute_result",
          "data": {
            "text/html": [
              "<div>\n",
              "<style scoped>\n",
              "    .dataframe tbody tr th:only-of-type {\n",
              "        vertical-align: middle;\n",
              "    }\n",
              "\n",
              "    .dataframe tbody tr th {\n",
              "        vertical-align: top;\n",
              "    }\n",
              "\n",
              "    .dataframe thead th {\n",
              "        text-align: right;\n",
              "    }\n",
              "</style>\n",
              "<table border=\"1\" class=\"dataframe\">\n",
              "  <thead>\n",
              "    <tr style=\"text-align: right;\">\n",
              "      <th></th>\n",
              "      <th>YEAR</th>\n",
              "      <th>POPULATION</th>\n",
              "      <th>id_num</th>\n",
              "      <th>crime_rate</th>\n",
              "      <th>CITY</th>\n",
              "      <th>STATE</th>\n",
              "      <th>rental_rate</th>\n",
              "      <th>walk_score</th>\n",
              "      <th>population</th>\n",
              "      <th>city_state</th>\n",
              "    </tr>\n",
              "    <tr>\n",
              "      <th>id</th>\n",
              "      <th></th>\n",
              "      <th></th>\n",
              "      <th></th>\n",
              "      <th></th>\n",
              "      <th></th>\n",
              "      <th></th>\n",
              "      <th></th>\n",
              "      <th></th>\n",
              "      <th></th>\n",
              "      <th></th>\n",
              "    </tr>\n",
              "  </thead>\n",
              "  <tbody>\n",
              "    <tr>\n",
              "      <th>16769</th>\n",
              "      <td>2021</td>\n",
              "      <td>8357.0</td>\n",
              "      <td>16769</td>\n",
              "      <td>24.00</td>\n",
              "      <td>Absecon</td>\n",
              "      <td>New Jersey</td>\n",
              "      <td>1466.89</td>\n",
              "      <td>59.98</td>\n",
              "      <td>8357.0</td>\n",
              "      <td>Absecon, New Jersey</td>\n",
              "    </tr>\n",
              "    <tr>\n",
              "      <th>16770</th>\n",
              "      <td>2021</td>\n",
              "      <td>108.0</td>\n",
              "      <td>16770</td>\n",
              "      <td>23.46</td>\n",
              "      <td>Allamuchy</td>\n",
              "      <td>New Jersey</td>\n",
              "      <td>1466.89</td>\n",
              "      <td>59.98</td>\n",
              "      <td>108.0</td>\n",
              "      <td>Allamuchy, New Jersey</td>\n",
              "    </tr>\n",
              "    <tr>\n",
              "      <th>16771</th>\n",
              "      <td>2021</td>\n",
              "      <td>6907.0</td>\n",
              "      <td>16771</td>\n",
              "      <td>4.80</td>\n",
              "      <td>Allendale</td>\n",
              "      <td>New Jersey</td>\n",
              "      <td>1466.89</td>\n",
              "      <td>59.98</td>\n",
              "      <td>6907.0</td>\n",
              "      <td>Allendale, New Jersey</td>\n",
              "    </tr>\n",
              "    <tr>\n",
              "      <th>16772</th>\n",
              "      <td>2021</td>\n",
              "      <td>487.0</td>\n",
              "      <td>16772</td>\n",
              "      <td>14.30</td>\n",
              "      <td>Allenhurst</td>\n",
              "      <td>New Jersey</td>\n",
              "      <td>1466.89</td>\n",
              "      <td>59.98</td>\n",
              "      <td>487.0</td>\n",
              "      <td>Allenhurst, New Jersey</td>\n",
              "    </tr>\n",
              "    <tr>\n",
              "      <th>16773</th>\n",
              "      <td>2021</td>\n",
              "      <td>1926.0</td>\n",
              "      <td>16773</td>\n",
              "      <td>2.80</td>\n",
              "      <td>Allentown</td>\n",
              "      <td>New Jersey</td>\n",
              "      <td>1466.89</td>\n",
              "      <td>59.98</td>\n",
              "      <td>1926.0</td>\n",
              "      <td>Allentown, New Jersey</td>\n",
              "    </tr>\n",
              "    <tr>\n",
              "      <th>...</th>\n",
              "      <td>...</td>\n",
              "      <td>...</td>\n",
              "      <td>...</td>\n",
              "      <td>...</td>\n",
              "      <td>...</td>\n",
              "      <td>...</td>\n",
              "      <td>...</td>\n",
              "      <td>...</td>\n",
              "      <td>...</td>\n",
              "      <td>...</td>\n",
              "    </tr>\n",
              "    <tr>\n",
              "      <th>17309</th>\n",
              "      <td>2021</td>\n",
              "      <td>690.0</td>\n",
              "      <td>17309</td>\n",
              "      <td>23.46</td>\n",
              "      <td>Wrightstown</td>\n",
              "      <td>New Jersey</td>\n",
              "      <td>1466.89</td>\n",
              "      <td>59.98</td>\n",
              "      <td>690.0</td>\n",
              "      <td>Wrightstown, New Jersey</td>\n",
              "    </tr>\n",
              "    <tr>\n",
              "      <th>17310</th>\n",
              "      <td>2021</td>\n",
              "      <td>6836.0</td>\n",
              "      <td>17310</td>\n",
              "      <td>23.46</td>\n",
              "      <td>Yardville</td>\n",
              "      <td>New Jersey</td>\n",
              "      <td>1466.89</td>\n",
              "      <td>59.98</td>\n",
              "      <td>6836.0</td>\n",
              "      <td>Yardville, New Jersey</td>\n",
              "    </tr>\n",
              "    <tr>\n",
              "      <th>17311</th>\n",
              "      <td>2021</td>\n",
              "      <td>6474.0</td>\n",
              "      <td>17311</td>\n",
              "      <td>23.46</td>\n",
              "      <td>Yorketown</td>\n",
              "      <td>New Jersey</td>\n",
              "      <td>1466.89</td>\n",
              "      <td>59.98</td>\n",
              "      <td>6474.0</td>\n",
              "      <td>Yorketown, New Jersey</td>\n",
              "    </tr>\n",
              "    <tr>\n",
              "      <th>17312</th>\n",
              "      <td>2021</td>\n",
              "      <td>-22.0</td>\n",
              "      <td>17312</td>\n",
              "      <td>23.46</td>\n",
              "      <td>Zarephath</td>\n",
              "      <td>New Jersey</td>\n",
              "      <td>1466.89</td>\n",
              "      <td>59.98</td>\n",
              "      <td>-22.0</td>\n",
              "      <td>Zarephath, New Jersey</td>\n",
              "    </tr>\n",
              "    <tr>\n",
              "      <th>29456</th>\n",
              "      <td>2021</td>\n",
              "      <td>4991.0</td>\n",
              "      <td>29456</td>\n",
              "      <td>23.46</td>\n",
              "      <td>Highland Lakes</td>\n",
              "      <td>New Jersey</td>\n",
              "      <td>1466.89</td>\n",
              "      <td>59.98</td>\n",
              "      <td>4991.0</td>\n",
              "      <td>Highland Lakes, New Jersey</td>\n",
              "    </tr>\n",
              "  </tbody>\n",
              "</table>\n",
              "<p>545 rows × 10 columns</p>\n",
              "</div>"
            ],
            "text/plain": [
              "       YEAR  POPULATION  ...  population                  city_state\n",
              "id                       ...                                        \n",
              "16769  2021      8357.0  ...      8357.0         Absecon, New Jersey\n",
              "16770  2021       108.0  ...       108.0       Allamuchy, New Jersey\n",
              "16771  2021      6907.0  ...      6907.0       Allendale, New Jersey\n",
              "16772  2021       487.0  ...       487.0      Allenhurst, New Jersey\n",
              "16773  2021      1926.0  ...      1926.0       Allentown, New Jersey\n",
              "...     ...         ...  ...         ...                         ...\n",
              "17309  2021       690.0  ...       690.0     Wrightstown, New Jersey\n",
              "17310  2021      6836.0  ...      6836.0       Yardville, New Jersey\n",
              "17311  2021      6474.0  ...      6474.0       Yorketown, New Jersey\n",
              "17312  2021       -22.0  ...       -22.0       Zarephath, New Jersey\n",
              "29456  2021      4991.0  ...      4991.0  Highland Lakes, New Jersey\n",
              "\n",
              "[545 rows x 10 columns]"
            ]
          },
          "metadata": {
            "tags": []
          },
          "execution_count": 99
        }
      ]
    },
    {
      "cell_type": "markdown",
      "metadata": {
        "id": "yWd4bMqP-egQ"
      },
      "source": [
        "# Save Dataset at csv after merge, impute, save"
      ]
    },
    {
      "cell_type": "code",
      "metadata": {
        "id": "EkzzwPlJtID7"
      },
      "source": [
        "# filter the dataframe to the necessary columns\r\n",
        "ws_impute_df = ws_impute_df[[\"city_state\", \"id_num\", \"population\", \"crime_rate\", \"rental_rate\", \"walk_score\"]]"
      ],
      "execution_count": null,
      "outputs": []
    },
    {
      "cell_type": "code",
      "metadata": {
        "colab": {
          "base_uri": "https://localhost:8080/",
          "height": 235
        },
        "id": "5XhMV5Ss-Ok1",
        "outputId": "2b731e0b-1eca-4120-9795-cb6f6b878507"
      },
      "source": [
        "ws_impute_df.head()"
      ],
      "execution_count": null,
      "outputs": [
        {
          "output_type": "execute_result",
          "data": {
            "text/html": [
              "<div>\n",
              "<style scoped>\n",
              "    .dataframe tbody tr th:only-of-type {\n",
              "        vertical-align: middle;\n",
              "    }\n",
              "\n",
              "    .dataframe tbody tr th {\n",
              "        vertical-align: top;\n",
              "    }\n",
              "\n",
              "    .dataframe thead th {\n",
              "        text-align: right;\n",
              "    }\n",
              "</style>\n",
              "<table border=\"1\" class=\"dataframe\">\n",
              "  <thead>\n",
              "    <tr style=\"text-align: right;\">\n",
              "      <th></th>\n",
              "      <th>city_state</th>\n",
              "      <th>id_num</th>\n",
              "      <th>population</th>\n",
              "      <th>crime_rate</th>\n",
              "      <th>rental_rate</th>\n",
              "      <th>walk_score</th>\n",
              "    </tr>\n",
              "    <tr>\n",
              "      <th>id</th>\n",
              "      <th></th>\n",
              "      <th></th>\n",
              "      <th></th>\n",
              "      <th></th>\n",
              "      <th></th>\n",
              "      <th></th>\n",
              "    </tr>\n",
              "  </thead>\n",
              "  <tbody>\n",
              "    <tr>\n",
              "      <th>0</th>\n",
              "      <td>El Dorado Hills, California</td>\n",
              "      <td>0</td>\n",
              "      <td>46192.0</td>\n",
              "      <td>46.36</td>\n",
              "      <td>2477.6</td>\n",
              "      <td>12.0</td>\n",
              "    </tr>\n",
              "    <tr>\n",
              "      <th>1</th>\n",
              "      <td>Eldridge, California</td>\n",
              "      <td>1</td>\n",
              "      <td>1208.0</td>\n",
              "      <td>46.36</td>\n",
              "      <td>2477.6</td>\n",
              "      <td>44.5</td>\n",
              "    </tr>\n",
              "    <tr>\n",
              "      <th>2</th>\n",
              "      <td>El Granada, California</td>\n",
              "      <td>2</td>\n",
              "      <td>6695.0</td>\n",
              "      <td>46.36</td>\n",
              "      <td>2477.6</td>\n",
              "      <td>44.5</td>\n",
              "    </tr>\n",
              "    <tr>\n",
              "      <th>3</th>\n",
              "      <td>Elizabeth Lake, California</td>\n",
              "      <td>3</td>\n",
              "      <td>1941.0</td>\n",
              "      <td>46.36</td>\n",
              "      <td>2477.6</td>\n",
              "      <td>44.5</td>\n",
              "    </tr>\n",
              "    <tr>\n",
              "      <th>4</th>\n",
              "      <td>Elk Creek, California</td>\n",
              "      <td>4</td>\n",
              "      <td>239.0</td>\n",
              "      <td>46.36</td>\n",
              "      <td>2477.6</td>\n",
              "      <td>44.5</td>\n",
              "    </tr>\n",
              "  </tbody>\n",
              "</table>\n",
              "</div>"
            ],
            "text/plain": [
              "                     city_state  id_num  ...  rental_rate  walk_score\n",
              "id                                       ...                         \n",
              "0   El Dorado Hills, California       0  ...       2477.6        12.0\n",
              "1          Eldridge, California       1  ...       2477.6        44.5\n",
              "2        El Granada, California       2  ...       2477.6        44.5\n",
              "3    Elizabeth Lake, California       3  ...       2477.6        44.5\n",
              "4         Elk Creek, California       4  ...       2477.6        44.5\n",
              "\n",
              "[5 rows x 6 columns]"
            ]
          },
          "metadata": {
            "tags": []
          },
          "execution_count": 101
        }
      ]
    },
    {
      "cell_type": "code",
      "metadata": {
        "colab": {
          "base_uri": "https://localhost:8080/"
        },
        "id": "5EzQojI--XiO",
        "outputId": "610c5934-98de-47d0-820d-4f0021e42cd0"
      },
      "source": [
        "ws_impute_df.isna().values.sum()"
      ],
      "execution_count": null,
      "outputs": [
        {
          "output_type": "execute_result",
          "data": {
            "text/plain": [
              "0"
            ]
          },
          "metadata": {
            "tags": []
          },
          "execution_count": 102
        }
      ]
    },
    {
      "cell_type": "code",
      "metadata": {
        "id": "Pw8zjGba-c9C"
      },
      "source": [
        "# Persist / Save the dataframe to csv file for future use\r\n",
        "ws_impute_df.to_csv('pop_cc_rr_ws.csv', sep=',', index=False)"
      ],
      "execution_count": null,
      "outputs": []
    },
    {
      "cell_type": "markdown",
      "metadata": {
        "id": "XXeRh8My8-2t"
      },
      "source": [
        "# Combine columns to form json response"
      ]
    },
    {
      "cell_type": "code",
      "metadata": {
        "id": "34lZ4gqrXLqe"
      },
      "source": [
        "# dictionary of dictionary\n",
        "\n",
        "# https://stackoverflow.com/questions/59741934/python-pandas-merge-multiple-columns-into-a-dictionary-column"
      ],
      "execution_count": null,
      "outputs": []
    },
    {
      "cell_type": "code",
      "metadata": {
        "id": "9HlZtNK3XrvZ"
      },
      "source": [
        "columns = [\"id_num\", \"population\", \"crime_rate\", \"rental_rate\", \"walk_score\"]\n",
        "ws_impute_df['metadata'] = ws_impute_df[columns].to_dict(orient='records')"
      ],
      "execution_count": null,
      "outputs": []
    },
    {
      "cell_type": "code",
      "metadata": {
        "colab": {
          "base_uri": "https://localhost:8080/"
        },
        "id": "TxHyu10ZVIU4",
        "outputId": "e27cff7a-58ea-44c9-d0c1-c32480017b6a"
      },
      "source": [
        "ws_impute_df.isna().values.sum()"
      ],
      "execution_count": null,
      "outputs": [
        {
          "output_type": "execute_result",
          "data": {
            "text/plain": [
              "0"
            ]
          },
          "metadata": {
            "tags": []
          },
          "execution_count": 106
        }
      ]
    },
    {
      "cell_type": "code",
      "metadata": {
        "colab": {
          "base_uri": "https://localhost:8080/",
          "height": 320
        },
        "id": "mO_uUysqYDeu",
        "outputId": "b102bfb9-34d9-48bc-89a6-ecbe3baad700"
      },
      "source": [
        "ws_impute_df.head()"
      ],
      "execution_count": null,
      "outputs": [
        {
          "output_type": "execute_result",
          "data": {
            "text/html": [
              "<div>\n",
              "<style scoped>\n",
              "    .dataframe tbody tr th:only-of-type {\n",
              "        vertical-align: middle;\n",
              "    }\n",
              "\n",
              "    .dataframe tbody tr th {\n",
              "        vertical-align: top;\n",
              "    }\n",
              "\n",
              "    .dataframe thead th {\n",
              "        text-align: right;\n",
              "    }\n",
              "</style>\n",
              "<table border=\"1\" class=\"dataframe\">\n",
              "  <thead>\n",
              "    <tr style=\"text-align: right;\">\n",
              "      <th></th>\n",
              "      <th>city_state</th>\n",
              "      <th>id_num</th>\n",
              "      <th>population</th>\n",
              "      <th>crime_rate</th>\n",
              "      <th>rental_rate</th>\n",
              "      <th>walk_score</th>\n",
              "      <th>metadata</th>\n",
              "    </tr>\n",
              "    <tr>\n",
              "      <th>id</th>\n",
              "      <th></th>\n",
              "      <th></th>\n",
              "      <th></th>\n",
              "      <th></th>\n",
              "      <th></th>\n",
              "      <th></th>\n",
              "      <th></th>\n",
              "    </tr>\n",
              "  </thead>\n",
              "  <tbody>\n",
              "    <tr>\n",
              "      <th>0</th>\n",
              "      <td>El Dorado Hills, California</td>\n",
              "      <td>0</td>\n",
              "      <td>46192.0</td>\n",
              "      <td>46.36</td>\n",
              "      <td>2477.6</td>\n",
              "      <td>12.0</td>\n",
              "      <td>{'id_num': 0, 'population': 46192.0, 'crime_ra...</td>\n",
              "    </tr>\n",
              "    <tr>\n",
              "      <th>1</th>\n",
              "      <td>Eldridge, California</td>\n",
              "      <td>1</td>\n",
              "      <td>1208.0</td>\n",
              "      <td>46.36</td>\n",
              "      <td>2477.6</td>\n",
              "      <td>44.5</td>\n",
              "      <td>{'id_num': 1, 'population': 1208.0, 'crime_rat...</td>\n",
              "    </tr>\n",
              "    <tr>\n",
              "      <th>2</th>\n",
              "      <td>El Granada, California</td>\n",
              "      <td>2</td>\n",
              "      <td>6695.0</td>\n",
              "      <td>46.36</td>\n",
              "      <td>2477.6</td>\n",
              "      <td>44.5</td>\n",
              "      <td>{'id_num': 2, 'population': 6695.0, 'crime_rat...</td>\n",
              "    </tr>\n",
              "    <tr>\n",
              "      <th>3</th>\n",
              "      <td>Elizabeth Lake, California</td>\n",
              "      <td>3</td>\n",
              "      <td>1941.0</td>\n",
              "      <td>46.36</td>\n",
              "      <td>2477.6</td>\n",
              "      <td>44.5</td>\n",
              "      <td>{'id_num': 3, 'population': 1941.0, 'crime_rat...</td>\n",
              "    </tr>\n",
              "    <tr>\n",
              "      <th>4</th>\n",
              "      <td>Elk Creek, California</td>\n",
              "      <td>4</td>\n",
              "      <td>239.0</td>\n",
              "      <td>46.36</td>\n",
              "      <td>2477.6</td>\n",
              "      <td>44.5</td>\n",
              "      <td>{'id_num': 4, 'population': 239.0, 'crime_rate...</td>\n",
              "    </tr>\n",
              "  </tbody>\n",
              "</table>\n",
              "</div>"
            ],
            "text/plain": [
              "                     city_state  ...                                           metadata\n",
              "id                               ...                                                   \n",
              "0   El Dorado Hills, California  ...  {'id_num': 0, 'population': 46192.0, 'crime_ra...\n",
              "1          Eldridge, California  ...  {'id_num': 1, 'population': 1208.0, 'crime_rat...\n",
              "2        El Granada, California  ...  {'id_num': 2, 'population': 6695.0, 'crime_rat...\n",
              "3    Elizabeth Lake, California  ...  {'id_num': 3, 'population': 1941.0, 'crime_rat...\n",
              "4         Elk Creek, California  ...  {'id_num': 4, 'population': 239.0, 'crime_rate...\n",
              "\n",
              "[5 rows x 7 columns]"
            ]
          },
          "metadata": {
            "tags": []
          },
          "execution_count": 107
        }
      ]
    },
    {
      "cell_type": "code",
      "metadata": {
        "colab": {
          "base_uri": "https://localhost:8080/",
          "height": 128
        },
        "id": "U-Y8idjqAP_R",
        "outputId": "f1db5595-19df-492d-cc7a-220c82ed427c"
      },
      "source": [
        "ws_impute_df[ws_impute_df[\"city_state\"] == \"Newark, New Jersey\"]"
      ],
      "execution_count": null,
      "outputs": [
        {
          "output_type": "execute_result",
          "data": {
            "text/html": [
              "<div>\n",
              "<style scoped>\n",
              "    .dataframe tbody tr th:only-of-type {\n",
              "        vertical-align: middle;\n",
              "    }\n",
              "\n",
              "    .dataframe tbody tr th {\n",
              "        vertical-align: top;\n",
              "    }\n",
              "\n",
              "    .dataframe thead th {\n",
              "        text-align: right;\n",
              "    }\n",
              "</style>\n",
              "<table border=\"1\" class=\"dataframe\">\n",
              "  <thead>\n",
              "    <tr style=\"text-align: right;\">\n",
              "      <th></th>\n",
              "      <th>city_state</th>\n",
              "      <th>id_num</th>\n",
              "      <th>population</th>\n",
              "      <th>crime_rate</th>\n",
              "      <th>rental_rate</th>\n",
              "      <th>walk_score</th>\n",
              "      <th>metadata</th>\n",
              "    </tr>\n",
              "    <tr>\n",
              "      <th>id</th>\n",
              "      <th></th>\n",
              "      <th></th>\n",
              "      <th></th>\n",
              "      <th></th>\n",
              "      <th></th>\n",
              "      <th></th>\n",
              "      <th></th>\n",
              "    </tr>\n",
              "  </thead>\n",
              "  <tbody>\n",
              "    <tr>\n",
              "      <th>17089</th>\n",
              "      <td>Newark, New Jersey</td>\n",
              "      <td>17089</td>\n",
              "      <td>283945.0</td>\n",
              "      <td>27.4</td>\n",
              "      <td>1466.89</td>\n",
              "      <td>79.0</td>\n",
              "      <td>{'id_num': 17089, 'population': 283945.0, 'cri...</td>\n",
              "    </tr>\n",
              "  </tbody>\n",
              "</table>\n",
              "</div>"
            ],
            "text/plain": [
              "               city_state  ...                                           metadata\n",
              "id                         ...                                                   \n",
              "17089  Newark, New Jersey  ...  {'id_num': 17089, 'population': 283945.0, 'cri...\n",
              "\n",
              "[1 rows x 7 columns]"
            ]
          },
          "metadata": {
            "tags": []
          },
          "execution_count": 110
        }
      ]
    },
    {
      "cell_type": "code",
      "metadata": {
        "colab": {
          "base_uri": "https://localhost:8080/"
        },
        "id": "6NULcItMb8L3",
        "outputId": "94f81699-4b52-4cb3-d77b-7ccf33f23749"
      },
      "source": [
        "ws_impute_df.columns"
      ],
      "execution_count": null,
      "outputs": [
        {
          "output_type": "execute_result",
          "data": {
            "text/plain": [
              "Index(['city_state', 'id_num', 'population', 'crime_rate', 'rental_rate',\n",
              "       'walk_score', 'metadata'],\n",
              "      dtype='object')"
            ]
          },
          "metadata": {
            "tags": []
          },
          "execution_count": 111
        }
      ]
    },
    {
      "cell_type": "code",
      "metadata": {
        "colab": {
          "base_uri": "https://localhost:8080/"
        },
        "id": "4W_MA171ALyY",
        "outputId": "b5a2370c-72fb-4a25-bc02-248548e6665f"
      },
      "source": [
        "ws_impute_df.shape"
      ],
      "execution_count": null,
      "outputs": [
        {
          "output_type": "execute_result",
          "data": {
            "text/plain": [
              "(29626, 7)"
            ]
          },
          "metadata": {
            "tags": []
          },
          "execution_count": 112
        }
      ]
    },
    {
      "cell_type": "code",
      "metadata": {
        "colab": {
          "base_uri": "https://localhost:8080/",
          "height": 297
        },
        "id": "EuG25bALpbsJ",
        "outputId": "61ddb31d-1386-4f70-f0df-44ae7874982a"
      },
      "source": [
        "ws_impute_df.describe()"
      ],
      "execution_count": null,
      "outputs": [
        {
          "output_type": "execute_result",
          "data": {
            "text/html": [
              "<div>\n",
              "<style scoped>\n",
              "    .dataframe tbody tr th:only-of-type {\n",
              "        vertical-align: middle;\n",
              "    }\n",
              "\n",
              "    .dataframe tbody tr th {\n",
              "        vertical-align: top;\n",
              "    }\n",
              "\n",
              "    .dataframe thead th {\n",
              "        text-align: right;\n",
              "    }\n",
              "</style>\n",
              "<table border=\"1\" class=\"dataframe\">\n",
              "  <thead>\n",
              "    <tr style=\"text-align: right;\">\n",
              "      <th></th>\n",
              "      <th>id_num</th>\n",
              "      <th>population</th>\n",
              "      <th>crime_rate</th>\n",
              "      <th>rental_rate</th>\n",
              "      <th>walk_score</th>\n",
              "    </tr>\n",
              "  </thead>\n",
              "  <tbody>\n",
              "    <tr>\n",
              "      <th>count</th>\n",
              "      <td>29626.000000</td>\n",
              "      <td>2.962600e+04</td>\n",
              "      <td>29626.000000</td>\n",
              "      <td>29626.000000</td>\n",
              "      <td>29626.000000</td>\n",
              "    </tr>\n",
              "    <tr>\n",
              "      <th>mean</th>\n",
              "      <td>14812.500000</td>\n",
              "      <td>8.408561e+03</td>\n",
              "      <td>27.714515</td>\n",
              "      <td>1466.893624</td>\n",
              "      <td>35.569005</td>\n",
              "    </tr>\n",
              "    <tr>\n",
              "      <th>std</th>\n",
              "      <td>8552.433874</td>\n",
              "      <td>7.002653e+04</td>\n",
              "      <td>130.343358</td>\n",
              "      <td>413.974601</td>\n",
              "      <td>9.665648</td>\n",
              "    </tr>\n",
              "    <tr>\n",
              "      <th>min</th>\n",
              "      <td>0.000000</td>\n",
              "      <td>-1.142000e+03</td>\n",
              "      <td>0.000000</td>\n",
              "      <td>-2042.800000</td>\n",
              "      <td>2.000000</td>\n",
              "    </tr>\n",
              "    <tr>\n",
              "      <th>25%</th>\n",
              "      <td>7406.250000</td>\n",
              "      <td>3.260000e+02</td>\n",
              "      <td>17.370000</td>\n",
              "      <td>1319.300000</td>\n",
              "      <td>29.190000</td>\n",
              "    </tr>\n",
              "    <tr>\n",
              "      <th>50%</th>\n",
              "      <td>14812.500000</td>\n",
              "      <td>1.103000e+03</td>\n",
              "      <td>22.920000</td>\n",
              "      <td>1466.890000</td>\n",
              "      <td>34.000000</td>\n",
              "    </tr>\n",
              "    <tr>\n",
              "      <th>75%</th>\n",
              "      <td>22218.750000</td>\n",
              "      <td>4.207750e+03</td>\n",
              "      <td>29.190000</td>\n",
              "      <td>1600.900000</td>\n",
              "      <td>40.100000</td>\n",
              "    </tr>\n",
              "    <tr>\n",
              "      <th>max</th>\n",
              "      <td>29625.000000</td>\n",
              "      <td>8.638583e+06</td>\n",
              "      <td>21000.000000</td>\n",
              "      <td>3529.700000</td>\n",
              "      <td>96.000000</td>\n",
              "    </tr>\n",
              "  </tbody>\n",
              "</table>\n",
              "</div>"
            ],
            "text/plain": [
              "             id_num    population    crime_rate   rental_rate    walk_score\n",
              "count  29626.000000  2.962600e+04  29626.000000  29626.000000  29626.000000\n",
              "mean   14812.500000  8.408561e+03     27.714515   1466.893624     35.569005\n",
              "std     8552.433874  7.002653e+04    130.343358    413.974601      9.665648\n",
              "min        0.000000 -1.142000e+03      0.000000  -2042.800000      2.000000\n",
              "25%     7406.250000  3.260000e+02     17.370000   1319.300000     29.190000\n",
              "50%    14812.500000  1.103000e+03     22.920000   1466.890000     34.000000\n",
              "75%    22218.750000  4.207750e+03     29.190000   1600.900000     40.100000\n",
              "max    29625.000000  8.638583e+06  21000.000000   3529.700000     96.000000"
            ]
          },
          "metadata": {
            "tags": []
          },
          "execution_count": 119
        }
      ]
    },
    {
      "cell_type": "markdown",
      "metadata": {
        "id": "euRpF67n9PC6"
      },
      "source": [
        "# Create dictionary of City_State : {JSON Response}"
      ]
    },
    {
      "cell_type": "code",
      "metadata": {
        "id": "eDQLL1GwYF3o"
      },
      "source": [
        "# https://intellipaat.com/community/20442/python-pandas-dataframe-columns-convert-to-dict-key-and-value\n",
        "\n",
        "pop_cr_rr_ws_dict = dict(zip(ws_impute_df.city_state, ws_impute_df.metadata))"
      ],
      "execution_count": null,
      "outputs": []
    },
    {
      "cell_type": "code",
      "metadata": {
        "colab": {
          "base_uri": "https://localhost:8080/"
        },
        "id": "uYWIRO2EAAVp",
        "outputId": "f924b14c-5c55-4cd8-f8dd-a07154890c13"
      },
      "source": [
        "pop_cr_rr_ws_dict[\"Alderpoint, California\"]"
      ],
      "execution_count": null,
      "outputs": [
        {
          "output_type": "execute_result",
          "data": {
            "text/plain": [
              "{'crime_rate': 46.36,\n",
              " 'id_num': 2909,\n",
              " 'population': 162.0,\n",
              " 'rental_rate': 2477.6,\n",
              " 'walk_score': 44.5}"
            ]
          },
          "metadata": {
            "tags": []
          },
          "execution_count": 115
        }
      ]
    },
    {
      "cell_type": "code",
      "metadata": {
        "colab": {
          "base_uri": "https://localhost:8080/"
        },
        "id": "v1PimvjQbf5C",
        "outputId": "098a5ca7-89b7-4612-9089-8ec28ce1d129"
      },
      "source": [
        "pop_cr_rr_ws_dict[\"Newark, New Jersey\"]"
      ],
      "execution_count": null,
      "outputs": [
        {
          "output_type": "execute_result",
          "data": {
            "text/plain": [
              "{'crime_rate': 27.4,\n",
              " 'id_num': 17089,\n",
              " 'population': 283945.0,\n",
              " 'rental_rate': 1466.89,\n",
              " 'walk_score': 79.0}"
            ]
          },
          "metadata": {
            "tags": []
          },
          "execution_count": 116
        }
      ]
    },
    {
      "cell_type": "code",
      "metadata": {
        "colab": {
          "base_uri": "https://localhost:8080/"
        },
        "id": "ZLtOeZRrcU1T",
        "outputId": "4c5b23f2-c4e7-4845-f1d9-1b799a6bcff6"
      },
      "source": [
        "pop_cr_rr_ws_dict[\"Hawi, Hawaii\"]"
      ],
      "execution_count": null,
      "outputs": [
        {
          "output_type": "execute_result",
          "data": {
            "text/plain": [
              "{'crime_rate': 27.71,\n",
              " 'id_num': 6664,\n",
              " 'population': 1247.0,\n",
              " 'rental_rate': 2019.2,\n",
              " 'walk_score': 30.0}"
            ]
          },
          "metadata": {
            "tags": []
          },
          "execution_count": 117
        }
      ]
    },
    {
      "cell_type": "code",
      "metadata": {
        "id": "QsKcW5FyboRa"
      },
      "source": [
        "# export json to file\n",
        "\n",
        "import json  \n",
        "     \n",
        "# Data to be written  \n",
        "# pop_cr_dict\n",
        "with open(\"predict_json.py\", \"w\") as outfile:  \n",
        "    json.dump(pop_cr_rr_ws_dict, outfile) "
      ],
      "execution_count": null,
      "outputs": []
    },
    {
      "cell_type": "code",
      "metadata": {
        "id": "ANFeJB1JeM97"
      },
      "source": [
        "# https://www.geeksforgeeks.org/how-to-convert-python-dictionary-to-json/\r\n",
        "\r\n",
        "\r\n",
        "# Serializing json    \r\n",
        "# json_object = json.dumps(pop_cr_dict, indent = 4)   \r\n",
        "# print(json_object)"
      ],
      "execution_count": null,
      "outputs": []
    },
    {
      "cell_type": "code",
      "metadata": {
        "id": "siorvssferVZ",
        "colab": {
          "base_uri": "https://localhost:8080/",
          "height": 320
        },
        "outputId": "89bcb2bb-ee02-4476-fe2b-c74b9a880e9d"
      },
      "source": [
        "ws_impute_df.head()"
      ],
      "execution_count": null,
      "outputs": [
        {
          "output_type": "execute_result",
          "data": {
            "text/html": [
              "<div>\n",
              "<style scoped>\n",
              "    .dataframe tbody tr th:only-of-type {\n",
              "        vertical-align: middle;\n",
              "    }\n",
              "\n",
              "    .dataframe tbody tr th {\n",
              "        vertical-align: top;\n",
              "    }\n",
              "\n",
              "    .dataframe thead th {\n",
              "        text-align: right;\n",
              "    }\n",
              "</style>\n",
              "<table border=\"1\" class=\"dataframe\">\n",
              "  <thead>\n",
              "    <tr style=\"text-align: right;\">\n",
              "      <th></th>\n",
              "      <th>city_state</th>\n",
              "      <th>id_num</th>\n",
              "      <th>population</th>\n",
              "      <th>crime_rate</th>\n",
              "      <th>rental_rate</th>\n",
              "      <th>walk_score</th>\n",
              "      <th>metadata</th>\n",
              "    </tr>\n",
              "    <tr>\n",
              "      <th>id</th>\n",
              "      <th></th>\n",
              "      <th></th>\n",
              "      <th></th>\n",
              "      <th></th>\n",
              "      <th></th>\n",
              "      <th></th>\n",
              "      <th></th>\n",
              "    </tr>\n",
              "  </thead>\n",
              "  <tbody>\n",
              "    <tr>\n",
              "      <th>0</th>\n",
              "      <td>El Dorado Hills, California</td>\n",
              "      <td>0</td>\n",
              "      <td>46192.0</td>\n",
              "      <td>46.36</td>\n",
              "      <td>2477.6</td>\n",
              "      <td>12.0</td>\n",
              "      <td>{'id_num': 0, 'population': 46192.0, 'crime_ra...</td>\n",
              "    </tr>\n",
              "    <tr>\n",
              "      <th>1</th>\n",
              "      <td>Eldridge, California</td>\n",
              "      <td>1</td>\n",
              "      <td>1208.0</td>\n",
              "      <td>46.36</td>\n",
              "      <td>2477.6</td>\n",
              "      <td>44.5</td>\n",
              "      <td>{'id_num': 1, 'population': 1208.0, 'crime_rat...</td>\n",
              "    </tr>\n",
              "    <tr>\n",
              "      <th>2</th>\n",
              "      <td>El Granada, California</td>\n",
              "      <td>2</td>\n",
              "      <td>6695.0</td>\n",
              "      <td>46.36</td>\n",
              "      <td>2477.6</td>\n",
              "      <td>44.5</td>\n",
              "      <td>{'id_num': 2, 'population': 6695.0, 'crime_rat...</td>\n",
              "    </tr>\n",
              "    <tr>\n",
              "      <th>3</th>\n",
              "      <td>Elizabeth Lake, California</td>\n",
              "      <td>3</td>\n",
              "      <td>1941.0</td>\n",
              "      <td>46.36</td>\n",
              "      <td>2477.6</td>\n",
              "      <td>44.5</td>\n",
              "      <td>{'id_num': 3, 'population': 1941.0, 'crime_rat...</td>\n",
              "    </tr>\n",
              "    <tr>\n",
              "      <th>4</th>\n",
              "      <td>Elk Creek, California</td>\n",
              "      <td>4</td>\n",
              "      <td>239.0</td>\n",
              "      <td>46.36</td>\n",
              "      <td>2477.6</td>\n",
              "      <td>44.5</td>\n",
              "      <td>{'id_num': 4, 'population': 239.0, 'crime_rate...</td>\n",
              "    </tr>\n",
              "  </tbody>\n",
              "</table>\n",
              "</div>"
            ],
            "text/plain": [
              "                     city_state  ...                                           metadata\n",
              "id                               ...                                                   \n",
              "0   El Dorado Hills, California  ...  {'id_num': 0, 'population': 46192.0, 'crime_ra...\n",
              "1          Eldridge, California  ...  {'id_num': 1, 'population': 1208.0, 'crime_rat...\n",
              "2        El Granada, California  ...  {'id_num': 2, 'population': 6695.0, 'crime_rat...\n",
              "3    Elizabeth Lake, California  ...  {'id_num': 3, 'population': 1941.0, 'crime_rat...\n",
              "4         Elk Creek, California  ...  {'id_num': 4, 'population': 239.0, 'crime_rate...\n",
              "\n",
              "[5 rows x 7 columns]"
            ]
          },
          "metadata": {
            "tags": []
          },
          "execution_count": 121
        }
      ]
    },
    {
      "cell_type": "markdown",
      "metadata": {
        "id": "gkKcxIiNjq_l"
      },
      "source": [
        "# request for Ids for Web Team"
      ]
    },
    {
      "cell_type": "code",
      "metadata": {
        "id": "CkxaLEAqFSIa"
      },
      "source": [
        "id_num__city_state = dict(zip(ws_impute_df.id_num, ws_impute_df.city_state))"
      ],
      "execution_count": null,
      "outputs": []
    },
    {
      "cell_type": "code",
      "metadata": {
        "id": "g55fFDp2g1RD",
        "colab": {
          "base_uri": "https://localhost:8080/"
        },
        "outputId": "7851caf2-b410-41f6-dbdf-27db0e6986bb"
      },
      "source": [
        "id_num__city_state"
      ],
      "execution_count": null,
      "outputs": [
        {
          "output_type": "execute_result",
          "data": {
            "text/plain": [
              "{0: 'El Dorado Hills, California',\n",
              " 1: 'Eldridge, California',\n",
              " 2: 'El Granada, California',\n",
              " 3: 'Elizabeth Lake, California',\n",
              " 4: 'Elk Creek, California',\n",
              " 5: 'Elk Grove, California',\n",
              " 6: 'Elkhorn, California',\n",
              " 7: 'Elmira, California',\n",
              " 8: 'El Monte, California',\n",
              " 9: 'El Nido, California',\n",
              " 10: 'El Paso de Robles (Paso Robles), California',\n",
              " 11: 'El Portal, California',\n",
              " 12: 'El Rancho, California',\n",
              " 13: 'El Rio, California',\n",
              " 14: 'El Segundo, California',\n",
              " 15: 'El Sobrante (Contra Costa County), California',\n",
              " 16: 'El Sobrante (Riverside County), California',\n",
              " 17: 'El Verano, California',\n",
              " 18: 'Elverta, California',\n",
              " 19: 'Emerald Lake Hills, California',\n",
              " 20: 'Emeryville, California',\n",
              " 21: 'Empire, California',\n",
              " 22: 'Encinitas, California',\n",
              " 23: 'Escalon, California',\n",
              " 24: 'Escondido, California',\n",
              " 25: 'Esparto, California',\n",
              " 26: 'Etna, California',\n",
              " 27: 'Eucalyptus Hills, California',\n",
              " 28: 'Eureka, California',\n",
              " 29: 'Exeter, California',\n",
              " 30: 'Fairbanks Ranch, California',\n",
              " 31: 'Fairfax, California',\n",
              " 32: 'Fairfield, California',\n",
              " 33: 'Fairmead, California',\n",
              " 34: 'Fair Oaks, California',\n",
              " 35: 'Fairview, California',\n",
              " 36: 'Fallbrook, California',\n",
              " 37: 'Fall River Mills, California',\n",
              " 38: 'Farmersville, California',\n",
              " 39: 'Farmington, California',\n",
              " 40: 'Fellows, California',\n",
              " 41: 'Felton, California',\n",
              " 42: 'Ferndale, California',\n",
              " 43: 'Fetters Hot Springs-Agua Caliente, California',\n",
              " 44: 'Fiddletown, California',\n",
              " 45: 'Fieldbrook, California',\n",
              " 46: 'Fields Landing, California',\n",
              " 47: 'Fillmore, California',\n",
              " 48: 'Firebaugh, California',\n",
              " 49: 'Fish Camp, California',\n",
              " 50: 'Florence-Graham, California',\n",
              " 51: 'Florin, California',\n",
              " 52: 'Floriston, California',\n",
              " 53: 'Flournoy, California',\n",
              " 54: 'Folsom, California',\n",
              " 55: 'Fontana, California',\n",
              " 56: 'Foothill Farms, California',\n",
              " 57: 'Forbestown, California',\n",
              " 58: 'Ford City, California',\n",
              " 59: 'Foresthill, California',\n",
              " 60: 'Forest Meadows, California',\n",
              " 61: 'Forest Ranch, California',\n",
              " 62: 'Forestville, California',\n",
              " 63: 'Fort Bidwell, California',\n",
              " 64: 'Fort Bragg, California',\n",
              " 65: 'Fort Irwin, California',\n",
              " 66: 'Fort Jones, California',\n",
              " 67: 'Fortuna, California',\n",
              " 68: 'Fort Washington, California',\n",
              " 69: 'Foster City, California',\n",
              " 70: 'Fountain Valley, California',\n",
              " 71: 'Fowler, California',\n",
              " 72: 'Franklin (Merced County), California',\n",
              " 73: 'Franklin (Sacramento County), California',\n",
              " 74: 'Frazier Park, California',\n",
              " 75: 'Freedom, California',\n",
              " 76: 'Freeport, California',\n",
              " 77: 'Fremont, California',\n",
              " 78: 'French Camp, California',\n",
              " 79: 'French Gulch, California',\n",
              " 80: 'French Valley, California',\n",
              " 81: 'Fresno, California',\n",
              " 82: 'Friant, California',\n",
              " 83: 'Fruitdale, California',\n",
              " 84: 'Fruitridge Pocket, California',\n",
              " 85: 'Fuller Acres, California',\n",
              " 86: 'Fullerton, California',\n",
              " 87: 'Fulton, California',\n",
              " 88: 'Furnace Creek, California',\n",
              " 89: 'Galt, California',\n",
              " 90: 'Garberville, California',\n",
              " 91: 'Gardena, California',\n",
              " 92: 'Garden Acres, California',\n",
              " 93: 'Garden Farms, California',\n",
              " 94: 'Garden Grove, California',\n",
              " 95: 'Garey, California',\n",
              " 96: 'Garnet, California',\n",
              " 97: 'Gasquet, California',\n",
              " 98: 'Gazelle, California',\n",
              " 99: 'Georgetown, California',\n",
              " 100: 'Gerber, California',\n",
              " 101: 'Geyserville, California',\n",
              " 102: 'Gilroy, California',\n",
              " 103: 'Glen Avon, California',\n",
              " 104: 'Glendale, California',\n",
              " 105: 'Glendora, California',\n",
              " 106: 'Glen Ellen, California',\n",
              " 107: 'Golden Hills, California',\n",
              " 108: 'Gold Mountain, California',\n",
              " 109: 'Gold River, California',\n",
              " 110: 'Goleta, California',\n",
              " 111: 'Gonzales, California',\n",
              " 112: 'Good Hope, California',\n",
              " 113: 'Goodyears Bar, California',\n",
              " 114: 'Goshen, California',\n",
              " 115: 'Graeagle, California',\n",
              " 116: 'Grand Terrace, California',\n",
              " 117: 'Grangeville, California',\n",
              " 118: 'Granite Bay, California',\n",
              " 119: 'Granite Hills, California',\n",
              " 120: 'Graniteville, California',\n",
              " 121: 'Grass Valley, California',\n",
              " 122: 'Graton, California',\n",
              " 123: 'Grayson, California',\n",
              " 124: 'Greeley Hill, California',\n",
              " 125: 'Greenacres, California',\n",
              " 126: 'Green Acres, California',\n",
              " 127: 'Greenfield, California',\n",
              " 128: 'Greenhorn, California',\n",
              " 129: 'Green Valley (Los Angeles County), California',\n",
              " 130: 'Green Valley (Solano County), California',\n",
              " 131: 'Greenview, California',\n",
              " 132: 'Greenville, California',\n",
              " 133: 'Grenada, California',\n",
              " 134: 'Gridley, California',\n",
              " 135: 'Grimes, California',\n",
              " 136: 'Grizzly Flats, California',\n",
              " 137: 'Groveland, California',\n",
              " 138: 'Grover Beach, California',\n",
              " 139: 'Guadalupe, California',\n",
              " 140: 'Guerneville, California',\n",
              " 141: 'Guinda, California',\n",
              " 142: 'Gustine, California',\n",
              " 143: 'Hacienda Heights, California',\n",
              " 144: 'Half Moon Bay, California',\n",
              " 145: 'Hamilton Branch, California',\n",
              " 146: 'Hamilton City, California',\n",
              " 147: 'Hanford, California',\n",
              " 148: 'Happy Camp, California',\n",
              " 149: 'Harbison Canyon, California',\n",
              " 150: 'Hardwick, California',\n",
              " 151: 'Hartland, California',\n",
              " 152: 'Hartley, California',\n",
              " 153: 'Hasley Canyon, California',\n",
              " 154: 'Hat Creek, California',\n",
              " 155: 'Hawaiian Gardens, California',\n",
              " 156: 'Hawthorne, California',\n",
              " 157: 'Hayfork, California',\n",
              " 158: 'Hayward, California',\n",
              " 159: 'Healdsburg, California',\n",
              " 160: 'Heber, California',\n",
              " 161: 'Hemet, California',\n",
              " 162: 'Herald, California',\n",
              " 163: 'Hercules, California',\n",
              " 164: 'Herlong, California',\n",
              " 165: 'Hermosa Beach, California',\n",
              " 166: 'Hesperia, California',\n",
              " 167: 'Hickman, California',\n",
              " 168: 'Hidden Hills, California',\n",
              " 169: 'Hidden Meadows, California',\n",
              " 170: 'Hidden Valley Lake, California',\n",
              " 171: 'Highgrove, California',\n",
              " 172: 'Highland, California',\n",
              " 173: 'Highlands-Baywood Park, California',\n",
              " 174: 'Hillsborough, California',\n",
              " 175: 'Hilmar-Irwin, California',\n",
              " 176: 'Hiouchi, California',\n",
              " 177: 'Hollister, California',\n",
              " 178: 'Holtville, California',\n",
              " 179: 'Home Garden, California',\n",
              " 180: 'Home Gardens, California',\n",
              " 181: 'Homeland, California',\n",
              " 182: 'Homestead Valley, California',\n",
              " 183: 'Homewood Canyon, California',\n",
              " 184: 'Honcut, California',\n",
              " 185: 'Hood, California',\n",
              " 186: 'Hopland, California',\n",
              " 187: 'Hornbrook, California',\n",
              " 188: 'Hornitos, California',\n",
              " 189: 'Hughson, California',\n",
              " 190: 'Humboldt Hill, California',\n",
              " 191: 'Huntington Beach, California',\n",
              " 192: 'Huntington Park, California',\n",
              " 193: 'Huron, California',\n",
              " 194: 'Hyampom, California',\n",
              " 195: 'Hydesville, California',\n",
              " 196: 'Idlewild, California',\n",
              " 197: 'Idyllwild-Pine Cove, California',\n",
              " 198: 'Imperial, California',\n",
              " 199: 'Imperial Beach, California',\n",
              " 200: 'Independence, California',\n",
              " 201: 'Indian Falls, California',\n",
              " 202: 'Indianola, California',\n",
              " 203: 'Indian Wells, California',\n",
              " 204: 'Indio, California',\n",
              " 205: 'Indio Hills, California',\n",
              " 206: 'Industry, California',\n",
              " 207: 'Inglewood, California',\n",
              " 208: 'Interlaken, California',\n",
              " 209: 'Inverness, California',\n",
              " 210: 'Inyokern, California',\n",
              " 211: 'Ione, California',\n",
              " 212: 'Iron Horse, California',\n",
              " 213: 'Irvine, California',\n",
              " 214: 'Irwindale, California',\n",
              " 215: 'Isla Vista, California',\n",
              " 216: 'Isleton, California',\n",
              " 217: 'Ivanhoe, California',\n",
              " 218: 'Jackson, California',\n",
              " 219: 'Jacumba, California',\n",
              " 220: 'Jamestown, California',\n",
              " 221: 'Jamul, California',\n",
              " 222: 'Janesville, California',\n",
              " 223: 'Jenner, California',\n",
              " 224: 'Johannesburg, California',\n",
              " 225: 'Johnstonville, California',\n",
              " 226: 'Johnsville, California',\n",
              " 227: 'Joshua Tree, California',\n",
              " 228: 'Julian, California',\n",
              " 229: 'Junction City, California',\n",
              " 230: 'June Lake, California',\n",
              " 231: 'Keddie, California',\n",
              " 232: 'Keeler, California',\n",
              " 233: 'Keene, California',\n",
              " 234: 'Kelly Ridge, California',\n",
              " 235: 'Kelseyville, California',\n",
              " 236: 'Kennedy, California',\n",
              " 237: 'Kennedy Meadows, California',\n",
              " 238: 'Kensington, California',\n",
              " 239: 'Kentfield, California',\n",
              " 240: 'Kenwood, California',\n",
              " 241: 'Kerman, California',\n",
              " 242: 'Kernville, California',\n",
              " 243: 'Keswick, California',\n",
              " 244: 'Kettleman City, California',\n",
              " 245: 'Keyes, California',\n",
              " 246: 'King City, California',\n",
              " 247: 'Kings Beach, California',\n",
              " 248: 'Kingsburg, California',\n",
              " 249: 'Kingvale, California',\n",
              " 250: 'Kirkwood, California',\n",
              " 251: 'Klamath, California',\n",
              " 252: 'Knightsen, California',\n",
              " 253: 'Knights Landing, California',\n",
              " 254: 'La Cañada Flintridge, California',\n",
              " 255: 'La Crescenta-Montrose, California',\n",
              " 256: 'Ladera, California',\n",
              " 257: 'Ladera Heights, California',\n",
              " 258: 'Ladera Ranch, California',\n",
              " 259: 'Lafayette, California',\n",
              " 260: 'Laguna Beach, California',\n",
              " 261: 'Laguna Hills, California',\n",
              " 262: 'Laguna Niguel, California',\n",
              " 263: 'Laguna Woods, California',\n",
              " 264: 'Lagunitas-Forest Knolls, California',\n",
              " 265: 'La Habra, California',\n",
              " 266: 'La Habra Heights, California',\n",
              " 267: 'La Honda, California',\n",
              " 268: 'Lake Almanor Country Club, California',\n",
              " 269: 'Lake Almanor Peninsula, California',\n",
              " 270: 'Lake Almanor West, California',\n",
              " 271: 'Lake Arrowhead, California',\n",
              " 272: 'Lake California, California',\n",
              " 273: 'Lake City, California',\n",
              " 274: 'Lake Davis, California',\n",
              " 275: 'Lake Don Pedro, California',\n",
              " 276: 'Lake Elsinore, California',\n",
              " 277: 'Lake Forest, California',\n",
              " 278: 'Lakehead, California',\n",
              " 279: 'Lake Hughes, California',\n",
              " 280: 'Lake Isabella, California',\n",
              " 281: 'Lakeland Village, California',\n",
              " 282: 'Lake Los Angeles, California',\n",
              " 283: 'Lake Mathews, California',\n",
              " 284: 'Lake Nacimiento, California',\n",
              " 285: 'Lake of the Pines, California',\n",
              " 286: 'Lake of the Woods, California',\n",
              " 287: 'Lakeport, California',\n",
              " 288: 'Lake Riverside, California',\n",
              " 289: 'Lake San Marcos, California',\n",
              " 290: 'Lake Sherwood, California',\n",
              " 291: 'Lakeside, California',\n",
              " 292: 'Lakeview, California',\n",
              " 293: 'Lake Wildwood, California',\n",
              " 294: 'Lakewood, California',\n",
              " 295: 'La Mesa, California',\n",
              " 296: 'La Mirada, California',\n",
              " 297: 'Lamont, California',\n",
              " 298: 'Lanare, California',\n",
              " 299: 'Lancaster, California',\n",
              " 300: 'La Palma, California',\n",
              " 301: 'La Porte, California',\n",
              " 302: 'La Presa, California',\n",
              " 303: 'La Puente, California',\n",
              " 304: 'La Quinta, California',\n",
              " 305: 'La Riviera, California',\n",
              " 306: 'Larkfield-Wikiup, California',\n",
              " 307: 'Larkspur, California',\n",
              " 308: 'La Selva Beach, California',\n",
              " 309: 'Las Flores (Orange County), California',\n",
              " 310: 'Las Flores (Tehama County), California',\n",
              " 311: 'Las Lomas, California',\n",
              " 312: 'Lathrop, California',\n",
              " 313: 'Laton, California',\n",
              " 314: 'La Verne, California',\n",
              " 315: 'La Vina, California',\n",
              " 316: 'Lawndale, California',\n",
              " 317: 'Laytonville, California',\n",
              " 318: 'Lebec, California',\n",
              " 319: 'Lee Vining, California',\n",
              " 320: 'Leggett, California',\n",
              " 321: 'Le Grand, California',\n",
              " 322: 'Lemon Cove, California',\n",
              " 323: 'Lemon Grove, California',\n",
              " 324: 'Lemon Hill, California',\n",
              " 325: 'Lemoore, California',\n",
              " 326: 'Lemoore Station, California',\n",
              " 327: 'Lennox, California',\n",
              " 328: 'Lenwood, California',\n",
              " 329: 'Leona Valley, California',\n",
              " 330: 'Lewiston, California',\n",
              " 331: 'Lexington Hills, California',\n",
              " 332: 'Likely, California',\n",
              " 333: 'Lincoln, California',\n",
              " 334: 'Lincoln Village, California',\n",
              " 335: 'Linda, California',\n",
              " 336: 'Lindcove, California',\n",
              " 337: 'Linden, California',\n",
              " 338: 'Lindsay, California',\n",
              " 339: 'Linnell Camp, California',\n",
              " 340: 'Litchfield, California',\n",
              " 341: 'Little Grass Valley, California',\n",
              " 342: 'Little River, California',\n",
              " 343: 'Littlerock, California',\n",
              " 344: 'Live Oak, California',\n",
              " 345: 'Livermore, California',\n",
              " 346: 'Livingston, California',\n",
              " 347: 'Lockeford, California',\n",
              " 348: 'Lockwood, California',\n",
              " 349: 'Lodi, California',\n",
              " 350: 'Lodoga, California',\n",
              " 351: 'Loleta, California',\n",
              " 352: 'Loma Linda, California',\n",
              " 353: 'Loma Mar, California',\n",
              " 354: 'Loma Rica, California',\n",
              " 355: 'Lomita, California',\n",
              " 356: 'Lompico, California',\n",
              " 357: 'Lompoc, California',\n",
              " 358: 'London, California',\n",
              " 359: 'Lone Pine, California',\n",
              " 360: 'Long Barn, California',\n",
              " 361: 'Long Beach, California',\n",
              " 362: 'Lookout, California',\n",
              " 363: 'Loomis, California',\n",
              " 364: 'Los Alamitos, California',\n",
              " 365: 'Los Alamos, California',\n",
              " 366: 'Los Altos, California',\n",
              " 367: 'Los Altos Hills, California',\n",
              " 368: 'Los Angeles, California',\n",
              " 369: 'Los Banos, California',\n",
              " 370: 'Los Berros, California',\n",
              " 371: 'Los Gatos, California',\n",
              " 372: 'Los Molinos, California',\n",
              " 373: 'Los Olivos, California',\n",
              " 374: 'Los Osos, California',\n",
              " 375: 'Los Ranchos, California',\n",
              " 376: 'Lost Hills, California',\n",
              " 377: 'Lower Lake, California',\n",
              " 378: 'Loyalton, California',\n",
              " 379: 'Loyola, California',\n",
              " 380: 'Lucas Valley-Marinwood, California',\n",
              " 381: 'Lucerne, California',\n",
              " 382: 'Lucerne Valley, California',\n",
              " 383: 'Lynwood, California',\n",
              " 384: 'Lytle Creek, California',\n",
              " 385: 'Mabie, California',\n",
              " 386: 'McArthur, California',\n",
              " 387: 'McClellan Park, California',\n",
              " 388: 'McClenney Tract, California',\n",
              " 389: 'McCloud, California',\n",
              " 390: 'Macdoel, California',\n",
              " 391: 'McFarland, California',\n",
              " 392: 'McGee Creek, California',\n",
              " 393: 'McKinleyville, California',\n",
              " 394: 'McKittrick, California',\n",
              " 395: 'McSwain, California',\n",
              " 396: 'Madera, California',\n",
              " 397: 'Madera Acres, California',\n",
              " 398: 'Madison, California',\n",
              " 399: 'Mad River, California',\n",
              " 400: 'Magalia, California',\n",
              " 401: 'Malaga, California',\n",
              " 402: 'Malibu, California',\n",
              " 403: 'Mammoth Lakes, California',\n",
              " 404: 'Manchester, California',\n",
              " 405: 'Manhattan Beach, California',\n",
              " 406: 'Manila, California',\n",
              " 407: 'Manteca, California',\n",
              " 408: 'Manton, California',\n",
              " 409: 'March ARB, California',\n",
              " 410: 'Maricopa, California',\n",
              " 411: 'Marina, California',\n",
              " 412: 'Marina del Rey, California',\n",
              " 413: 'Marin City, California',\n",
              " 414: 'Mariposa, California',\n",
              " 415: 'Markleeville, California',\n",
              " 416: 'Martell, California',\n",
              " 417: 'Martinez, California',\n",
              " 418: 'Marysville, California',\n",
              " 419: 'Matheny, California',\n",
              " 420: 'Mather, California',\n",
              " 421: 'Maxwell, California',\n",
              " 422: 'Mayfair, California',\n",
              " 423: 'Mayflower Village, California',\n",
              " 424: 'Maywood, California',\n",
              " 425: 'Meadowbrook, California',\n",
              " 426: 'Meadow Valley, California',\n",
              " 427: 'Meadow Vista, California',\n",
              " 428: 'Mead Valley, California',\n",
              " 429: 'Mecca, California',\n",
              " 430: 'Meiners Oaks, California',\n",
              " 431: 'Mendocino, California',\n",
              " 432: 'Mendota, California',\n",
              " 433: 'Menifee, California',\n",
              " 434: 'Menlo Park, California',\n",
              " 435: 'Mentone, California',\n",
              " 436: 'Merced, California',\n",
              " 437: 'Meridian, California',\n",
              " 438: 'Mesa, California',\n",
              " 439: 'Mesa Verde, California',\n",
              " 440: 'Mesa Vista, California',\n",
              " 441: 'Mettler, California',\n",
              " 442: 'Mexican Colony, California',\n",
              " 443: 'Middletown, California',\n",
              " 444: 'Midpines, California',\n",
              " 445: 'Midway City, California',\n",
              " 446: 'Milford, California',\n",
              " 447: 'Millbrae, California',\n",
              " 448: 'Mill Valley, California',\n",
              " 449: 'Millville, California',\n",
              " 450: 'Milpitas, California',\n",
              " 451: 'Mineral, California',\n",
              " 452: 'Minkler, California',\n",
              " 453: 'Mira Loma, California',\n",
              " 454: 'Mira Monte, California',\n",
              " 455: 'Miranda, California',\n",
              " 456: 'Mission Canyon, California',\n",
              " 457: 'Mission Hills, California',\n",
              " 458: 'Mission Viejo, California',\n",
              " 459: 'Mi-Wuk Village, California',\n",
              " 460: 'Modesto, California',\n",
              " 461: 'Mohawk Vista, California',\n",
              " 462: 'Mojave, California',\n",
              " 463: 'Mokelumne Hill, California',\n",
              " 464: 'Monmouth, California',\n",
              " 465: 'Mono City, California',\n",
              " 466: 'Mono Vista, California',\n",
              " 467: 'Monrovia, California',\n",
              " 468: 'Monson, California',\n",
              " 469: 'Montague, California',\n",
              " 470: 'Montalvin Manor, California',\n",
              " 471: 'Montara, California',\n",
              " 472: 'Montclair, California',\n",
              " 473: 'Montebello, California',\n",
              " 474: 'Montecito, California',\n",
              " 475: 'Monterey, California',\n",
              " 476: 'Monterey Park, California',\n",
              " 477: 'Monterey Park Tract, California',\n",
              " 478: 'Monte Rio, California',\n",
              " 479: 'Monte Sereno, California',\n",
              " 480: 'Montgomery Creek, California',\n",
              " 481: 'Monument Hills, California',\n",
              " 482: 'Moorpark, California',\n",
              " 483: 'Morada, California',\n",
              " 484: 'Moraga, California',\n",
              " 485: 'Moreno Valley, California',\n",
              " 486: 'Morgan Hill, California',\n",
              " 487: 'Morongo Valley, California',\n",
              " 488: 'Morro Bay, California',\n",
              " 489: 'Moskowite Corner, California',\n",
              " 490: 'Moss Beach, California',\n",
              " 491: 'Moss Landing, California',\n",
              " 492: 'Mountain Center, California',\n",
              " 493: 'Mountain Gate, California',\n",
              " 494: 'Mountain House, California',\n",
              " 495: 'Mountain Mesa, California',\n",
              " 496: 'Mountain Ranch, California',\n",
              " 497: 'Mountain View, California',\n",
              " 498: 'Mountain View Acres, California',\n",
              " 499: 'Mount Hebron, California',\n",
              " 500: 'Mount Hermon, California',\n",
              " 501: 'Mount Laguna, California',\n",
              " 502: 'Mount Shasta, California',\n",
              " 503: 'Muir Beach, California',\n",
              " 504: 'Murphys, California',\n",
              " 505: 'Murrieta, California',\n",
              " 506: 'Muscoy, California',\n",
              " 507: 'Myers Flat, California',\n",
              " 508: 'Myrtletown, California',\n",
              " 509: 'Napa, California',\n",
              " 510: 'National City, California',\n",
              " 511: 'Needles, California',\n",
              " 512: 'Nevada City, California',\n",
              " 513: 'Newark, California',\n",
              " 514: 'Newcastle, California',\n",
              " 515: 'New Cuyama, California',\n",
              " 516: 'Newell, California',\n",
              " 517: 'Newman, California',\n",
              " 518: 'New Pine Creek, California',\n",
              " 519: 'Newport Beach, California',\n",
              " 520: 'Nicasio, California',\n",
              " 521: 'Nice, California',\n",
              " 522: 'Nicolaus, California',\n",
              " 523: 'Niland, California',\n",
              " 524: 'Nipinnawasee, California',\n",
              " 525: 'Nipomo, California',\n",
              " 526: 'Norco, California',\n",
              " 527: 'Nord, California',\n",
              " 528: 'Norris Canyon, California',\n",
              " 529: 'North Auburn, California',\n",
              " 530: 'North Edwards, California',\n",
              " 531: 'North El Monte, California',\n",
              " 532: 'North Fair Oaks, California',\n",
              " 533: 'North Gate, California',\n",
              " 534: 'North Highlands, California',\n",
              " 535: 'North Lakeport, California',\n",
              " 536: 'North Richmond, California',\n",
              " 537: 'North San Juan, California',\n",
              " 538: 'North Shore, California',\n",
              " 539: 'North Tustin, California',\n",
              " 540: 'Norwalk, California',\n",
              " 541: 'Novato, California',\n",
              " 542: 'Nubieber, California',\n",
              " 543: 'Nuevo, California',\n",
              " 544: 'Oakdale, California',\n",
              " 545: 'Oak Glen, California',\n",
              " 546: 'Oak Hills, California',\n",
              " 547: 'Oakhurst, California',\n",
              " 548: 'Oakland, California',\n",
              " 549: 'Oakley, California',\n",
              " 550: 'Oak Park, California',\n",
              " 551: 'Oak Shores, California',\n",
              " 552: 'Oak View, California',\n",
              " 553: 'Oakville, California',\n",
              " 554: 'Oasis, California',\n",
              " 555: 'Occidental, California',\n",
              " 556: 'Oceano, California',\n",
              " 557: 'Oceanside, California',\n",
              " 558: 'Ocotillo, California',\n",
              " 559: 'Oildale, California',\n",
              " 560: 'Ojai, California',\n",
              " 561: 'Olancha, California',\n",
              " 562: 'Old Fig Garden, California',\n",
              " 563: 'Old Station, California',\n",
              " 564: 'Olivehurst, California',\n",
              " 565: 'Ontario, California',\n",
              " 566: 'Onyx, California',\n",
              " 567: 'Pleasure Point, California',\n",
              " 568: 'Orange, California',\n",
              " 569: 'Orange Cove, California',\n",
              " 570: 'Orangevale, California',\n",
              " 571: 'Orcutt, California',\n",
              " 572: 'Orick, California',\n",
              " 573: 'Orinda, California',\n",
              " 574: 'Orland, California',\n",
              " 575: 'Orosi, California',\n",
              " 576: 'Oroville, California',\n",
              " 577: 'Oroville East, California',\n",
              " 578: 'Oxnard, California',\n",
              " 579: 'Pacheco, California',\n",
              " 580: 'Pacifica, California',\n",
              " 581: 'Pacific Grove, California',\n",
              " 582: 'Pajaro, California',\n",
              " 583: 'Pajaro Dunes, California',\n",
              " 584: 'Palermo, California',\n",
              " 585: 'Palmdale, California',\n",
              " 586: 'Palm Desert, California',\n",
              " 587: 'Palm Springs, California',\n",
              " 588: 'Palo Alto, California',\n",
              " 589: 'Palo Cedro, California',\n",
              " 590: 'Palos Verdes Estates, California',\n",
              " 591: 'Palo Verde, California',\n",
              " 592: 'Panorama Heights, California',\n",
              " 593: 'Paradise, California',\n",
              " 594: 'Paradise Park, California',\n",
              " 595: 'Paramount, California',\n",
              " 596: 'Parklawn, California',\n",
              " 597: 'Parksdale, California',\n",
              " 598: 'Parkway, California',\n",
              " 599: 'Parkwood, California',\n",
              " 600: 'Parlier, California',\n",
              " 601: 'Pasadena, California',\n",
              " 602: 'Pasatiempo, California',\n",
              " 603: 'Paskenta, California',\n",
              " 604: 'Patterson, California',\n",
              " 605: 'Patterson Tract, California',\n",
              " 606: 'Patton Village, California',\n",
              " 607: 'Paxton, California',\n",
              " 608: 'Paynes Creek, California',\n",
              " 609: 'Pearsonville, California',\n",
              " 610: 'Pedley, California',\n",
              " 611: 'Penngrove, California',\n",
              " 612: 'Penn Valley, California',\n",
              " 613: 'Penryn, California',\n",
              " 614: 'Perris, California',\n",
              " 615: 'Pescadero, California',\n",
              " 616: 'Petaluma, California',\n",
              " 617: 'Peters, California',\n",
              " 618: 'Phelan, California',\n",
              " 619: 'Phillipsville, California',\n",
              " 620: 'Philo, California',\n",
              " 621: 'Phoenix Lake, California',\n",
              " 622: 'Pico Rivera, California',\n",
              " 623: 'Piedmont, California',\n",
              " 624: 'Pierpoint, California',\n",
              " 625: 'Pike, California',\n",
              " 626: 'Pine Canyon, California',\n",
              " 627: 'Pine Flat, California',\n",
              " 628: 'Pine Grove, California',\n",
              " 629: 'Pine Hills, California',\n",
              " 630: 'Pine Mountain Club, California',\n",
              " 631: 'Pine Mountain Lake, California',\n",
              " 632: 'Pine Valley, California',\n",
              " 633: 'Pinole, California',\n",
              " 634: 'Pi?on Hills, California',\n",
              " 635: 'Pioneer, California',\n",
              " 636: 'Piru, California',\n",
              " 637: 'Pismo Beach, California',\n",
              " 638: 'Pittsburg, California',\n",
              " 639: 'Pixley, California',\n",
              " 640: 'Placentia, California',\n",
              " 641: 'Placerville, California',\n",
              " 642: 'Plainview, California',\n",
              " 643: 'Planada, California',\n",
              " 644: 'Pleasant Hill, California',\n",
              " 645: 'Pleasanton, California',\n",
              " 646: 'Plumas Eureka, California',\n",
              " 647: 'Plumas Lake, California',\n",
              " 648: 'Plymouth, California',\n",
              " 649: 'Point Arena, California',\n",
              " 650: 'Point Reyes Station, California',\n",
              " 651: 'Pollock Pines, California',\n",
              " 652: 'Pomona, California',\n",
              " 653: 'Ponderosa, California',\n",
              " 654: 'Poplar-Cotton Center, California',\n",
              " 655: 'Port Costa, California',\n",
              " 656: 'Porterville, California',\n",
              " 657: 'Port Hueneme, California',\n",
              " 658: 'Portola, California',\n",
              " 659: 'Portola Valley, California',\n",
              " 660: 'Posey, California',\n",
              " 661: 'Poso Park, California',\n",
              " 662: 'Potrero, California',\n",
              " 663: 'Potter Valley, California',\n",
              " 664: 'Poway, California',\n",
              " 665: 'Prattville, California',\n",
              " 666: 'Princeton, California',\n",
              " 667: 'Proberta, California',\n",
              " 668: 'Prunedale, California',\n",
              " 669: 'Quartz Hill, California',\n",
              " 670: 'Quincy, California',\n",
              " 671: 'Rackerby, California',\n",
              " 672: 'Rail Road Flat, California',\n",
              " 673: 'Rainbow, California',\n",
              " 674: 'Raisin City, California',\n",
              " 675: 'Ramona, California',\n",
              " 676: 'Rancho Calaveras, California',\n",
              " 677: 'Rancho Cordova, California',\n",
              " 678: 'Rancho Cucamonga, California',\n",
              " 679: 'Rancho Mirage, California',\n",
              " 680: 'Rancho Murieta, California',\n",
              " 681: 'Rancho Palos Verdes, California',\n",
              " 682: 'Rancho San Diego, California',\n",
              " 683: 'Rancho Santa Fe, California',\n",
              " 684: 'Rancho Santa Margarita, California',\n",
              " 685: 'Rancho Tehama Reserve, California',\n",
              " 686: 'Randsburg, California',\n",
              " 687: 'Red Bluff, California',\n",
              " 688: 'Red Corral, California',\n",
              " 689: 'Redcrest, California',\n",
              " 690: 'Redding, California',\n",
              " 691: 'Redlands, California',\n",
              " 692: 'Redondo Beach, California',\n",
              " 693: 'Redway, California',\n",
              " 694: 'Redwood City, California',\n",
              " 695: 'Redwood Valley, California',\n",
              " 696: 'Reedley, California',\n",
              " 697: 'Reliez Valley, California',\n",
              " 698: 'Rialto, California',\n",
              " 699: 'Richfield, California',\n",
              " 700: 'Richgrove, California',\n",
              " 701: 'Richmond, California',\n",
              " 702: 'Richvale, California',\n",
              " 703: 'Ridgecrest, California',\n",
              " 704: 'Ridgemark, California',\n",
              " 705: 'Rio Dell, California',\n",
              " 706: 'Rio del Mar, California',\n",
              " 707: 'Rio Linda, California',\n",
              " 708: 'Rio Oso, California',\n",
              " 709: 'Rio Vista, California',\n",
              " 710: 'Ripley, California',\n",
              " 711: 'Ripon, California',\n",
              " 712: 'Riverbank, California',\n",
              " 713: 'Riverdale, California',\n",
              " 714: 'Riverdale Park, California',\n",
              " 715: 'River Pines, California',\n",
              " 716: 'Riverside, California',\n",
              " 717: 'Robbins, California',\n",
              " 718: 'Robinson Mill, California',\n",
              " 719: 'Rocklin, California',\n",
              " 720: 'Rodeo, California',\n",
              " 721: 'Rodriguez Camp, California',\n",
              " 722: 'Rohnert Park, California',\n",
              " 723: 'Rolling Hills, California',\n",
              " 724: 'Rolling Hills Estates, California',\n",
              " 725: 'Rollingwood, California',\n",
              " 726: 'Romoland, California',\n",
              " 727: 'Rosamond, California',\n",
              " 728: 'Rosedale, California',\n",
              " 729: 'Rose Hills, California',\n",
              " 730: 'Roseland, California',\n",
              " 731: 'Rosemead, California',\n",
              " 732: 'Rosemont, California',\n",
              " 733: 'Roseville, California',\n",
              " 734: 'Ross, California',\n",
              " 735: 'Rossmoor, California',\n",
              " 736: 'Rough and Ready, California',\n",
              " 737: 'Round Mountain, California',\n",
              " 738: 'Round Valley, California',\n",
              " 739: 'Rouse, California',\n",
              " 740: 'Rowland Heights, California',\n",
              " 741: 'Rubidoux, California',\n",
              " 742: 'Running Springs, California',\n",
              " 743: 'Ruth, California',\n",
              " 744: 'Rutherford, California',\n",
              " 745: 'Sacramento, California',\n",
              " 746: 'St. Helena, California',\n",
              " 747: 'Salida, California',\n",
              " 748: 'Salinas, California',\n",
              " 749: 'Salmon Creek, California',\n",
              " 750: 'Salton City, California',\n",
              " 751: 'Salton Sea Beach, California',\n",
              " 752: 'Samoa, California',\n",
              " 753: 'San Andreas, California',\n",
              " 754: 'San Anselmo, California',\n",
              " 755: 'San Antonio Heights, California',\n",
              " 756: 'San Ardo, California',\n",
              " 757: 'San Bernardino, California',\n",
              " 758: 'San Bruno, California',\n",
              " 759: 'San Buenaventura (Ventura), California',\n",
              " 760: 'San Carlos, California',\n",
              " 761: 'San Clemente, California',\n",
              " 762: 'Sand City, California',\n",
              " 763: 'San Diego, California',\n",
              " 764: 'San Diego Country Estates, California',\n",
              " 765: 'San Dimas, California',\n",
              " 766: 'San Fernando, California',\n",
              " 767: 'San Francisco, California',\n",
              " 768: 'San Gabriel, California',\n",
              " 769: 'Sanger, California',\n",
              " 770: 'San Geronimo, California',\n",
              " 771: 'San Jacinto, California',\n",
              " 772: 'San Joaquin, California',\n",
              " 773: 'San Jose, California',\n",
              " 774: 'San Juan Bautista, California',\n",
              " 775: 'San Juan Capistrano, California',\n",
              " 776: 'San Leandro, California',\n",
              " 777: 'San Lorenzo, California',\n",
              " 778: 'San Lucas, California',\n",
              " 779: 'San Luis Obispo, California',\n",
              " 780: 'San Marcos, California',\n",
              " 781: 'San Marino, California',\n",
              " 782: 'San Martin, California',\n",
              " 783: 'San Mateo, California',\n",
              " 784: 'San Miguel (Contra Costa County), California',\n",
              " 785: 'San Miguel (San Luis Obispo County), California',\n",
              " 786: 'San Pablo, California',\n",
              " 787: 'San Pasqual, California',\n",
              " 788: 'San Rafael, California',\n",
              " 789: 'San Ramon, California',\n",
              " 790: 'San Simeon, California',\n",
              " 791: 'Santa Ana, California',\n",
              " 792: 'Santa Barbara, California',\n",
              " 793: 'Santa Clara, California',\n",
              " 794: 'Santa Clarita, California',\n",
              " 795: 'Santa Cruz, California',\n",
              " 796: 'Santa Fe Springs, California',\n",
              " 797: 'Santa Margarita, California',\n",
              " 798: 'Santa Maria, California',\n",
              " 799: 'Santa Monica, California',\n",
              " 800: 'Santa Nella, California',\n",
              " 801: 'Santa Paula, California',\n",
              " 802: 'Santa Rosa, California',\n",
              " 803: 'Santa Rosa Valley, California',\n",
              " 804: 'Santa Susana, California',\n",
              " 805: 'Santa Venetia, California',\n",
              " 806: 'Santa Ynez, California',\n",
              " 807: 'Santee, California',\n",
              " 808: 'Saranap, California',\n",
              " 809: 'Saratoga, California',\n",
              " 810: 'Saticoy, California',\n",
              " 811: 'Sattley, California',\n",
              " 812: 'Sausalito, California',\n",
              " 813: 'Scotia, California',\n",
              " 814: 'Scotts Valley, California',\n",
              " 815: 'Seacliff, California',\n",
              " 816: 'Seal Beach, California',\n",
              " 817: 'Sea Ranch, California',\n",
              " 818: 'Searles Valley, California',\n",
              " 819: 'Seaside, California',\n",
              " 820: 'Sebastopol, California',\n",
              " 821: 'Seeley, California',\n",
              " 822: 'Selma, California',\n",
              " 823: 'Sequoia Crest, California',\n",
              " 824: 'Sereno del Mar, California',\n",
              " 825: 'Seville, California',\n",
              " 826: 'Shackelford, California',\n",
              " 827: 'Shafter, California',\n",
              " 828: 'Shandon, California',\n",
              " 829: 'Shasta, California',\n",
              " 830: 'Shasta Lake, California',\n",
              " 831: 'Shaver Lake, California',\n",
              " 832: 'Shell Ridge, California',\n",
              " 833: 'Shelter Cove, California',\n",
              " 834: 'Sheridan, California',\n",
              " 835: 'Shingle Springs, California',\n",
              " 836: 'Shingletown, California',\n",
              " 837: 'Shoshone, California',\n",
              " 838: 'Sierra Brooks, California',\n",
              " 839: 'Sierra City, California',\n",
              " 840: 'Sierra Madre, California',\n",
              " 841: 'Sierra Village, California',\n",
              " 842: 'Sierraville, California',\n",
              " 843: 'Signal Hill, California',\n",
              " 844: 'Silverado Resort, California',\n",
              " 845: 'Silver City, California',\n",
              " 846: 'Silver Lakes, California',\n",
              " 847: 'Simi Valley, California',\n",
              " 848: 'Sisquoc, California',\n",
              " 849: 'Sky Valley, California',\n",
              " 850: 'Sleepy Hollow, California',\n",
              " 851: 'Smartsville, California',\n",
              " 852: 'Smith Corner, California',\n",
              " 853: 'Smith River, California',\n",
              " 854: 'Snelling, California',\n",
              " 855: 'Soda Bay, California',\n",
              " 856: 'Soda Springs, California',\n",
              " 857: 'Solana Beach, California',\n",
              " 858: 'Soledad, California',\n",
              " 859: 'Solvang, California',\n",
              " 860: 'Sonoma, California',\n",
              " 861: 'Sonora, California',\n",
              " 862: 'Soquel, California',\n",
              " 863: 'Soulsbyville, California',\n",
              " 864: 'South Dos Palos, California',\n",
              " 865: 'South El Monte, California',\n",
              " 866: 'South Gate, California',\n",
              " 867: 'South Lake Tahoe, California',\n",
              " 868: 'South Monrovia Island, California',\n",
              " 869: 'South Oroville, California',\n",
              " 870: 'South Pasadena, California',\n",
              " 871: 'South San Francisco, California',\n",
              " 872: 'South San Gabriel, California',\n",
              " 873: 'South San Jose Hills, California',\n",
              " 874: 'South Taft, California',\n",
              " 875: 'South Whittier, California',\n",
              " 876: 'Spaulding, California',\n",
              " 877: 'Spreckels, California',\n",
              " 878: 'Spring Garden, California',\n",
              " 879: 'Spring Valley (Lake County), California',\n",
              " 880: 'Spring Valley (San Diego County), California',\n",
              " 881: 'Spring Valley Lake, California',\n",
              " 882: 'Springville, California',\n",
              " 883: 'Squaw Valley, California',\n",
              " 884: 'Squirrel Mountain Valley, California',\n",
              " 885: 'Stallion Springs, California',\n",
              " 886: 'Stanford, California',\n",
              " 887: 'Stanton, California',\n",
              " 888: 'Stevenson Ranch, California',\n",
              " 889: 'Stevinson, California',\n",
              " 890: 'Stinson Beach, California',\n",
              " 891: 'Stirling City, California',\n",
              " 892: 'Stockton, California',\n",
              " 893: 'Stonyford, California',\n",
              " 894: 'Storrie, California',\n",
              " 895: 'Stratford, California',\n",
              " 896: 'Strathmore, California',\n",
              " 897: 'Strawberry (Marin County), California',\n",
              " 898: 'Strawberry (Tuolumne County), California',\n",
              " 899: 'Sugarloaf Mountain Park, California',\n",
              " 900: 'Sugarloaf Saw Mill, California',\n",
              " 901: 'Sugarloaf Village, California',\n",
              " 902: 'Suisun City, California',\n",
              " 903: 'Sultana, California',\n",
              " 904: 'Summerland, California',\n",
              " 905: 'Sunnyside, California',\n",
              " 906: 'Sunnyside-Tahoe City, California',\n",
              " 907: 'Sunnyslope, California',\n",
              " 908: 'Sunny Slopes, California',\n",
              " 909: 'Sunnyvale, California',\n",
              " 910: 'Sunol, California',\n",
              " 911: 'Sunset Beach, California',\n",
              " 912: 'Sun Village, California',\n",
              " 913: 'Susanville, California',\n",
              " 914: 'Sutter, California',\n",
              " 915: 'Sutter Creek, California',\n",
              " 916: 'Swall Meadows, California',\n",
              " 917: 'Taft, California',\n",
              " 918: 'Taft Heights, California',\n",
              " 919: 'Taft Mosswood, California',\n",
              " 920: 'Tahoe Vista, California',\n",
              " 921: 'Tahoma, California',\n",
              " 922: 'Talmage, California',\n",
              " 923: 'Tamalpais-Homestead Valley, California',\n",
              " 924: 'Tara Hills, California',\n",
              " 925: 'Tarpey Village, California',\n",
              " 926: 'Taylorsville, California',\n",
              " 927: 'Tecopa, California',\n",
              " 928: 'Tehachapi, California',\n",
              " 929: 'Tehama, California',\n",
              " 930: 'Temecula, California',\n",
              " 931: 'Temelec, California',\n",
              " 932: 'Temescal Valley, California',\n",
              " 933: 'Temple City, California',\n",
              " 934: 'Templeton, California',\n",
              " 935: 'Tennant, California',\n",
              " 936: 'Terminous, California',\n",
              " 937: 'Terra Bella, California',\n",
              " 938: 'Teviston, California',\n",
              " 939: 'Thermal, California',\n",
              " 940: 'Thermalito, California',\n",
              " 941: 'Thornton, California',\n",
              " 942: 'Thousand Oaks, California',\n",
              " 943: 'Thousand Palms, California',\n",
              " 944: 'Three Rivers, California',\n",
              " 945: 'Three Rocks, California',\n",
              " 946: 'Tiburon, California',\n",
              " 947: 'Timber Cove, California',\n",
              " 948: 'Tipton, California',\n",
              " 949: 'Tobin, California',\n",
              " 950: 'Tomales, California',\n",
              " 951: 'Tonyville, California',\n",
              " 952: 'Tooleville, California',\n",
              " 953: 'Topanga, California',\n",
              " 954: 'Topaz, California',\n",
              " 955: 'Toro Canyon, California',\n",
              " 956: 'Torrance, California',\n",
              " 957: 'Tracy, California',\n",
              " 958: 'Tranquillity, California',\n",
              " 959: 'Traver, California',\n",
              " 960: 'Tres Pinos, California',\n",
              " 961: 'Trinidad, California',\n",
              " 962: 'Trinity Center, California',\n",
              " 963: 'Trinity Village, California',\n",
              " 964: 'Trona, California',\n",
              " 965: 'Trowbridge, California',\n",
              " 966: 'Truckee, California',\n",
              " 967: 'Tulare, California',\n",
              " 968: 'Tulelake, California',\n",
              " 969: 'Tuolumne City, California',\n",
              " 970: 'Tupman, California',\n",
              " 971: 'Turlock, California',\n",
              " 972: 'Tustin, California',\n",
              " 973: 'Tuttle, California',\n",
              " 974: 'Tuttletown, California',\n",
              " 2895: 'Acalanes Ridge, California',\n",
              " 2896: 'Acampo, California',\n",
              " 2897: 'Acton, California',\n",
              " 2898: 'Adelanto, California',\n",
              " 2899: 'Adin, California',\n",
              " 2900: 'Agoura Hills, California',\n",
              " 2901: 'Agua Dulce, California',\n",
              " 2902: 'Aguanga, California',\n",
              " 2903: 'Ahwahnee, California',\n",
              " 2904: 'Airport, California',\n",
              " 2905: 'Alameda, California',\n",
              " 2906: 'Alamo, California',\n",
              " 2907: 'Albany, California',\n",
              " 2908: 'Albion, California',\n",
              " 2909: 'Alderpoint, California',\n",
              " 2910: 'Alhambra, California',\n",
              " 2911: 'Alhambra Valley, California',\n",
              " 2912: 'Aliso Viejo, California',\n",
              " 2913: 'Alleghany, California',\n",
              " 2914: 'Allendale, California',\n",
              " 2915: 'Allensworth, California',\n",
              " 2916: 'Almanor, California',\n",
              " 2917: 'Alondra Park, California',\n",
              " 2918: 'Alpaugh, California',\n",
              " 2919: 'Alpine, California',\n",
              " ...}"
            ]
          },
          "metadata": {
            "tags": []
          },
          "execution_count": 123
        }
      ]
    },
    {
      "cell_type": "code",
      "metadata": {
        "id": "uzdRe7_-hTeV"
      },
      "source": [
        "# Data to be written  \r\n",
        "with open(\"id_num.json\", \"w\") as outfile:  \r\n",
        "    json.dump(id_num__city_state, outfile) "
      ],
      "execution_count": null,
      "outputs": []
    },
    {
      "cell_type": "code",
      "metadata": {
        "id": "rDcIZR4sgpZ3"
      },
      "source": [
        "city_state__id_num = dict(zip(ws_impute_df.city_state, ws_impute_df.id_num))"
      ],
      "execution_count": null,
      "outputs": []
    },
    {
      "cell_type": "code",
      "metadata": {
        "id": "qjDfWbrgg0im",
        "colab": {
          "base_uri": "https://localhost:8080/"
        },
        "outputId": "2252f464-01b1-4ed0-f1f5-4ae1c857772d"
      },
      "source": [
        "city_state__id_num"
      ],
      "execution_count": null,
      "outputs": [
        {
          "output_type": "execute_result",
          "data": {
            "text/plain": [
              "{'El Dorado Hills, California': 0,\n",
              " 'Eldridge, California': 1,\n",
              " 'El Granada, California': 2,\n",
              " 'Elizabeth Lake, California': 3,\n",
              " 'Elk Creek, California': 4,\n",
              " 'Elk Grove, California': 5,\n",
              " 'Elkhorn, California': 6,\n",
              " 'Elmira, California': 7,\n",
              " 'El Monte, California': 8,\n",
              " 'El Nido, California': 9,\n",
              " 'El Paso de Robles (Paso Robles), California': 10,\n",
              " 'El Portal, California': 11,\n",
              " 'El Rancho, California': 12,\n",
              " 'El Rio, California': 13,\n",
              " 'El Segundo, California': 14,\n",
              " 'El Sobrante (Contra Costa County), California': 15,\n",
              " 'El Sobrante (Riverside County), California': 16,\n",
              " 'El Verano, California': 17,\n",
              " 'Elverta, California': 18,\n",
              " 'Emerald Lake Hills, California': 19,\n",
              " 'Emeryville, California': 20,\n",
              " 'Empire, California': 21,\n",
              " 'Encinitas, California': 22,\n",
              " 'Escalon, California': 23,\n",
              " 'Escondido, California': 24,\n",
              " 'Esparto, California': 25,\n",
              " 'Etna, California': 26,\n",
              " 'Eucalyptus Hills, California': 27,\n",
              " 'Eureka, California': 28,\n",
              " 'Exeter, California': 29,\n",
              " 'Fairbanks Ranch, California': 30,\n",
              " 'Fairfax, California': 31,\n",
              " 'Fairfield, California': 32,\n",
              " 'Fairmead, California': 33,\n",
              " 'Fair Oaks, California': 34,\n",
              " 'Fairview, California': 35,\n",
              " 'Fallbrook, California': 36,\n",
              " 'Fall River Mills, California': 37,\n",
              " 'Farmersville, California': 38,\n",
              " 'Farmington, California': 39,\n",
              " 'Fellows, California': 40,\n",
              " 'Felton, California': 41,\n",
              " 'Ferndale, California': 42,\n",
              " 'Fetters Hot Springs-Agua Caliente, California': 43,\n",
              " 'Fiddletown, California': 44,\n",
              " 'Fieldbrook, California': 45,\n",
              " 'Fields Landing, California': 46,\n",
              " 'Fillmore, California': 47,\n",
              " 'Firebaugh, California': 48,\n",
              " 'Fish Camp, California': 49,\n",
              " 'Florence-Graham, California': 50,\n",
              " 'Florin, California': 51,\n",
              " 'Floriston, California': 52,\n",
              " 'Flournoy, California': 53,\n",
              " 'Folsom, California': 54,\n",
              " 'Fontana, California': 55,\n",
              " 'Foothill Farms, California': 56,\n",
              " 'Forbestown, California': 57,\n",
              " 'Ford City, California': 58,\n",
              " 'Foresthill, California': 59,\n",
              " 'Forest Meadows, California': 60,\n",
              " 'Forest Ranch, California': 61,\n",
              " 'Forestville, California': 62,\n",
              " 'Fort Bidwell, California': 63,\n",
              " 'Fort Bragg, California': 64,\n",
              " 'Fort Irwin, California': 65,\n",
              " 'Fort Jones, California': 66,\n",
              " 'Fortuna, California': 67,\n",
              " 'Fort Washington, California': 68,\n",
              " 'Foster City, California': 69,\n",
              " 'Fountain Valley, California': 70,\n",
              " 'Fowler, California': 71,\n",
              " 'Franklin (Merced County), California': 72,\n",
              " 'Franklin (Sacramento County), California': 73,\n",
              " 'Frazier Park, California': 74,\n",
              " 'Freedom, California': 75,\n",
              " 'Freeport, California': 76,\n",
              " 'Fremont, California': 77,\n",
              " 'French Camp, California': 78,\n",
              " 'French Gulch, California': 79,\n",
              " 'French Valley, California': 80,\n",
              " 'Fresno, California': 81,\n",
              " 'Friant, California': 82,\n",
              " 'Fruitdale, California': 83,\n",
              " 'Fruitridge Pocket, California': 84,\n",
              " 'Fuller Acres, California': 85,\n",
              " 'Fullerton, California': 86,\n",
              " 'Fulton, California': 87,\n",
              " 'Furnace Creek, California': 88,\n",
              " 'Galt, California': 89,\n",
              " 'Garberville, California': 90,\n",
              " 'Gardena, California': 91,\n",
              " 'Garden Acres, California': 92,\n",
              " 'Garden Farms, California': 93,\n",
              " 'Garden Grove, California': 94,\n",
              " 'Garey, California': 95,\n",
              " 'Garnet, California': 96,\n",
              " 'Gasquet, California': 97,\n",
              " 'Gazelle, California': 98,\n",
              " 'Georgetown, California': 99,\n",
              " 'Gerber, California': 100,\n",
              " 'Geyserville, California': 101,\n",
              " 'Gilroy, California': 102,\n",
              " 'Glen Avon, California': 103,\n",
              " 'Glendale, California': 104,\n",
              " 'Glendora, California': 105,\n",
              " 'Glen Ellen, California': 106,\n",
              " 'Golden Hills, California': 107,\n",
              " 'Gold Mountain, California': 108,\n",
              " 'Gold River, California': 109,\n",
              " 'Goleta, California': 110,\n",
              " 'Gonzales, California': 111,\n",
              " 'Good Hope, California': 112,\n",
              " 'Goodyears Bar, California': 113,\n",
              " 'Goshen, California': 114,\n",
              " 'Graeagle, California': 115,\n",
              " 'Grand Terrace, California': 116,\n",
              " 'Grangeville, California': 117,\n",
              " 'Granite Bay, California': 118,\n",
              " 'Granite Hills, California': 119,\n",
              " 'Graniteville, California': 120,\n",
              " 'Grass Valley, California': 121,\n",
              " 'Graton, California': 122,\n",
              " 'Grayson, California': 123,\n",
              " 'Greeley Hill, California': 124,\n",
              " 'Greenacres, California': 125,\n",
              " 'Green Acres, California': 126,\n",
              " 'Greenfield, California': 127,\n",
              " 'Greenhorn, California': 128,\n",
              " 'Green Valley (Los Angeles County), California': 129,\n",
              " 'Green Valley (Solano County), California': 130,\n",
              " 'Greenview, California': 131,\n",
              " 'Greenville, California': 132,\n",
              " 'Grenada, California': 133,\n",
              " 'Gridley, California': 134,\n",
              " 'Grimes, California': 135,\n",
              " 'Grizzly Flats, California': 136,\n",
              " 'Groveland, California': 137,\n",
              " 'Grover Beach, California': 138,\n",
              " 'Guadalupe, California': 139,\n",
              " 'Guerneville, California': 140,\n",
              " 'Guinda, California': 141,\n",
              " 'Gustine, California': 142,\n",
              " 'Hacienda Heights, California': 143,\n",
              " 'Half Moon Bay, California': 144,\n",
              " 'Hamilton Branch, California': 145,\n",
              " 'Hamilton City, California': 146,\n",
              " 'Hanford, California': 147,\n",
              " 'Happy Camp, California': 148,\n",
              " 'Harbison Canyon, California': 149,\n",
              " 'Hardwick, California': 150,\n",
              " 'Hartland, California': 151,\n",
              " 'Hartley, California': 152,\n",
              " 'Hasley Canyon, California': 153,\n",
              " 'Hat Creek, California': 154,\n",
              " 'Hawaiian Gardens, California': 155,\n",
              " 'Hawthorne, California': 156,\n",
              " 'Hayfork, California': 157,\n",
              " 'Hayward, California': 158,\n",
              " 'Healdsburg, California': 159,\n",
              " 'Heber, California': 160,\n",
              " 'Hemet, California': 161,\n",
              " 'Herald, California': 162,\n",
              " 'Hercules, California': 163,\n",
              " 'Herlong, California': 164,\n",
              " 'Hermosa Beach, California': 165,\n",
              " 'Hesperia, California': 166,\n",
              " 'Hickman, California': 167,\n",
              " 'Hidden Hills, California': 168,\n",
              " 'Hidden Meadows, California': 169,\n",
              " 'Hidden Valley Lake, California': 170,\n",
              " 'Highgrove, California': 171,\n",
              " 'Highland, California': 172,\n",
              " 'Highlands-Baywood Park, California': 173,\n",
              " 'Hillsborough, California': 174,\n",
              " 'Hilmar-Irwin, California': 175,\n",
              " 'Hiouchi, California': 176,\n",
              " 'Hollister, California': 177,\n",
              " 'Holtville, California': 178,\n",
              " 'Home Garden, California': 179,\n",
              " 'Home Gardens, California': 180,\n",
              " 'Homeland, California': 181,\n",
              " 'Homestead Valley, California': 182,\n",
              " 'Homewood Canyon, California': 183,\n",
              " 'Honcut, California': 184,\n",
              " 'Hood, California': 185,\n",
              " 'Hopland, California': 186,\n",
              " 'Hornbrook, California': 187,\n",
              " 'Hornitos, California': 188,\n",
              " 'Hughson, California': 189,\n",
              " 'Humboldt Hill, California': 190,\n",
              " 'Huntington Beach, California': 191,\n",
              " 'Huntington Park, California': 192,\n",
              " 'Huron, California': 193,\n",
              " 'Hyampom, California': 194,\n",
              " 'Hydesville, California': 195,\n",
              " 'Idlewild, California': 196,\n",
              " 'Idyllwild-Pine Cove, California': 197,\n",
              " 'Imperial, California': 198,\n",
              " 'Imperial Beach, California': 199,\n",
              " 'Independence, California': 200,\n",
              " 'Indian Falls, California': 201,\n",
              " 'Indianola, California': 202,\n",
              " 'Indian Wells, California': 203,\n",
              " 'Indio, California': 204,\n",
              " 'Indio Hills, California': 205,\n",
              " 'Industry, California': 206,\n",
              " 'Inglewood, California': 207,\n",
              " 'Interlaken, California': 208,\n",
              " 'Inverness, California': 209,\n",
              " 'Inyokern, California': 210,\n",
              " 'Ione, California': 211,\n",
              " 'Iron Horse, California': 212,\n",
              " 'Irvine, California': 213,\n",
              " 'Irwindale, California': 214,\n",
              " 'Isla Vista, California': 215,\n",
              " 'Isleton, California': 216,\n",
              " 'Ivanhoe, California': 217,\n",
              " 'Jackson, California': 218,\n",
              " 'Jacumba, California': 219,\n",
              " 'Jamestown, California': 220,\n",
              " 'Jamul, California': 221,\n",
              " 'Janesville, California': 222,\n",
              " 'Jenner, California': 223,\n",
              " 'Johannesburg, California': 224,\n",
              " 'Johnstonville, California': 225,\n",
              " 'Johnsville, California': 226,\n",
              " 'Joshua Tree, California': 227,\n",
              " 'Julian, California': 228,\n",
              " 'Junction City, California': 229,\n",
              " 'June Lake, California': 230,\n",
              " 'Keddie, California': 231,\n",
              " 'Keeler, California': 232,\n",
              " 'Keene, California': 233,\n",
              " 'Kelly Ridge, California': 234,\n",
              " 'Kelseyville, California': 235,\n",
              " 'Kennedy, California': 236,\n",
              " 'Kennedy Meadows, California': 237,\n",
              " 'Kensington, California': 238,\n",
              " 'Kentfield, California': 239,\n",
              " 'Kenwood, California': 240,\n",
              " 'Kerman, California': 241,\n",
              " 'Kernville, California': 242,\n",
              " 'Keswick, California': 243,\n",
              " 'Kettleman City, California': 244,\n",
              " 'Keyes, California': 245,\n",
              " 'King City, California': 246,\n",
              " 'Kings Beach, California': 247,\n",
              " 'Kingsburg, California': 248,\n",
              " 'Kingvale, California': 249,\n",
              " 'Kirkwood, California': 250,\n",
              " 'Klamath, California': 251,\n",
              " 'Knightsen, California': 252,\n",
              " 'Knights Landing, California': 253,\n",
              " 'La Cañada Flintridge, California': 254,\n",
              " 'La Crescenta-Montrose, California': 255,\n",
              " 'Ladera, California': 256,\n",
              " 'Ladera Heights, California': 257,\n",
              " 'Ladera Ranch, California': 258,\n",
              " 'Lafayette, California': 259,\n",
              " 'Laguna Beach, California': 260,\n",
              " 'Laguna Hills, California': 261,\n",
              " 'Laguna Niguel, California': 262,\n",
              " 'Laguna Woods, California': 263,\n",
              " 'Lagunitas-Forest Knolls, California': 264,\n",
              " 'La Habra, California': 265,\n",
              " 'La Habra Heights, California': 266,\n",
              " 'La Honda, California': 267,\n",
              " 'Lake Almanor Country Club, California': 268,\n",
              " 'Lake Almanor Peninsula, California': 269,\n",
              " 'Lake Almanor West, California': 270,\n",
              " 'Lake Arrowhead, California': 271,\n",
              " 'Lake California, California': 272,\n",
              " 'Lake City, California': 273,\n",
              " 'Lake Davis, California': 274,\n",
              " 'Lake Don Pedro, California': 275,\n",
              " 'Lake Elsinore, California': 276,\n",
              " 'Lake Forest, California': 277,\n",
              " 'Lakehead, California': 278,\n",
              " 'Lake Hughes, California': 279,\n",
              " 'Lake Isabella, California': 280,\n",
              " 'Lakeland Village, California': 281,\n",
              " 'Lake Los Angeles, California': 282,\n",
              " 'Lake Mathews, California': 283,\n",
              " 'Lake Nacimiento, California': 284,\n",
              " 'Lake of the Pines, California': 285,\n",
              " 'Lake of the Woods, California': 286,\n",
              " 'Lakeport, California': 287,\n",
              " 'Lake Riverside, California': 288,\n",
              " 'Lake San Marcos, California': 289,\n",
              " 'Lake Sherwood, California': 290,\n",
              " 'Lakeside, California': 291,\n",
              " 'Lakeview, California': 292,\n",
              " 'Lake Wildwood, California': 293,\n",
              " 'Lakewood, California': 294,\n",
              " 'La Mesa, California': 295,\n",
              " 'La Mirada, California': 296,\n",
              " 'Lamont, California': 297,\n",
              " 'Lanare, California': 298,\n",
              " 'Lancaster, California': 299,\n",
              " 'La Palma, California': 300,\n",
              " 'La Porte, California': 301,\n",
              " 'La Presa, California': 302,\n",
              " 'La Puente, California': 303,\n",
              " 'La Quinta, California': 304,\n",
              " 'La Riviera, California': 305,\n",
              " 'Larkfield-Wikiup, California': 306,\n",
              " 'Larkspur, California': 307,\n",
              " 'La Selva Beach, California': 308,\n",
              " 'Las Flores (Orange County), California': 309,\n",
              " 'Las Flores (Tehama County), California': 310,\n",
              " 'Las Lomas, California': 311,\n",
              " 'Lathrop, California': 312,\n",
              " 'Laton, California': 313,\n",
              " 'La Verne, California': 314,\n",
              " 'La Vina, California': 315,\n",
              " 'Lawndale, California': 316,\n",
              " 'Laytonville, California': 317,\n",
              " 'Lebec, California': 318,\n",
              " 'Lee Vining, California': 319,\n",
              " 'Leggett, California': 320,\n",
              " 'Le Grand, California': 321,\n",
              " 'Lemon Cove, California': 322,\n",
              " 'Lemon Grove, California': 323,\n",
              " 'Lemon Hill, California': 324,\n",
              " 'Lemoore, California': 325,\n",
              " 'Lemoore Station, California': 326,\n",
              " 'Lennox, California': 327,\n",
              " 'Lenwood, California': 328,\n",
              " 'Leona Valley, California': 329,\n",
              " 'Lewiston, California': 330,\n",
              " 'Lexington Hills, California': 331,\n",
              " 'Likely, California': 332,\n",
              " 'Lincoln, California': 333,\n",
              " 'Lincoln Village, California': 334,\n",
              " 'Linda, California': 335,\n",
              " 'Lindcove, California': 336,\n",
              " 'Linden, California': 337,\n",
              " 'Lindsay, California': 338,\n",
              " 'Linnell Camp, California': 339,\n",
              " 'Litchfield, California': 340,\n",
              " 'Little Grass Valley, California': 341,\n",
              " 'Little River, California': 342,\n",
              " 'Littlerock, California': 343,\n",
              " 'Live Oak, California': 344,\n",
              " 'Livermore, California': 345,\n",
              " 'Livingston, California': 346,\n",
              " 'Lockeford, California': 347,\n",
              " 'Lockwood, California': 348,\n",
              " 'Lodi, California': 349,\n",
              " 'Lodoga, California': 350,\n",
              " 'Loleta, California': 351,\n",
              " 'Loma Linda, California': 352,\n",
              " 'Loma Mar, California': 353,\n",
              " 'Loma Rica, California': 354,\n",
              " 'Lomita, California': 355,\n",
              " 'Lompico, California': 356,\n",
              " 'Lompoc, California': 357,\n",
              " 'London, California': 358,\n",
              " 'Lone Pine, California': 359,\n",
              " 'Long Barn, California': 360,\n",
              " 'Long Beach, California': 361,\n",
              " 'Lookout, California': 362,\n",
              " 'Loomis, California': 363,\n",
              " 'Los Alamitos, California': 364,\n",
              " 'Los Alamos, California': 365,\n",
              " 'Los Altos, California': 366,\n",
              " 'Los Altos Hills, California': 367,\n",
              " 'Los Angeles, California': 368,\n",
              " 'Los Banos, California': 369,\n",
              " 'Los Berros, California': 370,\n",
              " 'Los Gatos, California': 371,\n",
              " 'Los Molinos, California': 372,\n",
              " 'Los Olivos, California': 373,\n",
              " 'Los Osos, California': 374,\n",
              " 'Los Ranchos, California': 375,\n",
              " 'Lost Hills, California': 376,\n",
              " 'Lower Lake, California': 377,\n",
              " 'Loyalton, California': 378,\n",
              " 'Loyola, California': 379,\n",
              " 'Lucas Valley-Marinwood, California': 380,\n",
              " 'Lucerne, California': 381,\n",
              " 'Lucerne Valley, California': 382,\n",
              " 'Lynwood, California': 383,\n",
              " 'Lytle Creek, California': 384,\n",
              " 'Mabie, California': 385,\n",
              " 'McArthur, California': 386,\n",
              " 'McClellan Park, California': 387,\n",
              " 'McClenney Tract, California': 388,\n",
              " 'McCloud, California': 389,\n",
              " 'Macdoel, California': 390,\n",
              " 'McFarland, California': 391,\n",
              " 'McGee Creek, California': 392,\n",
              " 'McKinleyville, California': 393,\n",
              " 'McKittrick, California': 394,\n",
              " 'McSwain, California': 395,\n",
              " 'Madera, California': 396,\n",
              " 'Madera Acres, California': 397,\n",
              " 'Madison, California': 398,\n",
              " 'Mad River, California': 399,\n",
              " 'Magalia, California': 400,\n",
              " 'Malaga, California': 401,\n",
              " 'Malibu, California': 402,\n",
              " 'Mammoth Lakes, California': 403,\n",
              " 'Manchester, California': 404,\n",
              " 'Manhattan Beach, California': 405,\n",
              " 'Manila, California': 406,\n",
              " 'Manteca, California': 407,\n",
              " 'Manton, California': 408,\n",
              " 'March ARB, California': 409,\n",
              " 'Maricopa, California': 410,\n",
              " 'Marina, California': 411,\n",
              " 'Marina del Rey, California': 412,\n",
              " 'Marin City, California': 413,\n",
              " 'Mariposa, California': 414,\n",
              " 'Markleeville, California': 415,\n",
              " 'Martell, California': 416,\n",
              " 'Martinez, California': 417,\n",
              " 'Marysville, California': 418,\n",
              " 'Matheny, California': 419,\n",
              " 'Mather, California': 420,\n",
              " 'Maxwell, California': 421,\n",
              " 'Mayfair, California': 422,\n",
              " 'Mayflower Village, California': 423,\n",
              " 'Maywood, California': 424,\n",
              " 'Meadowbrook, California': 425,\n",
              " 'Meadow Valley, California': 426,\n",
              " 'Meadow Vista, California': 427,\n",
              " 'Mead Valley, California': 428,\n",
              " 'Mecca, California': 429,\n",
              " 'Meiners Oaks, California': 430,\n",
              " 'Mendocino, California': 431,\n",
              " 'Mendota, California': 432,\n",
              " 'Menifee, California': 433,\n",
              " 'Menlo Park, California': 434,\n",
              " 'Mentone, California': 435,\n",
              " 'Merced, California': 436,\n",
              " 'Meridian, California': 437,\n",
              " 'Mesa, California': 438,\n",
              " 'Mesa Verde, California': 439,\n",
              " 'Mesa Vista, California': 440,\n",
              " 'Mettler, California': 441,\n",
              " 'Mexican Colony, California': 442,\n",
              " 'Middletown, California': 443,\n",
              " 'Midpines, California': 444,\n",
              " 'Midway City, California': 445,\n",
              " 'Milford, California': 446,\n",
              " 'Millbrae, California': 447,\n",
              " 'Mill Valley, California': 448,\n",
              " 'Millville, California': 449,\n",
              " 'Milpitas, California': 450,\n",
              " 'Mineral, California': 451,\n",
              " 'Minkler, California': 452,\n",
              " 'Mira Loma, California': 453,\n",
              " 'Mira Monte, California': 454,\n",
              " 'Miranda, California': 455,\n",
              " 'Mission Canyon, California': 456,\n",
              " 'Mission Hills, California': 457,\n",
              " 'Mission Viejo, California': 458,\n",
              " 'Mi-Wuk Village, California': 459,\n",
              " 'Modesto, California': 460,\n",
              " 'Mohawk Vista, California': 461,\n",
              " 'Mojave, California': 462,\n",
              " 'Mokelumne Hill, California': 463,\n",
              " 'Monmouth, California': 464,\n",
              " 'Mono City, California': 465,\n",
              " 'Mono Vista, California': 466,\n",
              " 'Monrovia, California': 467,\n",
              " 'Monson, California': 468,\n",
              " 'Montague, California': 469,\n",
              " 'Montalvin Manor, California': 470,\n",
              " 'Montara, California': 471,\n",
              " 'Montclair, California': 472,\n",
              " 'Montebello, California': 473,\n",
              " 'Montecito, California': 474,\n",
              " 'Monterey, California': 475,\n",
              " 'Monterey Park, California': 476,\n",
              " 'Monterey Park Tract, California': 477,\n",
              " 'Monte Rio, California': 478,\n",
              " 'Monte Sereno, California': 479,\n",
              " 'Montgomery Creek, California': 480,\n",
              " 'Monument Hills, California': 481,\n",
              " 'Moorpark, California': 482,\n",
              " 'Morada, California': 483,\n",
              " 'Moraga, California': 484,\n",
              " 'Moreno Valley, California': 485,\n",
              " 'Morgan Hill, California': 486,\n",
              " 'Morongo Valley, California': 487,\n",
              " 'Morro Bay, California': 488,\n",
              " 'Moskowite Corner, California': 489,\n",
              " 'Moss Beach, California': 490,\n",
              " 'Moss Landing, California': 491,\n",
              " 'Mountain Center, California': 492,\n",
              " 'Mountain Gate, California': 493,\n",
              " 'Mountain House, California': 494,\n",
              " 'Mountain Mesa, California': 495,\n",
              " 'Mountain Ranch, California': 496,\n",
              " 'Mountain View, California': 497,\n",
              " 'Mountain View Acres, California': 498,\n",
              " 'Mount Hebron, California': 499,\n",
              " 'Mount Hermon, California': 500,\n",
              " 'Mount Laguna, California': 501,\n",
              " 'Mount Shasta, California': 502,\n",
              " 'Muir Beach, California': 503,\n",
              " 'Murphys, California': 504,\n",
              " 'Murrieta, California': 505,\n",
              " 'Muscoy, California': 506,\n",
              " 'Myers Flat, California': 507,\n",
              " 'Myrtletown, California': 508,\n",
              " 'Napa, California': 509,\n",
              " 'National City, California': 510,\n",
              " 'Needles, California': 511,\n",
              " 'Nevada City, California': 512,\n",
              " 'Newark, California': 513,\n",
              " 'Newcastle, California': 514,\n",
              " 'New Cuyama, California': 515,\n",
              " 'Newell, California': 516,\n",
              " 'Newman, California': 517,\n",
              " 'New Pine Creek, California': 518,\n",
              " 'Newport Beach, California': 519,\n",
              " 'Nicasio, California': 520,\n",
              " 'Nice, California': 521,\n",
              " 'Nicolaus, California': 522,\n",
              " 'Niland, California': 523,\n",
              " 'Nipinnawasee, California': 524,\n",
              " 'Nipomo, California': 525,\n",
              " 'Norco, California': 526,\n",
              " 'Nord, California': 527,\n",
              " 'Norris Canyon, California': 528,\n",
              " 'North Auburn, California': 529,\n",
              " 'North Edwards, California': 530,\n",
              " 'North El Monte, California': 531,\n",
              " 'North Fair Oaks, California': 532,\n",
              " 'North Gate, California': 533,\n",
              " 'North Highlands, California': 534,\n",
              " 'North Lakeport, California': 535,\n",
              " 'North Richmond, California': 536,\n",
              " 'North San Juan, California': 537,\n",
              " 'North Shore, California': 538,\n",
              " 'North Tustin, California': 539,\n",
              " 'Norwalk, California': 540,\n",
              " 'Novato, California': 541,\n",
              " 'Nubieber, California': 542,\n",
              " 'Nuevo, California': 543,\n",
              " 'Oakdale, California': 544,\n",
              " 'Oak Glen, California': 545,\n",
              " 'Oak Hills, California': 546,\n",
              " 'Oakhurst, California': 547,\n",
              " 'Oakland, California': 548,\n",
              " 'Oakley, California': 549,\n",
              " 'Oak Park, California': 550,\n",
              " 'Oak Shores, California': 551,\n",
              " 'Oak View, California': 552,\n",
              " 'Oakville, California': 553,\n",
              " 'Oasis, California': 554,\n",
              " 'Occidental, California': 555,\n",
              " 'Oceano, California': 556,\n",
              " 'Oceanside, California': 557,\n",
              " 'Ocotillo, California': 558,\n",
              " 'Oildale, California': 559,\n",
              " 'Ojai, California': 560,\n",
              " 'Olancha, California': 561,\n",
              " 'Old Fig Garden, California': 562,\n",
              " 'Old Station, California': 563,\n",
              " 'Olivehurst, California': 564,\n",
              " 'Ontario, California': 565,\n",
              " 'Onyx, California': 566,\n",
              " 'Pleasure Point, California': 567,\n",
              " 'Orange, California': 568,\n",
              " 'Orange Cove, California': 569,\n",
              " 'Orangevale, California': 570,\n",
              " 'Orcutt, California': 571,\n",
              " 'Orick, California': 572,\n",
              " 'Orinda, California': 573,\n",
              " 'Orland, California': 574,\n",
              " 'Orosi, California': 575,\n",
              " 'Oroville, California': 576,\n",
              " 'Oroville East, California': 577,\n",
              " 'Oxnard, California': 578,\n",
              " 'Pacheco, California': 579,\n",
              " 'Pacifica, California': 580,\n",
              " 'Pacific Grove, California': 581,\n",
              " 'Pajaro, California': 582,\n",
              " 'Pajaro Dunes, California': 583,\n",
              " 'Palermo, California': 584,\n",
              " 'Palmdale, California': 585,\n",
              " 'Palm Desert, California': 586,\n",
              " 'Palm Springs, California': 587,\n",
              " 'Palo Alto, California': 588,\n",
              " 'Palo Cedro, California': 589,\n",
              " 'Palos Verdes Estates, California': 590,\n",
              " 'Palo Verde, California': 591,\n",
              " 'Panorama Heights, California': 592,\n",
              " 'Paradise, California': 593,\n",
              " 'Paradise Park, California': 594,\n",
              " 'Paramount, California': 595,\n",
              " 'Parklawn, California': 596,\n",
              " 'Parksdale, California': 597,\n",
              " 'Parkway, California': 598,\n",
              " 'Parkwood, California': 599,\n",
              " 'Parlier, California': 600,\n",
              " 'Pasadena, California': 601,\n",
              " 'Pasatiempo, California': 602,\n",
              " 'Paskenta, California': 603,\n",
              " 'Patterson, California': 604,\n",
              " 'Patterson Tract, California': 605,\n",
              " 'Patton Village, California': 606,\n",
              " 'Paxton, California': 607,\n",
              " 'Paynes Creek, California': 608,\n",
              " 'Pearsonville, California': 609,\n",
              " 'Pedley, California': 610,\n",
              " 'Penngrove, California': 611,\n",
              " 'Penn Valley, California': 612,\n",
              " 'Penryn, California': 613,\n",
              " 'Perris, California': 614,\n",
              " 'Pescadero, California': 615,\n",
              " 'Petaluma, California': 616,\n",
              " 'Peters, California': 617,\n",
              " 'Phelan, California': 618,\n",
              " 'Phillipsville, California': 619,\n",
              " 'Philo, California': 620,\n",
              " 'Phoenix Lake, California': 621,\n",
              " 'Pico Rivera, California': 622,\n",
              " 'Piedmont, California': 623,\n",
              " 'Pierpoint, California': 624,\n",
              " 'Pike, California': 625,\n",
              " 'Pine Canyon, California': 626,\n",
              " 'Pine Flat, California': 627,\n",
              " 'Pine Grove, California': 628,\n",
              " 'Pine Hills, California': 629,\n",
              " 'Pine Mountain Club, California': 630,\n",
              " 'Pine Mountain Lake, California': 631,\n",
              " 'Pine Valley, California': 632,\n",
              " 'Pinole, California': 633,\n",
              " 'Pi?on Hills, California': 634,\n",
              " 'Pioneer, California': 635,\n",
              " 'Piru, California': 636,\n",
              " 'Pismo Beach, California': 637,\n",
              " 'Pittsburg, California': 638,\n",
              " 'Pixley, California': 639,\n",
              " 'Placentia, California': 640,\n",
              " 'Placerville, California': 641,\n",
              " 'Plainview, California': 642,\n",
              " 'Planada, California': 643,\n",
              " 'Pleasant Hill, California': 644,\n",
              " 'Pleasanton, California': 645,\n",
              " 'Plumas Eureka, California': 646,\n",
              " 'Plumas Lake, California': 647,\n",
              " 'Plymouth, California': 648,\n",
              " 'Point Arena, California': 649,\n",
              " 'Point Reyes Station, California': 650,\n",
              " 'Pollock Pines, California': 651,\n",
              " 'Pomona, California': 652,\n",
              " 'Ponderosa, California': 653,\n",
              " 'Poplar-Cotton Center, California': 654,\n",
              " 'Port Costa, California': 655,\n",
              " 'Porterville, California': 656,\n",
              " 'Port Hueneme, California': 657,\n",
              " 'Portola, California': 658,\n",
              " 'Portola Valley, California': 659,\n",
              " 'Posey, California': 660,\n",
              " 'Poso Park, California': 661,\n",
              " 'Potrero, California': 662,\n",
              " 'Potter Valley, California': 663,\n",
              " 'Poway, California': 664,\n",
              " 'Prattville, California': 665,\n",
              " 'Princeton, California': 666,\n",
              " 'Proberta, California': 667,\n",
              " 'Prunedale, California': 668,\n",
              " 'Quartz Hill, California': 669,\n",
              " 'Quincy, California': 670,\n",
              " 'Rackerby, California': 671,\n",
              " 'Rail Road Flat, California': 672,\n",
              " 'Rainbow, California': 673,\n",
              " 'Raisin City, California': 674,\n",
              " 'Ramona, California': 675,\n",
              " 'Rancho Calaveras, California': 676,\n",
              " 'Rancho Cordova, California': 677,\n",
              " 'Rancho Cucamonga, California': 678,\n",
              " 'Rancho Mirage, California': 679,\n",
              " 'Rancho Murieta, California': 680,\n",
              " 'Rancho Palos Verdes, California': 681,\n",
              " 'Rancho San Diego, California': 682,\n",
              " 'Rancho Santa Fe, California': 683,\n",
              " 'Rancho Santa Margarita, California': 684,\n",
              " 'Rancho Tehama Reserve, California': 685,\n",
              " 'Randsburg, California': 686,\n",
              " 'Red Bluff, California': 687,\n",
              " 'Red Corral, California': 688,\n",
              " 'Redcrest, California': 689,\n",
              " 'Redding, California': 690,\n",
              " 'Redlands, California': 691,\n",
              " 'Redondo Beach, California': 692,\n",
              " 'Redway, California': 693,\n",
              " 'Redwood City, California': 694,\n",
              " 'Redwood Valley, California': 695,\n",
              " 'Reedley, California': 696,\n",
              " 'Reliez Valley, California': 697,\n",
              " 'Rialto, California': 698,\n",
              " 'Richfield, California': 699,\n",
              " 'Richgrove, California': 700,\n",
              " 'Richmond, California': 701,\n",
              " 'Richvale, California': 702,\n",
              " 'Ridgecrest, California': 703,\n",
              " 'Ridgemark, California': 704,\n",
              " 'Rio Dell, California': 705,\n",
              " 'Rio del Mar, California': 706,\n",
              " 'Rio Linda, California': 707,\n",
              " 'Rio Oso, California': 708,\n",
              " 'Rio Vista, California': 709,\n",
              " 'Ripley, California': 710,\n",
              " 'Ripon, California': 711,\n",
              " 'Riverbank, California': 712,\n",
              " 'Riverdale, California': 713,\n",
              " 'Riverdale Park, California': 714,\n",
              " 'River Pines, California': 715,\n",
              " 'Riverside, California': 716,\n",
              " 'Robbins, California': 717,\n",
              " 'Robinson Mill, California': 718,\n",
              " 'Rocklin, California': 719,\n",
              " 'Rodeo, California': 720,\n",
              " 'Rodriguez Camp, California': 721,\n",
              " 'Rohnert Park, California': 722,\n",
              " 'Rolling Hills, California': 723,\n",
              " 'Rolling Hills Estates, California': 724,\n",
              " 'Rollingwood, California': 725,\n",
              " 'Romoland, California': 726,\n",
              " 'Rosamond, California': 727,\n",
              " 'Rosedale, California': 728,\n",
              " 'Rose Hills, California': 729,\n",
              " 'Roseland, California': 730,\n",
              " 'Rosemead, California': 731,\n",
              " 'Rosemont, California': 732,\n",
              " 'Roseville, California': 733,\n",
              " 'Ross, California': 734,\n",
              " 'Rossmoor, California': 735,\n",
              " 'Rough and Ready, California': 736,\n",
              " 'Round Mountain, California': 737,\n",
              " 'Round Valley, California': 738,\n",
              " 'Rouse, California': 739,\n",
              " 'Rowland Heights, California': 740,\n",
              " 'Rubidoux, California': 741,\n",
              " 'Running Springs, California': 742,\n",
              " 'Ruth, California': 743,\n",
              " 'Rutherford, California': 744,\n",
              " 'Sacramento, California': 745,\n",
              " 'St. Helena, California': 746,\n",
              " 'Salida, California': 747,\n",
              " 'Salinas, California': 748,\n",
              " 'Salmon Creek, California': 749,\n",
              " 'Salton City, California': 750,\n",
              " 'Salton Sea Beach, California': 751,\n",
              " 'Samoa, California': 752,\n",
              " 'San Andreas, California': 753,\n",
              " 'San Anselmo, California': 754,\n",
              " 'San Antonio Heights, California': 755,\n",
              " 'San Ardo, California': 756,\n",
              " 'San Bernardino, California': 757,\n",
              " 'San Bruno, California': 758,\n",
              " 'San Buenaventura (Ventura), California': 759,\n",
              " 'San Carlos, California': 760,\n",
              " 'San Clemente, California': 761,\n",
              " 'Sand City, California': 762,\n",
              " 'San Diego, California': 763,\n",
              " 'San Diego Country Estates, California': 764,\n",
              " 'San Dimas, California': 765,\n",
              " 'San Fernando, California': 766,\n",
              " 'San Francisco, California': 767,\n",
              " 'San Gabriel, California': 768,\n",
              " 'Sanger, California': 769,\n",
              " 'San Geronimo, California': 770,\n",
              " 'San Jacinto, California': 771,\n",
              " 'San Joaquin, California': 772,\n",
              " 'San Jose, California': 773,\n",
              " 'San Juan Bautista, California': 774,\n",
              " 'San Juan Capistrano, California': 775,\n",
              " 'San Leandro, California': 776,\n",
              " 'San Lorenzo, California': 777,\n",
              " 'San Lucas, California': 778,\n",
              " 'San Luis Obispo, California': 779,\n",
              " 'San Marcos, California': 780,\n",
              " 'San Marino, California': 781,\n",
              " 'San Martin, California': 782,\n",
              " 'San Mateo, California': 783,\n",
              " 'San Miguel (Contra Costa County), California': 784,\n",
              " 'San Miguel (San Luis Obispo County), California': 785,\n",
              " 'San Pablo, California': 786,\n",
              " 'San Pasqual, California': 787,\n",
              " 'San Rafael, California': 788,\n",
              " 'San Ramon, California': 789,\n",
              " 'San Simeon, California': 790,\n",
              " 'Santa Ana, California': 791,\n",
              " 'Santa Barbara, California': 792,\n",
              " 'Santa Clara, California': 793,\n",
              " 'Santa Clarita, California': 794,\n",
              " 'Santa Cruz, California': 795,\n",
              " 'Santa Fe Springs, California': 796,\n",
              " 'Santa Margarita, California': 797,\n",
              " 'Santa Maria, California': 798,\n",
              " 'Santa Monica, California': 799,\n",
              " 'Santa Nella, California': 800,\n",
              " 'Santa Paula, California': 801,\n",
              " 'Santa Rosa, California': 802,\n",
              " 'Santa Rosa Valley, California': 803,\n",
              " 'Santa Susana, California': 804,\n",
              " 'Santa Venetia, California': 805,\n",
              " 'Santa Ynez, California': 806,\n",
              " 'Santee, California': 807,\n",
              " 'Saranap, California': 808,\n",
              " 'Saratoga, California': 809,\n",
              " 'Saticoy, California': 810,\n",
              " 'Sattley, California': 811,\n",
              " 'Sausalito, California': 812,\n",
              " 'Scotia, California': 813,\n",
              " 'Scotts Valley, California': 814,\n",
              " 'Seacliff, California': 815,\n",
              " 'Seal Beach, California': 816,\n",
              " 'Sea Ranch, California': 817,\n",
              " 'Searles Valley, California': 818,\n",
              " 'Seaside, California': 819,\n",
              " 'Sebastopol, California': 820,\n",
              " 'Seeley, California': 821,\n",
              " 'Selma, California': 822,\n",
              " 'Sequoia Crest, California': 823,\n",
              " 'Sereno del Mar, California': 824,\n",
              " 'Seville, California': 825,\n",
              " 'Shackelford, California': 826,\n",
              " 'Shafter, California': 827,\n",
              " 'Shandon, California': 828,\n",
              " 'Shasta, California': 829,\n",
              " 'Shasta Lake, California': 830,\n",
              " 'Shaver Lake, California': 831,\n",
              " 'Shell Ridge, California': 832,\n",
              " 'Shelter Cove, California': 833,\n",
              " 'Sheridan, California': 834,\n",
              " 'Shingle Springs, California': 835,\n",
              " 'Shingletown, California': 836,\n",
              " 'Shoshone, California': 837,\n",
              " 'Sierra Brooks, California': 838,\n",
              " 'Sierra City, California': 839,\n",
              " 'Sierra Madre, California': 840,\n",
              " 'Sierra Village, California': 841,\n",
              " 'Sierraville, California': 842,\n",
              " 'Signal Hill, California': 843,\n",
              " 'Silverado Resort, California': 844,\n",
              " 'Silver City, California': 845,\n",
              " 'Silver Lakes, California': 846,\n",
              " 'Simi Valley, California': 847,\n",
              " 'Sisquoc, California': 848,\n",
              " 'Sky Valley, California': 849,\n",
              " 'Sleepy Hollow, California': 850,\n",
              " 'Smartsville, California': 851,\n",
              " 'Smith Corner, California': 852,\n",
              " 'Smith River, California': 853,\n",
              " 'Snelling, California': 854,\n",
              " 'Soda Bay, California': 855,\n",
              " 'Soda Springs, California': 856,\n",
              " 'Solana Beach, California': 857,\n",
              " 'Soledad, California': 858,\n",
              " 'Solvang, California': 859,\n",
              " 'Sonoma, California': 860,\n",
              " 'Sonora, California': 861,\n",
              " 'Soquel, California': 862,\n",
              " 'Soulsbyville, California': 863,\n",
              " 'South Dos Palos, California': 864,\n",
              " 'South El Monte, California': 865,\n",
              " 'South Gate, California': 866,\n",
              " 'South Lake Tahoe, California': 867,\n",
              " 'South Monrovia Island, California': 868,\n",
              " 'South Oroville, California': 869,\n",
              " 'South Pasadena, California': 870,\n",
              " 'South San Francisco, California': 871,\n",
              " 'South San Gabriel, California': 872,\n",
              " 'South San Jose Hills, California': 873,\n",
              " 'South Taft, California': 874,\n",
              " 'South Whittier, California': 875,\n",
              " 'Spaulding, California': 876,\n",
              " 'Spreckels, California': 877,\n",
              " 'Spring Garden, California': 878,\n",
              " 'Spring Valley (Lake County), California': 879,\n",
              " 'Spring Valley (San Diego County), California': 880,\n",
              " 'Spring Valley Lake, California': 881,\n",
              " 'Springville, California': 882,\n",
              " 'Squaw Valley, California': 883,\n",
              " 'Squirrel Mountain Valley, California': 884,\n",
              " 'Stallion Springs, California': 885,\n",
              " 'Stanford, California': 886,\n",
              " 'Stanton, California': 887,\n",
              " 'Stevenson Ranch, California': 888,\n",
              " 'Stevinson, California': 889,\n",
              " 'Stinson Beach, California': 890,\n",
              " 'Stirling City, California': 891,\n",
              " 'Stockton, California': 892,\n",
              " 'Stonyford, California': 893,\n",
              " 'Storrie, California': 894,\n",
              " 'Stratford, California': 895,\n",
              " 'Strathmore, California': 896,\n",
              " 'Strawberry (Marin County), California': 897,\n",
              " 'Strawberry (Tuolumne County), California': 898,\n",
              " 'Sugarloaf Mountain Park, California': 899,\n",
              " 'Sugarloaf Saw Mill, California': 900,\n",
              " 'Sugarloaf Village, California': 901,\n",
              " 'Suisun City, California': 902,\n",
              " 'Sultana, California': 903,\n",
              " 'Summerland, California': 904,\n",
              " 'Sunnyside, California': 905,\n",
              " 'Sunnyside-Tahoe City, California': 906,\n",
              " 'Sunnyslope, California': 907,\n",
              " 'Sunny Slopes, California': 908,\n",
              " 'Sunnyvale, California': 909,\n",
              " 'Sunol, California': 910,\n",
              " 'Sunset Beach, California': 911,\n",
              " 'Sun Village, California': 912,\n",
              " 'Susanville, California': 913,\n",
              " 'Sutter, California': 914,\n",
              " 'Sutter Creek, California': 915,\n",
              " 'Swall Meadows, California': 916,\n",
              " 'Taft, California': 917,\n",
              " 'Taft Heights, California': 918,\n",
              " 'Taft Mosswood, California': 919,\n",
              " 'Tahoe Vista, California': 920,\n",
              " 'Tahoma, California': 921,\n",
              " 'Talmage, California': 922,\n",
              " 'Tamalpais-Homestead Valley, California': 923,\n",
              " 'Tara Hills, California': 924,\n",
              " 'Tarpey Village, California': 925,\n",
              " 'Taylorsville, California': 926,\n",
              " 'Tecopa, California': 927,\n",
              " 'Tehachapi, California': 928,\n",
              " 'Tehama, California': 929,\n",
              " 'Temecula, California': 930,\n",
              " 'Temelec, California': 931,\n",
              " 'Temescal Valley, California': 932,\n",
              " 'Temple City, California': 933,\n",
              " 'Templeton, California': 934,\n",
              " 'Tennant, California': 935,\n",
              " 'Terminous, California': 936,\n",
              " 'Terra Bella, California': 937,\n",
              " 'Teviston, California': 938,\n",
              " 'Thermal, California': 939,\n",
              " 'Thermalito, California': 940,\n",
              " 'Thornton, California': 941,\n",
              " 'Thousand Oaks, California': 942,\n",
              " 'Thousand Palms, California': 943,\n",
              " 'Three Rivers, California': 944,\n",
              " 'Three Rocks, California': 945,\n",
              " 'Tiburon, California': 946,\n",
              " 'Timber Cove, California': 947,\n",
              " 'Tipton, California': 948,\n",
              " 'Tobin, California': 949,\n",
              " 'Tomales, California': 950,\n",
              " 'Tonyville, California': 951,\n",
              " 'Tooleville, California': 952,\n",
              " 'Topanga, California': 953,\n",
              " 'Topaz, California': 954,\n",
              " 'Toro Canyon, California': 955,\n",
              " 'Torrance, California': 956,\n",
              " 'Tracy, California': 957,\n",
              " 'Tranquillity, California': 958,\n",
              " 'Traver, California': 959,\n",
              " 'Tres Pinos, California': 960,\n",
              " 'Trinidad, California': 961,\n",
              " 'Trinity Center, California': 962,\n",
              " 'Trinity Village, California': 963,\n",
              " 'Trona, California': 964,\n",
              " 'Trowbridge, California': 965,\n",
              " 'Truckee, California': 966,\n",
              " 'Tulare, California': 967,\n",
              " 'Tulelake, California': 968,\n",
              " 'Tuolumne City, California': 969,\n",
              " 'Tupman, California': 970,\n",
              " 'Turlock, California': 971,\n",
              " 'Tustin, California': 972,\n",
              " 'Tuttle, California': 973,\n",
              " 'Tuttletown, California': 974,\n",
              " 'Acalanes Ridge, California': 2895,\n",
              " 'Acampo, California': 2896,\n",
              " 'Acton, California': 2897,\n",
              " 'Adelanto, California': 2898,\n",
              " 'Adin, California': 2899,\n",
              " 'Agoura Hills, California': 2900,\n",
              " 'Agua Dulce, California': 2901,\n",
              " 'Aguanga, California': 2902,\n",
              " 'Ahwahnee, California': 2903,\n",
              " 'Airport, California': 2904,\n",
              " 'Alameda, California': 2905,\n",
              " 'Alamo, California': 2906,\n",
              " 'Albany, California': 2907,\n",
              " 'Albion, California': 2908,\n",
              " 'Alderpoint, California': 2909,\n",
              " 'Alhambra, California': 2910,\n",
              " 'Alhambra Valley, California': 2911,\n",
              " 'Aliso Viejo, California': 2912,\n",
              " 'Alleghany, California': 2913,\n",
              " 'Allendale, California': 2914,\n",
              " 'Allensworth, California': 2915,\n",
              " 'Almanor, California': 2916,\n",
              " 'Alondra Park, California': 2917,\n",
              " 'Alpaugh, California': 2918,\n",
              " 'Alpine, California': 2919,\n",
              " ...}"
            ]
          },
          "metadata": {
            "tags": []
          },
          "execution_count": 126
        }
      ]
    },
    {
      "cell_type": "code",
      "metadata": {
        "id": "T91MEquig7HE"
      },
      "source": [
        "# Data to be written  \r\n",
        "with open(\"city_state_json.py\", \"w\") as outfile:  \r\n",
        "    json.dump(city_state__id_num, outfile) "
      ],
      "execution_count": null,
      "outputs": []
    },
    {
      "cell_type": "code",
      "metadata": {
        "id": "Ya0H0PFXhtsc"
      },
      "source": [
        ""
      ],
      "execution_count": null,
      "outputs": []
    }
  ]
}